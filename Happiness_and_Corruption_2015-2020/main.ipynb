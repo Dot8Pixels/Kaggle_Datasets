{
 "cells": [
  {
   "cell_type": "code",
   "execution_count": 109,
   "metadata": {},
   "outputs": [],
   "source": [
    "#Importing the basic librarires fot analysis\n",
    "\n",
    "import numpy as np\n",
    "import pandas as pd\n",
    "import seaborn as sns\n",
    "import matplotlib.pyplot as plt\n",
    "plt.style.use(\"ggplot\")  #using style ggplot\n",
    "\n",
    "%matplotlib inline\n",
    "from mpl_toolkits.mplot3d import Axes3D\n",
    "import datetime as dt\n",
    "import plotly.graph_objects as go\n",
    "import plotly.express as px"
   ]
  },
  {
   "cell_type": "code",
   "execution_count": 110,
   "metadata": {},
   "outputs": [
    {
     "data": {
      "text/html": [
       "<div>\n",
       "<style scoped>\n",
       "    .dataframe tbody tr th:only-of-type {\n",
       "        vertical-align: middle;\n",
       "    }\n",
       "\n",
       "    .dataframe tbody tr th {\n",
       "        vertical-align: top;\n",
       "    }\n",
       "\n",
       "    .dataframe thead th {\n",
       "        text-align: right;\n",
       "    }\n",
       "</style>\n",
       "<table border=\"1\" class=\"dataframe\">\n",
       "  <thead>\n",
       "    <tr style=\"text-align: right;\">\n",
       "      <th></th>\n",
       "      <th>Country</th>\n",
       "      <th>happiness_score</th>\n",
       "      <th>gdp_per_capita</th>\n",
       "      <th>family</th>\n",
       "      <th>health</th>\n",
       "      <th>freedom</th>\n",
       "      <th>generosity</th>\n",
       "      <th>government_trust</th>\n",
       "      <th>dystopia_residual</th>\n",
       "      <th>continent</th>\n",
       "      <th>Year</th>\n",
       "      <th>social_support</th>\n",
       "      <th>cpi_score</th>\n",
       "    </tr>\n",
       "  </thead>\n",
       "  <tbody>\n",
       "    <tr>\n",
       "      <th>0</th>\n",
       "      <td>Norway</td>\n",
       "      <td>7.537</td>\n",
       "      <td>1.616463</td>\n",
       "      <td>1.533524</td>\n",
       "      <td>0.796667</td>\n",
       "      <td>0.635423</td>\n",
       "      <td>0.362012</td>\n",
       "      <td>0.315964</td>\n",
       "      <td>2.277027</td>\n",
       "      <td>Europe</td>\n",
       "      <td>2015</td>\n",
       "      <td>0.0</td>\n",
       "      <td>88</td>\n",
       "    </tr>\n",
       "    <tr>\n",
       "      <th>1</th>\n",
       "      <td>Denmark</td>\n",
       "      <td>7.522</td>\n",
       "      <td>1.482383</td>\n",
       "      <td>1.551122</td>\n",
       "      <td>0.792566</td>\n",
       "      <td>0.626007</td>\n",
       "      <td>0.355280</td>\n",
       "      <td>0.400770</td>\n",
       "      <td>2.313707</td>\n",
       "      <td>Europe</td>\n",
       "      <td>2015</td>\n",
       "      <td>0.0</td>\n",
       "      <td>91</td>\n",
       "    </tr>\n",
       "    <tr>\n",
       "      <th>2</th>\n",
       "      <td>Iceland</td>\n",
       "      <td>7.504</td>\n",
       "      <td>1.480633</td>\n",
       "      <td>1.610574</td>\n",
       "      <td>0.833552</td>\n",
       "      <td>0.627163</td>\n",
       "      <td>0.475540</td>\n",
       "      <td>0.153527</td>\n",
       "      <td>2.322715</td>\n",
       "      <td>Europe</td>\n",
       "      <td>2015</td>\n",
       "      <td>0.0</td>\n",
       "      <td>79</td>\n",
       "    </tr>\n",
       "    <tr>\n",
       "      <th>3</th>\n",
       "      <td>Switzerland</td>\n",
       "      <td>7.494</td>\n",
       "      <td>1.564980</td>\n",
       "      <td>1.516912</td>\n",
       "      <td>0.858131</td>\n",
       "      <td>0.620071</td>\n",
       "      <td>0.290549</td>\n",
       "      <td>0.367007</td>\n",
       "      <td>2.276716</td>\n",
       "      <td>Europe</td>\n",
       "      <td>2015</td>\n",
       "      <td>0.0</td>\n",
       "      <td>86</td>\n",
       "    </tr>\n",
       "    <tr>\n",
       "      <th>4</th>\n",
       "      <td>Finland</td>\n",
       "      <td>7.469</td>\n",
       "      <td>1.443572</td>\n",
       "      <td>1.540247</td>\n",
       "      <td>0.809158</td>\n",
       "      <td>0.617951</td>\n",
       "      <td>0.245483</td>\n",
       "      <td>0.382612</td>\n",
       "      <td>2.430182</td>\n",
       "      <td>Europe</td>\n",
       "      <td>2015</td>\n",
       "      <td>0.0</td>\n",
       "      <td>90</td>\n",
       "    </tr>\n",
       "  </tbody>\n",
       "</table>\n",
       "</div>"
      ],
      "text/plain": [
       "       Country  happiness_score  gdp_per_capita    family    health   freedom  \\\n",
       "0       Norway            7.537        1.616463  1.533524  0.796667  0.635423   \n",
       "1      Denmark            7.522        1.482383  1.551122  0.792566  0.626007   \n",
       "2      Iceland            7.504        1.480633  1.610574  0.833552  0.627163   \n",
       "3  Switzerland            7.494        1.564980  1.516912  0.858131  0.620071   \n",
       "4      Finland            7.469        1.443572  1.540247  0.809158  0.617951   \n",
       "\n",
       "   generosity  government_trust  dystopia_residual continent  Year  \\\n",
       "0    0.362012          0.315964           2.277027    Europe  2015   \n",
       "1    0.355280          0.400770           2.313707    Europe  2015   \n",
       "2    0.475540          0.153527           2.322715    Europe  2015   \n",
       "3    0.290549          0.367007           2.276716    Europe  2015   \n",
       "4    0.245483          0.382612           2.430182    Europe  2015   \n",
       "\n",
       "   social_support  cpi_score  \n",
       "0             0.0         88  \n",
       "1             0.0         91  \n",
       "2             0.0         79  \n",
       "3             0.0         86  \n",
       "4             0.0         90  "
      ]
     },
     "execution_count": 110,
     "metadata": {},
     "output_type": "execute_result"
    }
   ],
   "source": [
    "#Importing the dataset\n",
    "\n",
    "df = pd.read_csv(\"./dataset/WorldHappiness_Corruption_2015_2020.csv\")\n",
    "\n",
    "# look the dataset\n",
    "df.head()"
   ]
  },
  {
   "cell_type": "code",
   "execution_count": 111,
   "metadata": {},
   "outputs": [
    {
     "name": "stdout",
     "output_type": "stream",
     "text": [
      "The Shape of Dataset = (792, 13)\n"
     ]
    }
   ],
   "source": [
    "# looking the shape DataSet\n",
    "\n",
    "print(f\"The Shape of Dataset = {df.shape}\")"
   ]
  },
  {
   "cell_type": "code",
   "execution_count": 112,
   "metadata": {},
   "outputs": [
    {
     "name": "stdout",
     "output_type": "stream",
     "text": [
      "<class 'pandas.core.frame.DataFrame'>\n",
      "RangeIndex: 792 entries, 0 to 791\n",
      "Data columns (total 13 columns):\n",
      " #   Column             Non-Null Count  Dtype  \n",
      "---  ------             --------------  -----  \n",
      " 0   Country            792 non-null    object \n",
      " 1   happiness_score    792 non-null    float64\n",
      " 2   gdp_per_capita     792 non-null    float64\n",
      " 3   family             792 non-null    float64\n",
      " 4   health             792 non-null    float64\n",
      " 5   freedom            792 non-null    float64\n",
      " 6   generosity         792 non-null    float64\n",
      " 7   government_trust   792 non-null    float64\n",
      " 8   dystopia_residual  792 non-null    float64\n",
      " 9   continent          792 non-null    object \n",
      " 10  Year               792 non-null    int64  \n",
      " 11  social_support     792 non-null    float64\n",
      " 12  cpi_score          792 non-null    int64  \n",
      "dtypes: float64(9), int64(2), object(2)\n",
      "memory usage: 80.6+ KB\n"
     ]
    }
   ],
   "source": [
    "#Checking the dtypes of all the columns\n",
    "\n",
    "df.info()"
   ]
  },
  {
   "cell_type": "code",
   "execution_count": 113,
   "metadata": {},
   "outputs": [
    {
     "data": {
      "text/plain": [
       "Country              0\n",
       "happiness_score      0\n",
       "gdp_per_capita       0\n",
       "family               0\n",
       "health               0\n",
       "freedom              0\n",
       "generosity           0\n",
       "government_trust     0\n",
       "dystopia_residual    0\n",
       "continent            0\n",
       "Year                 0\n",
       "social_support       0\n",
       "cpi_score            0\n",
       "dtype: int64"
      ]
     },
     "execution_count": 113,
     "metadata": {},
     "output_type": "execute_result"
    }
   ],
   "source": [
    "#checking null value \n",
    "\n",
    "df.isnull().sum()"
   ]
  },
  {
   "cell_type": "code",
   "execution_count": 114,
   "metadata": {},
   "outputs": [
    {
     "data": {
      "text/plain": [
       "0"
      ]
     },
     "execution_count": 114,
     "metadata": {},
     "output_type": "execute_result"
    }
   ],
   "source": [
    "#checking duplicated value \n",
    "\n",
    "df.duplicated().sum()"
   ]
  },
  {
   "cell_type": "code",
   "execution_count": 115,
   "metadata": {},
   "outputs": [
    {
     "data": {
      "text/html": [
       "<div>\n",
       "<style scoped>\n",
       "    .dataframe tbody tr th:only-of-type {\n",
       "        vertical-align: middle;\n",
       "    }\n",
       "\n",
       "    .dataframe tbody tr th {\n",
       "        vertical-align: top;\n",
       "    }\n",
       "\n",
       "    .dataframe thead th {\n",
       "        text-align: right;\n",
       "    }\n",
       "</style>\n",
       "<table border=\"1\" class=\"dataframe\">\n",
       "  <thead>\n",
       "    <tr style=\"text-align: right;\">\n",
       "      <th></th>\n",
       "      <th>happiness_score</th>\n",
       "      <th>gdp_per_capita</th>\n",
       "      <th>family</th>\n",
       "      <th>health</th>\n",
       "      <th>freedom</th>\n",
       "      <th>generosity</th>\n",
       "      <th>government_trust</th>\n",
       "      <th>dystopia_residual</th>\n",
       "      <th>Year</th>\n",
       "      <th>social_support</th>\n",
       "      <th>cpi_score</th>\n",
       "    </tr>\n",
       "  </thead>\n",
       "  <tbody>\n",
       "    <tr>\n",
       "      <th>count</th>\n",
       "      <td>792.00</td>\n",
       "      <td>792.00</td>\n",
       "      <td>792.00</td>\n",
       "      <td>792.00</td>\n",
       "      <td>792.00</td>\n",
       "      <td>792.00</td>\n",
       "      <td>792.00</td>\n",
       "      <td>792.00</td>\n",
       "      <td>792.00</td>\n",
       "      <td>792.00</td>\n",
       "      <td>792.00</td>\n",
       "    </tr>\n",
       "    <tr>\n",
       "      <th>mean</th>\n",
       "      <td>5.47</td>\n",
       "      <td>0.93</td>\n",
       "      <td>0.50</td>\n",
       "      <td>0.65</td>\n",
       "      <td>0.43</td>\n",
       "      <td>0.21</td>\n",
       "      <td>0.13</td>\n",
       "      <td>1.38</td>\n",
       "      <td>2017.50</td>\n",
       "      <td>0.61</td>\n",
       "      <td>44.33</td>\n",
       "    </tr>\n",
       "    <tr>\n",
       "      <th>std</th>\n",
       "      <td>1.12</td>\n",
       "      <td>0.39</td>\n",
       "      <td>0.55</td>\n",
       "      <td>0.23</td>\n",
       "      <td>0.15</td>\n",
       "      <td>0.12</td>\n",
       "      <td>0.11</td>\n",
       "      <td>1.08</td>\n",
       "      <td>1.71</td>\n",
       "      <td>0.64</td>\n",
       "      <td>19.51</td>\n",
       "    </tr>\n",
       "    <tr>\n",
       "      <th>min</th>\n",
       "      <td>2.57</td>\n",
       "      <td>0.00</td>\n",
       "      <td>0.00</td>\n",
       "      <td>0.00</td>\n",
       "      <td>0.00</td>\n",
       "      <td>0.00</td>\n",
       "      <td>0.00</td>\n",
       "      <td>0.00</td>\n",
       "      <td>2015.00</td>\n",
       "      <td>0.00</td>\n",
       "      <td>11.00</td>\n",
       "    </tr>\n",
       "    <tr>\n",
       "      <th>25%</th>\n",
       "      <td>4.59</td>\n",
       "      <td>0.64</td>\n",
       "      <td>0.00</td>\n",
       "      <td>0.51</td>\n",
       "      <td>0.33</td>\n",
       "      <td>0.13</td>\n",
       "      <td>0.05</td>\n",
       "      <td>0.00</td>\n",
       "      <td>2016.00</td>\n",
       "      <td>0.00</td>\n",
       "      <td>30.00</td>\n",
       "    </tr>\n",
       "    <tr>\n",
       "      <th>50%</th>\n",
       "      <td>5.49</td>\n",
       "      <td>0.99</td>\n",
       "      <td>0.00</td>\n",
       "      <td>0.69</td>\n",
       "      <td>0.44</td>\n",
       "      <td>0.20</td>\n",
       "      <td>0.09</td>\n",
       "      <td>1.73</td>\n",
       "      <td>2017.50</td>\n",
       "      <td>0.18</td>\n",
       "      <td>38.00</td>\n",
       "    </tr>\n",
       "    <tr>\n",
       "      <th>75%</th>\n",
       "      <td>6.30</td>\n",
       "      <td>1.23</td>\n",
       "      <td>1.04</td>\n",
       "      <td>0.82</td>\n",
       "      <td>0.55</td>\n",
       "      <td>0.27</td>\n",
       "      <td>0.15</td>\n",
       "      <td>2.24</td>\n",
       "      <td>2019.00</td>\n",
       "      <td>1.27</td>\n",
       "      <td>57.00</td>\n",
       "    </tr>\n",
       "    <tr>\n",
       "      <th>max</th>\n",
       "      <td>7.81</td>\n",
       "      <td>2.10</td>\n",
       "      <td>1.61</td>\n",
       "      <td>1.14</td>\n",
       "      <td>0.72</td>\n",
       "      <td>0.84</td>\n",
       "      <td>0.55</td>\n",
       "      <td>3.60</td>\n",
       "      <td>2020.00</td>\n",
       "      <td>1.64</td>\n",
       "      <td>91.00</td>\n",
       "    </tr>\n",
       "  </tbody>\n",
       "</table>\n",
       "</div>"
      ],
      "text/plain": [
       "       happiness_score  gdp_per_capita  family  health  freedom  generosity  \\\n",
       "count           792.00          792.00  792.00  792.00   792.00      792.00   \n",
       "mean              5.47            0.93    0.50    0.65     0.43        0.21   \n",
       "std               1.12            0.39    0.55    0.23     0.15        0.12   \n",
       "min               2.57            0.00    0.00    0.00     0.00        0.00   \n",
       "25%               4.59            0.64    0.00    0.51     0.33        0.13   \n",
       "50%               5.49            0.99    0.00    0.69     0.44        0.20   \n",
       "75%               6.30            1.23    1.04    0.82     0.55        0.27   \n",
       "max               7.81            2.10    1.61    1.14     0.72        0.84   \n",
       "\n",
       "       government_trust  dystopia_residual     Year  social_support  cpi_score  \n",
       "count            792.00             792.00   792.00          792.00     792.00  \n",
       "mean               0.13               1.38  2017.50            0.61      44.33  \n",
       "std                0.11               1.08     1.71            0.64      19.51  \n",
       "min                0.00               0.00  2015.00            0.00      11.00  \n",
       "25%                0.05               0.00  2016.00            0.00      30.00  \n",
       "50%                0.09               1.73  2017.50            0.18      38.00  \n",
       "75%                0.15               2.24  2019.00            1.27      57.00  \n",
       "max                0.55               3.60  2020.00            1.64      91.00  "
      ]
     },
     "execution_count": 115,
     "metadata": {},
     "output_type": "execute_result"
    }
   ],
   "source": [
    "# looking describe dataset\n",
    "\n",
    "df.describe().round(2)"
   ]
  },
  {
   "cell_type": "code",
   "execution_count": 116,
   "metadata": {},
   "outputs": [
    {
     "data": {
      "text/plain": [
       "array(['Norway', 'Denmark', 'Iceland', 'Switzerland', 'Finland',\n",
       "       'Netherlands', 'Canada', 'New Zealand', 'Sweden', 'Australia',\n",
       "       'Israel', 'Costa Rica', 'Austria', 'United States', 'Ireland',\n",
       "       'Germany', 'Belgium', 'Luxembourg', 'United Kingdom', 'Chile',\n",
       "       'United Arab Emirates', 'Brazil', 'Argentina', 'Mexico',\n",
       "       'Singapore', 'Malta', 'Guatemala', 'Uruguay', 'Panama', 'France',\n",
       "       'Thailand', 'Spain', 'Colombia', 'Saudi Arabia', 'Kuwait',\n",
       "       'Slovakia', 'Bahrain', 'Malaysia', 'Nicaragua', 'Ecuador',\n",
       "       'El Salvador', 'Poland', 'Uzbekistan', 'Italy', 'Russia', 'Japan',\n",
       "       'Lithuania', 'Algeria', 'Latvia', 'Moldova', 'Romania', 'Bolivia',\n",
       "       'Turkmenistan', 'Kazakhstan', 'Slovenia', 'Peru', 'Mauritius',\n",
       "       'Cyprus', 'Estonia', 'Belarus', 'Libya', 'Turkey', 'Paraguay',\n",
       "       'Philippines', 'Serbia', 'Jordan', 'Hungary', 'Jamaica', 'Croatia',\n",
       "       'Kosovo', 'China', 'Pakistan', 'Indonesia', 'Venezuela',\n",
       "       'Montenegro', 'Morocco', 'Azerbaijan', 'Dominican Republic',\n",
       "       'Greece', 'Lebanon', 'Portugal', 'Bosnia and Herzegovina',\n",
       "       'Honduras', 'Nigeria', 'Vietnam', 'Tajikistan', 'Kyrgyzstan',\n",
       "       'Nepal', 'Mongolia', 'South Africa', 'Tunisia', 'Egypt',\n",
       "       'Bulgaria', 'Sierra Leone', 'Cameroon', 'Iran', 'Albania',\n",
       "       'Bangladesh', 'Kenya', 'Myanmar', 'Senegal', 'Zambia', 'Iraq',\n",
       "       'Gabon', 'Ethiopia', 'Sri Lanka', 'Armenia', 'India', 'Mauritania',\n",
       "       'Georgia', 'Mali', 'Cambodia', 'Ghana', 'Ukraine', 'Uganda',\n",
       "       'Burkina Faso', 'Niger', 'Malawi', 'Chad', 'Zimbabwe',\n",
       "       'Afghanistan', 'Botswana', 'Benin', 'Madagascar', 'Haiti', 'Yemen',\n",
       "       'Liberia', 'Guinea', 'Togo', 'Rwanda', 'Tanzania', 'Burundi'],\n",
       "      dtype=object)"
      ]
     },
     "execution_count": 116,
     "metadata": {},
     "output_type": "execute_result"
    }
   ],
   "source": [
    "# check the unique value in column Country\n",
    "\n",
    "df[\"Country\"].unique()"
   ]
  },
  {
   "cell_type": "code",
   "execution_count": 117,
   "metadata": {},
   "outputs": [
    {
     "name": "stdout",
     "output_type": "stream",
     "text": [
      "We have countries  = 132 \n"
     ]
    }
   ],
   "source": [
    "#How many country we have ?\n",
    "       \n",
    "print(\"We have countries  = {} \".format(df[\"Country\"].nunique()))"
   ]
  },
  {
   "cell_type": "code",
   "execution_count": 118,
   "metadata": {},
   "outputs": [
    {
     "data": {
      "text/plain": [
       "Text(0.5, 1.0, 'The average happiness score in 5 years')"
      ]
     },
     "execution_count": 118,
     "metadata": {},
     "output_type": "execute_result"
    },
    {
     "data": {
      "image/png": "[encoded data removed]",
      "text/plain": [
       "<Figure size 1800x600 with 1 Axes>"
      ]
     },
     "metadata": {},
     "output_type": "display_data"
    }
   ],
   "source": [
    "# show the happiness through all years \n",
    "\n",
    "plt.figure(figsize=(18,6))\n",
    "sns.lineplot(data=df, x=\"Year\", y=\"happiness_score\")\n",
    "plt.title(\"The average happiness score in 5 years\")"
   ]
  },
  {
   "cell_type": "code",
   "execution_count": 119,
   "metadata": {},
   "outputs": [
    {
     "data": {
      "image/png": "[encoded data removed]",
      "text/plain": [
       "<Figure size 500x500 with 1 Axes>"
      ]
     },
     "metadata": {},
     "output_type": "display_data"
    }
   ],
   "source": [
    "# show the continent \n",
    "\n",
    "plt.figure(figsize = [5, 5], clear = True, facecolor = \"#ABB2B9\")\n",
    "df[\"continent\"].value_counts().plot.pie(autopct='%1.3f%%', shadow = True);"
   ]
  },
  {
   "cell_type": "code",
   "execution_count": 120,
   "metadata": {},
   "outputs": [
    {
     "data": {
      "text/plain": [
       "continent\n",
       "Africa           4.353944\n",
       "Asia             5.267553\n",
       "South America    5.865516\n",
       "Europe           6.193717\n",
       "North America    7.000539\n",
       "Australia        7.289033\n",
       "Name: happiness_score, dtype: float64"
      ]
     },
     "execution_count": 120,
     "metadata": {},
     "output_type": "execute_result"
    }
   ],
   "source": [
    "# create group by in continent\n",
    "\n",
    "avg_co= df.groupby(\"continent\")[\"happiness_score\"].mean()\n",
    "avg_co.sort_values()"
   ]
  },
  {
   "cell_type": "code",
   "execution_count": 121,
   "metadata": {},
   "outputs": [
    {
     "data": {
      "text/plain": [
       "<AxesSubplot:xlabel='continent'>"
      ]
     },
     "execution_count": 121,
     "metadata": {},
     "output_type": "execute_result"
    },
    {
     "data": {
      "image/png": "[encoded data removed]",
      "text/plain": [
       "<Figure size 700x400 with 1 Axes>"
      ]
     },
     "metadata": {},
     "output_type": "display_data"
    }
   ],
   "source": [
    "# show the happiness in continent \n",
    "\n",
    "avg_co.sort_values().plot(kind=\"bar\", figsize=(7,4))"
   ]
  },
  {
   "cell_type": "code",
   "execution_count": 122,
   "metadata": {},
   "outputs": [
    {
     "data": {
      "application/vnd.plotly.v1+json": {
       "config": {
        "plotlyServerURL": "https://plot.ly"
       },
       "data": [
        {
         "hovertemplate": "continent=Europe<br>Year=%{x}<br>happiness_score=%{y}<extra></extra>",
         "legendgroup": "",
         "line": {
          "color": "#636efa",
          "dash": "solid"
         },
         "marker": {
          "symbol": "circle"
         },
         "mode": "lines",
         "name": "",
         "orientation": "v",
         "showlegend": false,
         "type": "scatter",
         "x": [
          2015,
          2015,
          2015,
          2015,
          2015,
          2015,
          2015,
          2015,
          2015,
          2015,
          2015,
          2015,
          2015,
          2015,
          2015,
          2015,
          2015,
          2015,
          2015,
          2015,
          2015,
          2015,
          2015,
          2015,
          2015,
          2015,
          2015,
          2015,
          2015,
          2015,
          2015,
          2015,
          2015,
          2015,
          2015,
          2015,
          2015,
          2015,
          2016,
          2016,
          2016,
          2016,
          2016,
          2016,
          2016,
          2016,
          2016,
          2016,
          2016,
          2016,
          2016,
          2016,
          2016,
          2016,
          2016,
          2016,
          2016,
          2016,
          2016,
          2016,
          2016,
          2016,
          2016,
          2016,
          2016,
          2016,
          2016,
          2016,
          2016,
          2016,
          2016,
          2016,
          2016,
          2016,
          2016,
          2016,
          2017,
          2017,
          2017,
          2017,
          2017,
          2017,
          2017,
          2017,
          2017,
          2017,
          2017,
          2017,
          2017,
          2017,
          2017,
          2017,
          2017,
          2017,
          2017,
          2017,
          2017,
          2017,
          2017,
          2017,
          2017,
          2017,
          2017,
          2017,
          2017,
          2017,
          2017,
          2017,
          2017,
          2017,
          2017,
          2017,
          2017,
          2017,
          2018,
          2018,
          2018,
          2018,
          2018,
          2018,
          2018,
          2018,
          2018,
          2018,
          2018,
          2018,
          2018,
          2018,
          2018,
          2018,
          2018,
          2018,
          2018,
          2018,
          2018,
          2018,
          2018,
          2018,
          2018,
          2018,
          2018,
          2018,
          2018,
          2018,
          2018,
          2018,
          2018,
          2018,
          2018,
          2018,
          2018,
          2018,
          2019,
          2019,
          2019,
          2019,
          2019,
          2019,
          2019,
          2019,
          2019,
          2019,
          2019,
          2019,
          2019,
          2019,
          2019,
          2019,
          2019,
          2019,
          2019,
          2019,
          2019,
          2019,
          2019,
          2019,
          2019,
          2019,
          2019,
          2019,
          2019,
          2019,
          2019,
          2019,
          2019,
          2019,
          2019,
          2019,
          2019,
          2019,
          2020,
          2020,
          2020,
          2020,
          2020,
          2020,
          2020,
          2020,
          2020,
          2020,
          2020,
          2020,
          2020,
          2020,
          2020,
          2020,
          2020,
          2020,
          2020,
          2020,
          2020,
          2020,
          2020,
          2020,
          2020,
          2020,
          2020,
          2020,
          2020,
          2020,
          2020,
          2020,
          2020,
          2020,
          2020,
          2020,
          2020,
          2020
         ],
         "xaxis": "x",
         "y": [
          7.537000179,
          7.521999836,
          7.504000187,
          7.493999958,
          7.468999863,
          7.376999855,
          7.28399992,
          7.006000042,
          6.977000237,
          6.951000214,
          6.890999794,
          6.862999916,
          6.714000225,
          6.52699995,
          6.441999912,
          6.402999878,
          6.09800005,
          5.97300005,
          5.964000225,
          5.962999821,
          5.90199995,
          5.849999905,
          5.837999821,
          5.824999809,
          5.757999897,
          5.611000061,
          5.568999767,
          5.394999981,
          5.323999882,
          5.293000221,
          5.278999805,
          5.236999989,
          5.227000237,
          5.195000172,
          5.18200016,
          4.714000225,
          4.644000053,
          4.096000195,
          7.587,
          7.561,
          7.527,
          7.522,
          7.406,
          7.378,
          7.364,
          7.2,
          6.946,
          6.94,
          6.937,
          6.867,
          6.75,
          6.575,
          6.329,
          6.302,
          5.995,
          5.948,
          5.889,
          5.848,
          5.833,
          5.813,
          5.791,
          5.759,
          5.716,
          5.589,
          5.429,
          5.192,
          5.124,
          5.123,
          5.102,
          5.098,
          4.959,
          4.949,
          4.857,
          4.8,
          4.681,
          4.218,
          7.769,
          7.6,
          7.554,
          7.494,
          7.488,
          7.48,
          7.343,
          7.246,
          7.09,
          7.054,
          7.021,
          6.985,
          6.923,
          6.726,
          6.592,
          6.354,
          6.223,
          6.198,
          6.182,
          6.149,
          6.118,
          6.1,
          6.07,
          5.94,
          5.893,
          5.758,
          5.693,
          5.648,
          5.603,
          5.529,
          5.523,
          5.432,
          5.386,
          5.323,
          5.287,
          5.011,
          4.719,
          4.332,
          7.632,
          7.594,
          7.555,
          7.495,
          7.487,
          7.441,
          7.314,
          7.19,
          7.139,
          6.977,
          6.965,
          6.927,
          6.91,
          6.627,
          6.489,
          6.31,
          6.173,
          6.123,
          6,
          5.952,
          5.948,
          5.945,
          5.933,
          5.81,
          5.739,
          5.662,
          5.64,
          5.62,
          5.483,
          5.41,
          5.398,
          5.358,
          5.347,
          5.321,
          5.129,
          4.933,
          4.586,
          4.103,
          7.526,
          7.509,
          7.501,
          7.498,
          7.413,
          7.339,
          7.291,
          7.119,
          6.994,
          6.929,
          6.907,
          6.871,
          6.725,
          6.488,
          6.478,
          6.361,
          6.078,
          5.977,
          5.897,
          5.856,
          5.835,
          5.813,
          5.802,
          5.768,
          5.56,
          5.528,
          5.517,
          5.488,
          5.401,
          5.177,
          5.163,
          5.161,
          5.145,
          5.123,
          5.033,
          4.655,
          4.324,
          4.217,
          7.808700085,
          7.645599842,
          7.559899807,
          7.504499912,
          7.487999916,
          7.448900223,
          7.353499889,
          7.294199944,
          7.237500191,
          7.164500237,
          7.093699932,
          7.075799942,
          6.863500118,
          6.772799969,
          6.663799763,
          6.400899887,
          6.38740015,
          6.363399982,
          6.325200081,
          6.280600071,
          6.215499878,
          6.186299801,
          6.123700142,
          6.021800041,
          6.000400066,
          5.949999809,
          5.910900116,
          5.77820015,
          5.674099922,
          5.607500076,
          5.54610014,
          5.546000004,
          5.539899826,
          5.514999866,
          5.504700184,
          5.101500034,
          4.882699966,
          4.56069994
         ],
         "yaxis": "y"
        }
       ],
       "frames": [
        {
         "data": [
          {
           "hovertemplate": "continent=Europe<br>Year=%{x}<br>happiness_score=%{y}<extra></extra>",
           "legendgroup": "",
           "line": {
            "color": "#636efa",
            "dash": "solid"
           },
           "marker": {
            "symbol": "circle"
           },
           "mode": "lines",
           "name": "",
           "orientation": "v",
           "showlegend": false,
           "type": "scatter",
           "x": [
            2015,
            2015,
            2015,
            2015,
            2015,
            2015,
            2015,
            2015,
            2015,
            2015,
            2015,
            2015,
            2015,
            2015,
            2015,
            2015,
            2015,
            2015,
            2015,
            2015,
            2015,
            2015,
            2015,
            2015,
            2015,
            2015,
            2015,
            2015,
            2015,
            2015,
            2015,
            2015,
            2015,
            2015,
            2015,
            2015,
            2015,
            2015,
            2016,
            2016,
            2016,
            2016,
            2016,
            2016,
            2016,
            2016,
            2016,
            2016,
            2016,
            2016,
            2016,
            2016,
            2016,
            2016,
            2016,
            2016,
            2016,
            2016,
            2016,
            2016,
            2016,
            2016,
            2016,
            2016,
            2016,
            2016,
            2016,
            2016,
            2016,
            2016,
            2016,
            2016,
            2016,
            2016,
            2016,
            2016,
            2017,
            2017,
            2017,
            2017,
            2017,
            2017,
            2017,
            2017,
            2017,
            2017,
            2017,
            2017,
            2017,
            2017,
            2017,
            2017,
            2017,
            2017,
            2017,
            2017,
            2017,
            2017,
            2017,
            2017,
            2017,
            2017,
            2017,
            2017,
            2017,
            2017,
            2017,
            2017,
            2017,
            2017,
            2017,
            2017,
            2017,
            2017,
            2018,
            2018,
            2018,
            2018,
            2018,
            2018,
            2018,
            2018,
            2018,
            2018,
            2018,
            2018,
            2018,
            2018,
            2018,
            2018,
            2018,
            2018,
            2018,
            2018,
            2018,
            2018,
            2018,
            2018,
            2018,
            2018,
            2018,
            2018,
            2018,
            2018,
            2018,
            2018,
            2018,
            2018,
            2018,
            2018,
            2018,
            2018,
            2019,
            2019,
            2019,
            2019,
            2019,
            2019,
            2019,
            2019,
            2019,
            2019,
            2019,
            2019,
            2019,
            2019,
            2019,
            2019,
            2019,
            2019,
            2019,
            2019,
            2019,
            2019,
            2019,
            2019,
            2019,
            2019,
            2019,
            2019,
            2019,
            2019,
            2019,
            2019,
            2019,
            2019,
            2019,
            2019,
            2019,
            2019,
            2020,
            2020,
            2020,
            2020,
            2020,
            2020,
            2020,
            2020,
            2020,
            2020,
            2020,
            2020,
            2020,
            2020,
            2020,
            2020,
            2020,
            2020,
            2020,
            2020,
            2020,
            2020,
            2020,
            2020,
            2020,
            2020,
            2020,
            2020,
            2020,
            2020,
            2020,
            2020,
            2020,
            2020,
            2020,
            2020,
            2020,
            2020
           ],
           "xaxis": "x",
           "y": [
            7.537000179,
            7.521999836,
            7.504000187,
            7.493999958,
            7.468999863,
            7.376999855,
            7.28399992,
            7.006000042,
            6.977000237,
            6.951000214,
            6.890999794,
            6.862999916,
            6.714000225,
            6.52699995,
            6.441999912,
            6.402999878,
            6.09800005,
            5.97300005,
            5.964000225,
            5.962999821,
            5.90199995,
            5.849999905,
            5.837999821,
            5.824999809,
            5.757999897,
            5.611000061,
            5.568999767,
            5.394999981,
            5.323999882,
            5.293000221,
            5.278999805,
            5.236999989,
            5.227000237,
            5.195000172,
            5.18200016,
            4.714000225,
            4.644000053,
            4.096000195,
            7.587,
            7.561,
            7.527,
            7.522,
            7.406,
            7.378,
            7.364,
            7.2,
            6.946,
            6.94,
            6.937,
            6.867,
            6.75,
            6.575,
            6.329,
            6.302,
            5.995,
            5.948,
            5.889,
            5.848,
            5.833,
            5.813,
            5.791,
            5.759,
            5.716,
            5.589,
            5.429,
            5.192,
            5.124,
            5.123,
            5.102,
            5.098,
            4.959,
            4.949,
            4.857,
            4.8,
            4.681,
            4.218,
            7.769,
            7.6,
            7.554,
            7.494,
            7.488,
            7.48,
            7.343,
            7.246,
            7.09,
            7.054,
            7.021,
            6.985,
            6.923,
            6.726,
            6.592,
            6.354,
            6.223,
            6.198,
            6.182,
            6.149,
            6.118,
            6.1,
            6.07,
            5.94,
            5.893,
            5.758,
            5.693,
            5.648,
            5.603,
            5.529,
            5.523,
            5.432,
            5.386,
            5.323,
            5.287,
            5.011,
            4.719,
            4.332,
            7.632,
            7.594,
            7.555,
            7.495,
            7.487,
            7.441,
            7.314,
            7.19,
            7.139,
            6.977,
            6.965,
            6.927,
            6.91,
            6.627,
            6.489,
            6.31,
            6.173,
            6.123,
            6,
            5.952,
            5.948,
            5.945,
            5.933,
            5.81,
            5.739,
            5.662,
            5.64,
            5.62,
            5.483,
            5.41,
            5.398,
            5.358,
            5.347,
            5.321,
            5.129,
            4.933,
            4.586,
            4.103,
            7.526,
            7.509,
            7.501,
            7.498,
            7.413,
            7.339,
            7.291,
            7.119,
            6.994,
            6.929,
            6.907,
            6.871,
            6.725,
            6.488,
            6.478,
            6.361,
            6.078,
            5.977,
            5.897,
            5.856,
            5.835,
            5.813,
            5.802,
            5.768,
            5.56,
            5.528,
            5.517,
            5.488,
            5.401,
            5.177,
            5.163,
            5.161,
            5.145,
            5.123,
            5.033,
            4.655,
            4.324,
            4.217,
            7.808700085,
            7.645599842,
            7.559899807,
            7.504499912,
            7.487999916,
            7.448900223,
            7.353499889,
            7.294199944,
            7.237500191,
            7.164500237,
            7.093699932,
            7.075799942,
            6.863500118,
            6.772799969,
            6.663799763,
            6.400899887,
            6.38740015,
            6.363399982,
            6.325200081,
            6.280600071,
            6.215499878,
            6.186299801,
            6.123700142,
            6.021800041,
            6.000400066,
            5.949999809,
            5.910900116,
            5.77820015,
            5.674099922,
            5.607500076,
            5.54610014,
            5.546000004,
            5.539899826,
            5.514999866,
            5.504700184,
            5.101500034,
            4.882699966,
            4.56069994
           ],
           "yaxis": "y"
          }
         ],
         "name": "Europe"
        },
        {
         "data": [
          {
           "hovertemplate": "continent=North America<br>Year=%{x}<br>happiness_score=%{y}<extra></extra>",
           "legendgroup": "",
           "line": {
            "color": "#636efa",
            "dash": "solid"
           },
           "marker": {
            "symbol": "circle"
           },
           "mode": "lines",
           "name": "",
           "orientation": "v",
           "showlegend": false,
           "type": "scatter",
           "x": [
            2015,
            2015,
            2015,
            2016,
            2016,
            2016,
            2017,
            2017,
            2017,
            2018,
            2018,
            2018,
            2019,
            2019,
            2019,
            2020,
            2020,
            2020
           ],
           "xaxis": "x",
           "y": [
            7.315999985,
            6.993000031,
            6.578000069,
            7.427,
            7.187,
            7.119,
            7.278,
            6.892,
            6.595,
            7.328,
            6.886,
            6.488,
            7.404,
            7.104,
            6.778,
            7.23210001,
            6.939599991,
            6.465000153
           ],
           "yaxis": "y"
          }
         ],
         "name": "North America"
        },
        {
         "data": [
          {
           "hovertemplate": "continent=Australia<br>Year=%{x}<br>happiness_score=%{y}<extra></extra>",
           "legendgroup": "",
           "line": {
            "color": "#636efa",
            "dash": "solid"
           },
           "marker": {
            "symbol": "circle"
           },
           "mode": "lines",
           "name": "",
           "orientation": "v",
           "showlegend": false,
           "type": "scatter",
           "x": [
            2015,
            2015,
            2016,
            2016,
            2017,
            2017,
            2018,
            2018,
            2019,
            2019,
            2020,
            2020
           ],
           "xaxis": "x",
           "y": [
            7.31400013,
            7.28399992,
            7.286,
            7.284,
            7.307,
            7.228,
            7.324,
            7.272,
            7.334,
            7.313,
            7.299600124,
            7.222799778
           ],
           "yaxis": "y"
          }
         ],
         "name": "Australia"
        },
        {
         "data": [
          {
           "hovertemplate": "continent=Asia<br>Year=%{x}<br>happiness_score=%{y}<extra></extra>",
           "legendgroup": "",
           "line": {
            "color": "#636efa",
            "dash": "solid"
           },
           "marker": {
            "symbol": "circle"
           },
           "mode": "lines",
           "name": "",
           "orientation": "v",
           "showlegend": false,
           "type": "scatter",
           "x": [
            2015,
            2015,
            2015,
            2015,
            2015,
            2015,
            2015,
            2015,
            2015,
            2015,
            2015,
            2015,
            2015,
            2015,
            2015,
            2015,
            2015,
            2015,
            2015,
            2015,
            2015,
            2015,
            2015,
            2015,
            2015,
            2015,
            2015,
            2015,
            2015,
            2015,
            2015,
            2015,
            2015,
            2015,
            2015,
            2015,
            2015,
            2016,
            2016,
            2016,
            2016,
            2016,
            2016,
            2016,
            2016,
            2016,
            2016,
            2016,
            2016,
            2016,
            2016,
            2016,
            2016,
            2016,
            2016,
            2016,
            2016,
            2016,
            2016,
            2016,
            2016,
            2016,
            2016,
            2016,
            2016,
            2016,
            2016,
            2016,
            2016,
            2016,
            2016,
            2016,
            2016,
            2016,
            2017,
            2017,
            2017,
            2017,
            2017,
            2017,
            2017,
            2017,
            2017,
            2017,
            2017,
            2017,
            2017,
            2017,
            2017,
            2017,
            2017,
            2017,
            2017,
            2017,
            2017,
            2017,
            2017,
            2017,
            2017,
            2017,
            2017,
            2017,
            2017,
            2017,
            2017,
            2017,
            2017,
            2017,
            2017,
            2017,
            2017,
            2018,
            2018,
            2018,
            2018,
            2018,
            2018,
            2018,
            2018,
            2018,
            2018,
            2018,
            2018,
            2018,
            2018,
            2018,
            2018,
            2018,
            2018,
            2018,
            2018,
            2018,
            2018,
            2018,
            2018,
            2018,
            2018,
            2018,
            2018,
            2018,
            2018,
            2018,
            2018,
            2018,
            2018,
            2018,
            2018,
            2018,
            2019,
            2019,
            2019,
            2019,
            2019,
            2019,
            2019,
            2019,
            2019,
            2019,
            2019,
            2019,
            2019,
            2019,
            2019,
            2019,
            2019,
            2019,
            2019,
            2019,
            2019,
            2019,
            2019,
            2019,
            2019,
            2019,
            2019,
            2019,
            2019,
            2019,
            2019,
            2019,
            2019,
            2019,
            2019,
            2019,
            2019,
            2020,
            2020,
            2020,
            2020,
            2020,
            2020,
            2020,
            2020,
            2020,
            2020,
            2020,
            2020,
            2020,
            2020,
            2020,
            2020,
            2020,
            2020,
            2020,
            2020,
            2020,
            2020,
            2020,
            2020,
            2020,
            2020,
            2020,
            2020,
            2020,
            2020,
            2020,
            2020,
            2020,
            2020,
            2020,
            2020,
            2020
           ],
           "xaxis": "x",
           "y": [
            7.212999821,
            6.647999763,
            6.572000027,
            6.423999786,
            6.343999863,
            6.105000019,
            6.086999893,
            6.084000111,
            5.971000195,
            5.920000076,
            5.822000027,
            5.818999767,
            5.620999813,
            5.5,
            5.429999828,
            5.335999966,
            5.272999763,
            5.269000053,
            5.262000084,
            5.234000206,
            5.224999905,
            5.073999882,
            5.040999889,
            5.004000187,
            4.961999893,
            4.954999924,
            4.691999912,
            4.607999802,
            4.545000076,
            4.497000217,
            4.440000057,
            4.375999928,
            4.315000057,
            4.285999775,
            4.168000221,
            3.79399991,
            3.592999935,
            7.278,
            6.901,
            6.798,
            6.455,
            6.411,
            6.295,
            6.003,
            5.987,
            5.96,
            5.855,
            5.77,
            5.689,
            5.548,
            5.399,
            5.36,
            5.332,
            5.286,
            5.212,
            5.194,
            5.192,
            5.14,
            5.073,
            4.874,
            4.839,
            4.786,
            4.694,
            4.686,
            4.677,
            4.565,
            4.514,
            4.35,
            4.307,
            4.297,
            4.271,
            4.077,
            3.819,
            3.575,
            7.139,
            6.825,
            6.375,
            6.262,
            6.199,
            6.174,
            6.046,
            6.021,
            6.008,
            5.886,
            5.809,
            5.653,
            5.631,
            5.467,
            5.373,
            5.339,
            5.285,
            5.261,
            5.247,
            5.208,
            5.197,
            5.192,
            5.191,
            5.175,
            4.913,
            4.906,
            4.7,
            4.559,
            4.548,
            4.519,
            4.456,
            4.437,
            4.366,
            4.36,
            4.015,
            3.38,
            3.203,
            6.814,
            6.774,
            6.371,
            6.343,
            6.322,
            6.105,
            6.096,
            6.083,
            6.072,
            5.915,
            5.79,
            5.762,
            5.636,
            5.524,
            5.483,
            5.472,
            5.358,
            5.246,
            5.201,
            5.199,
            5.161,
            5.131,
            5.125,
            5.103,
            5.093,
            4.88,
            4.707,
            4.5,
            4.471,
            4.456,
            4.433,
            4.34,
            4.321,
            4.308,
            4.19,
            3.632,
            3.355,
            7.267,
            6.739,
            6.573,
            6.474,
            6.379,
            6.239,
            6.218,
            6.005,
            5.987,
            5.921,
            5.919,
            5.658,
            5.546,
            5.389,
            5.314,
            5.303,
            5.291,
            5.279,
            5.245,
            5.185,
            5.132,
            5.129,
            5.061,
            4.996,
            4.907,
            4.813,
            4.793,
            4.643,
            4.575,
            4.415,
            4.404,
            4.395,
            4.36,
            4.252,
            3.907,
            3.724,
            3.36,
            7.128600121,
            6.790800095,
            6.406499863,
            6.377099991,
            6.257599831,
            6.227300167,
            6.15899992,
            6.102099895,
            6.057899952,
            6.006000042,
            5.998799801,
            5.870800018,
            5.69329977,
            5.555699825,
            5.541500092,
            5.456200123,
            5.384300232,
            5.353499889,
            5.285600185,
            5.164800167,
            5.137199879,
            5.131800175,
            5.123899937,
            5.119100094,
            4.848400116,
            4.832799911,
            4.784800053,
            4.771500111,
            4.676799774,
            4.672599792,
            4.672399998,
            4.633399963,
            4.327000141,
            4.308000088,
            3.573299885,
            3.527400017,
            2.566900015
           ],
           "yaxis": "y"
          }
         ],
         "name": "Asia"
        },
        {
         "data": [
          {
           "hovertemplate": "continent=South America<br>Year=%{x}<br>happiness_score=%{y}<extra></extra>",
           "legendgroup": "",
           "line": {
            "color": "#636efa",
            "dash": "solid"
           },
           "marker": {
            "symbol": "circle"
           },
           "mode": "lines",
           "name": "",
           "orientation": "v",
           "showlegend": false,
           "type": "scatter",
           "x": [
            2015,
            2015,
            2015,
            2015,
            2015,
            2015,
            2015,
            2015,
            2015,
            2015,
            2015,
            2015,
            2015,
            2015,
            2015,
            2015,
            2015,
            2015,
            2015,
            2015,
            2016,
            2016,
            2016,
            2016,
            2016,
            2016,
            2016,
            2016,
            2016,
            2016,
            2016,
            2016,
            2016,
            2016,
            2016,
            2016,
            2016,
            2016,
            2016,
            2016,
            2017,
            2017,
            2017,
            2017,
            2017,
            2017,
            2017,
            2017,
            2017,
            2017,
            2017,
            2017,
            2017,
            2017,
            2017,
            2017,
            2017,
            2017,
            2017,
            2017,
            2018,
            2018,
            2018,
            2018,
            2018,
            2018,
            2018,
            2018,
            2018,
            2018,
            2018,
            2018,
            2018,
            2018,
            2018,
            2018,
            2018,
            2018,
            2018,
            2018,
            2019,
            2019,
            2019,
            2019,
            2019,
            2019,
            2019,
            2019,
            2019,
            2019,
            2019,
            2019,
            2019,
            2019,
            2019,
            2019,
            2019,
            2019,
            2019,
            2019,
            2020,
            2020,
            2020,
            2020,
            2020,
            2020,
            2020,
            2020,
            2020,
            2020,
            2020,
            2020,
            2020,
            2020,
            2020,
            2020,
            2020,
            2020,
            2020,
            2020
           ],
           "xaxis": "x",
           "y": [
            7.078999996,
            6.65199995,
            6.635000229,
            6.598999977,
            6.453999996,
            6.453999996,
            6.452000141,
            6.356999874,
            6.071000099,
            6.007999897,
            6.002999783,
            5.822999954,
            5.715000153,
            5.493000031,
            5.31099987,
            5.25,
            5.230000019,
            5.181000233,
            3.602999926,
            3.506999969,
            7.226,
            6.983,
            6.81,
            6.786,
            6.67,
            6.574,
            6.485,
            6.477,
            6.13,
            6.123,
            5.975,
            5.89,
            5.878,
            5.828,
            5.824,
            5.709,
            4.885,
            4.788,
            4.518,
            3.656,
            7.167,
            6.444,
            6.436,
            6.321,
            6.3,
            6.293,
            6.253,
            6.125,
            6.105,
            6.086,
            6.028,
            5.89,
            5.86,
            5.779,
            5.743,
            5.697,
            5.425,
            4.707,
            4.534,
            3.597,
            7.072,
            6.476,
            6.43,
            6.419,
            6.388,
            6.382,
            6.379,
            6.26,
            6.167,
            6.141,
            5.973,
            5.89,
            5.752,
            5.681,
            5.663,
            5.504,
            5.302,
            4.806,
            3.964,
            3.582,
            7.087,
            6.952,
            6.705,
            6.701,
            6.65,
            6.545,
            6.481,
            6.324,
            6.084,
            6.068,
            5.992,
            5.976,
            5.822,
            5.743,
            5.538,
            5.51,
            5.155,
            4.871,
            4.028,
            3.607,
            7.121399879,
            6.440100193,
            6.398900032,
            6.375599861,
            6.34829998,
            6.304800034,
            6.228499889,
            6.163400173,
            6.13710022,
            5.974699974,
            5.953199863,
            5.925199986,
            5.889800072,
            5.796800137,
            5.747499943,
            5.692100048,
            5.689199924,
            5.053199768,
            4.949299812,
            3.720799923
           ],
           "yaxis": "y"
          }
         ],
         "name": "South America"
        },
        {
         "data": [
          {
           "hovertemplate": "continent=Africa<br>Year=%{x}<br>happiness_score=%{y}<extra></extra>",
           "legendgroup": "",
           "line": {
            "color": "#636efa",
            "dash": "solid"
           },
           "marker": {
            "symbol": "circle"
           },
           "mode": "lines",
           "name": "",
           "orientation": "v",
           "showlegend": false,
           "type": "scatter",
           "x": [
            2015,
            2015,
            2015,
            2015,
            2015,
            2015,
            2015,
            2015,
            2015,
            2015,
            2015,
            2015,
            2015,
            2015,
            2015,
            2015,
            2015,
            2015,
            2015,
            2015,
            2015,
            2015,
            2015,
            2015,
            2015,
            2015,
            2015,
            2015,
            2015,
            2015,
            2015,
            2015,
            2016,
            2016,
            2016,
            2016,
            2016,
            2016,
            2016,
            2016,
            2016,
            2016,
            2016,
            2016,
            2016,
            2016,
            2016,
            2016,
            2016,
            2016,
            2016,
            2016,
            2016,
            2016,
            2016,
            2016,
            2016,
            2016,
            2016,
            2016,
            2016,
            2016,
            2016,
            2016,
            2017,
            2017,
            2017,
            2017,
            2017,
            2017,
            2017,
            2017,
            2017,
            2017,
            2017,
            2017,
            2017,
            2017,
            2017,
            2017,
            2017,
            2017,
            2017,
            2017,
            2017,
            2017,
            2017,
            2017,
            2017,
            2017,
            2017,
            2017,
            2017,
            2017,
            2017,
            2017,
            2018,
            2018,
            2018,
            2018,
            2018,
            2018,
            2018,
            2018,
            2018,
            2018,
            2018,
            2018,
            2018,
            2018,
            2018,
            2018,
            2018,
            2018,
            2018,
            2018,
            2018,
            2018,
            2018,
            2018,
            2018,
            2018,
            2018,
            2018,
            2018,
            2018,
            2018,
            2018,
            2019,
            2019,
            2019,
            2019,
            2019,
            2019,
            2019,
            2019,
            2019,
            2019,
            2019,
            2019,
            2019,
            2019,
            2019,
            2019,
            2019,
            2019,
            2019,
            2019,
            2019,
            2019,
            2019,
            2019,
            2019,
            2019,
            2019,
            2019,
            2019,
            2019,
            2019,
            2019,
            2020,
            2020,
            2020,
            2020,
            2020,
            2020,
            2020,
            2020,
            2020,
            2020,
            2020,
            2020,
            2020,
            2020,
            2020,
            2020,
            2020,
            2020,
            2020,
            2020,
            2020,
            2020,
            2020,
            2020,
            2020,
            2020,
            2020,
            2020,
            2020,
            2020,
            2020,
            2020
           ],
           "xaxis": "x",
           "y": [
            5.872000217,
            5.629000187,
            5.525000095,
            5.235000134,
            5.073999882,
            4.828999996,
            4.804999828,
            4.735000134,
            4.709000111,
            4.695000172,
            4.552999973,
            4.534999847,
            4.513999939,
            4.465000153,
            4.460000038,
            4.291999817,
            4.190000057,
            4.119999886,
            4.080999851,
            4.032000065,
            4.027999878,
            3.970000029,
            3.936000109,
            3.875,
            3.766000032,
            3.657000065,
            3.644000053,
            3.532999992,
            3.494999886,
            3.470999956,
            3.348999977,
            2.904999971,
            5.754,
            5.605,
            5.477,
            5.268,
            5.129,
            5.013,
            4.739,
            4.642,
            4.633,
            4.61,
            4.571,
            4.512,
            4.507,
            4.436,
            4.419,
            4.332,
            4.292,
            4.252,
            4.194,
            3.995,
            3.931,
            3.904,
            3.896,
            3.845,
            3.781,
            3.681,
            3.667,
            3.587,
            3.465,
            3.34,
            2.905,
            2.839,
            5.888,
            5.525,
            5.265,
            5.211,
            5.208,
            5.044,
            4.996,
            4.883,
            4.799,
            4.722,
            4.681,
            4.628,
            4.587,
            4.509,
            4.49,
            4.461,
            4.39,
            4.374,
            4.35,
            4.286,
            4.189,
            4.166,
            4.107,
            4.085,
            3.975,
            3.933,
            3.775,
            3.663,
            3.488,
            3.41,
            3.334,
            3.231,
            5.891,
            5.566,
            5.295,
            5.254,
            5.155,
            4.975,
            4.758,
            4.724,
            4.657,
            4.631,
            4.592,
            4.571,
            4.447,
            4.424,
            4.419,
            4.41,
            4.377,
            4.356,
            4.35,
            4.301,
            4.166,
            4.161,
            4.141,
            3.999,
            3.774,
            3.692,
            3.59,
            3.587,
            3.495,
            3.408,
            3.303,
            2.905,
            6.355,
            5.648,
            5.615,
            5.151,
            5.045,
            4.875,
            4.795,
            4.635,
            4.513,
            4.508,
            4.459,
            4.362,
            4.356,
            4.276,
            4.219,
            4.201,
            4.193,
            4.156,
            4.121,
            4.073,
            3.974,
            3.856,
            3.763,
            3.739,
            3.739,
            3.695,
            3.666,
            3.622,
            3.515,
            3.484,
            3.303,
            2.905,
            6.101299763,
            5.488800049,
            5.21600008,
            5.147999763,
            5.094799995,
            5.084899902,
            5.005099773,
            4.980800152,
            4.909599781,
            4.829299927,
            4.814099789,
            4.768700123,
            4.729300022,
            4.724100113,
            4.583000183,
            4.557899952,
            4.43200016,
            4.422699928,
            4.392199993,
            4.374599934,
            4.187200069,
            4.186200142,
            4.165599823,
            4.151400089,
            3.926399946,
            3.775300026,
            3.759399891,
            3.538000107,
            3.478899956,
            3.476200104,
            3.312299967,
            3.299200058
           ],
           "yaxis": "y"
          }
         ],
         "name": "Africa"
        }
       ],
       "layout": {
        "legend": {
         "tracegroupgap": 0
        },
        "margin": {
         "t": 60
        },
        "sliders": [
         {
          "active": 0,
          "currentvalue": {
           "prefix": "continent="
          },
          "len": 0.9,
          "pad": {
           "b": 10,
           "t": 60
          },
          "steps": [
           {
            "args": [
             [
              "Europe"
             ],
             {
              "frame": {
               "duration": 0,
               "redraw": false
              },
              "fromcurrent": true,
              "mode": "immediate",
              "transition": {
               "duration": 0,
               "easing": "linear"
              }
             }
            ],
            "label": "Europe",
            "method": "animate"
           },
           {
            "args": [
             [
              "North America"
             ],
             {
              "frame": {
               "duration": 0,
               "redraw": false
              },
              "fromcurrent": true,
              "mode": "immediate",
              "transition": {
               "duration": 0,
               "easing": "linear"
              }
             }
            ],
            "label": "North America",
            "method": "animate"
           },
           {
            "args": [
             [
              "Australia"
             ],
             {
              "frame": {
               "duration": 0,
               "redraw": false
              },
              "fromcurrent": true,
              "mode": "immediate",
              "transition": {
               "duration": 0,
               "easing": "linear"
              }
             }
            ],
            "label": "Australia",
            "method": "animate"
           },
           {
            "args": [
             [
              "Asia"
             ],
             {
              "frame": {
               "duration": 0,
               "redraw": false
              },
              "fromcurrent": true,
              "mode": "immediate",
              "transition": {
               "duration": 0,
               "easing": "linear"
              }
             }
            ],
            "label": "Asia",
            "method": "animate"
           },
           {
            "args": [
             [
              "South America"
             ],
             {
              "frame": {
               "duration": 0,
               "redraw": false
              },
              "fromcurrent": true,
              "mode": "immediate",
              "transition": {
               "duration": 0,
               "easing": "linear"
              }
             }
            ],
            "label": "South America",
            "method": "animate"
           },
           {
            "args": [
             [
              "Africa"
             ],
             {
              "frame": {
               "duration": 0,
               "redraw": false
              },
              "fromcurrent": true,
              "mode": "immediate",
              "transition": {
               "duration": 0,
               "easing": "linear"
              }
             }
            ],
            "label": "Africa",
            "method": "animate"
           }
          ],
          "x": 0.1,
          "xanchor": "left",
          "y": 0,
          "yanchor": "top"
         }
        ],
        "template": {
         "data": {
          "bar": [
           {
            "error_x": {
             "color": "#2a3f5f"
            },
            "error_y": {
             "color": "#2a3f5f"
            },
            "marker": {
             "line": {
              "color": "#E5ECF6",
              "width": 0.5
             },
             "pattern": {
              "fillmode": "overlay",
              "size": 10,
              "solidity": 0.2
             }
            },
            "type": "bar"
           }
          ],
          "barpolar": [
           {
            "marker": {
             "line": {
              "color": "#E5ECF6",
              "width": 0.5
             },
             "pattern": {
              "fillmode": "overlay",
              "size": 10,
              "solidity": 0.2
             }
            },
            "type": "barpolar"
           }
          ],
          "carpet": [
           {
            "aaxis": {
             "endlinecolor": "#2a3f5f",
             "gridcolor": "white",
             "linecolor": "white",
             "minorgridcolor": "white",
             "startlinecolor": "#2a3f5f"
            },
            "baxis": {
             "endlinecolor": "#2a3f5f",
             "gridcolor": "white",
             "linecolor": "white",
             "minorgridcolor": "white",
             "startlinecolor": "#2a3f5f"
            },
            "type": "carpet"
           }
          ],
          "choropleth": [
           {
            "colorbar": {
             "outlinewidth": 0,
             "ticks": ""
            },
            "type": "choropleth"
           }
          ],
          "contour": [
           {
            "colorbar": {
             "outlinewidth": 0,
             "ticks": ""
            },
            "colorscale": [
             [
              0,
              "#0d0887"
             ],
             [
              0.1111111111111111,
              "#46039f"
             ],
             [
              0.2222222222222222,
              "#7201a8"
             ],
             [
              0.3333333333333333,
              "#9c179e"
             ],
             [
              0.4444444444444444,
              "#bd3786"
             ],
             [
              0.5555555555555556,
              "#d8576b"
             ],
             [
              0.6666666666666666,
              "#ed7953"
             ],
             [
              0.7777777777777778,
              "#fb9f3a"
             ],
             [
              0.8888888888888888,
              "#fdca26"
             ],
             [
              1,
              "#f0f921"
             ]
            ],
            "type": "contour"
           }
          ],
          "contourcarpet": [
           {
            "colorbar": {
             "outlinewidth": 0,
             "ticks": ""
            },
            "type": "contourcarpet"
           }
          ],
          "heatmap": [
           {
            "colorbar": {
             "outlinewidth": 0,
             "ticks": ""
            },
            "colorscale": [
             [
              0,
              "#0d0887"
             ],
             [
              0.1111111111111111,
              "#46039f"
             ],
             [
              0.2222222222222222,
              "#7201a8"
             ],
             [
              0.3333333333333333,
              "#9c179e"
             ],
             [
              0.4444444444444444,
              "#bd3786"
             ],
             [
              0.5555555555555556,
              "#d8576b"
             ],
             [
              0.6666666666666666,
              "#ed7953"
             ],
             [
              0.7777777777777778,
              "#fb9f3a"
             ],
             [
              0.8888888888888888,
              "#fdca26"
             ],
             [
              1,
              "#f0f921"
             ]
            ],
            "type": "heatmap"
           }
          ],
          "heatmapgl": [
           {
            "colorbar": {
             "outlinewidth": 0,
             "ticks": ""
            },
            "colorscale": [
             [
              0,
              "#0d0887"
             ],
             [
              0.1111111111111111,
              "#46039f"
             ],
             [
              0.2222222222222222,
              "#7201a8"
             ],
             [
              0.3333333333333333,
              "#9c179e"
             ],
             [
              0.4444444444444444,
              "#bd3786"
             ],
             [
              0.5555555555555556,
              "#d8576b"
             ],
             [
              0.6666666666666666,
              "#ed7953"
             ],
             [
              0.7777777777777778,
              "#fb9f3a"
             ],
             [
              0.8888888888888888,
              "#fdca26"
             ],
             [
              1,
              "#f0f921"
             ]
            ],
            "type": "heatmapgl"
           }
          ],
          "histogram": [
           {
            "marker": {
             "pattern": {
              "fillmode": "overlay",
              "size": 10,
              "solidity": 0.2
             }
            },
            "type": "histogram"
           }
          ],
          "histogram2d": [
           {
            "colorbar": {
             "outlinewidth": 0,
             "ticks": ""
            },
            "colorscale": [
             [
              0,
              "#0d0887"
             ],
             [
              0.1111111111111111,
              "#46039f"
             ],
             [
              0.2222222222222222,
              "#7201a8"
             ],
             [
              0.3333333333333333,
              "#9c179e"
             ],
             [
              0.4444444444444444,
              "#bd3786"
             ],
             [
              0.5555555555555556,
              "#d8576b"
             ],
             [
              0.6666666666666666,
              "#ed7953"
             ],
             [
              0.7777777777777778,
              "#fb9f3a"
             ],
             [
              0.8888888888888888,
              "#fdca26"
             ],
             [
              1,
              "#f0f921"
             ]
            ],
            "type": "histogram2d"
           }
          ],
          "histogram2dcontour": [
           {
            "colorbar": {
             "outlinewidth": 0,
             "ticks": ""
            },
            "colorscale": [
             [
              0,
              "#0d0887"
             ],
             [
              0.1111111111111111,
              "#46039f"
             ],
             [
              0.2222222222222222,
              "#7201a8"
             ],
             [
              0.3333333333333333,
              "#9c179e"
             ],
             [
              0.4444444444444444,
              "#bd3786"
             ],
             [
              0.5555555555555556,
              "#d8576b"
             ],
             [
              0.6666666666666666,
              "#ed7953"
             ],
             [
              0.7777777777777778,
              "#fb9f3a"
             ],
             [
              0.8888888888888888,
              "#fdca26"
             ],
             [
              1,
              "#f0f921"
             ]
            ],
            "type": "histogram2dcontour"
           }
          ],
          "mesh3d": [
           {
            "colorbar": {
             "outlinewidth": 0,
             "ticks": ""
            },
            "type": "mesh3d"
           }
          ],
          "parcoords": [
           {
            "line": {
             "colorbar": {
              "outlinewidth": 0,
              "ticks": ""
             }
            },
            "type": "parcoords"
           }
          ],
          "pie": [
           {
            "automargin": true,
            "type": "pie"
           }
          ],
          "scatter": [
           {
            "fillpattern": {
             "fillmode": "overlay",
             "size": 10,
             "solidity": 0.2
            },
            "type": "scatter"
           }
          ],
          "scatter3d": [
           {
            "line": {
             "colorbar": {
              "outlinewidth": 0,
              "ticks": ""
             }
            },
            "marker": {
             "colorbar": {
              "outlinewidth": 0,
              "ticks": ""
             }
            },
            "type": "scatter3d"
           }
          ],
          "scattercarpet": [
           {
            "marker": {
             "colorbar": {
              "outlinewidth": 0,
              "ticks": ""
             }
            },
            "type": "scattercarpet"
           }
          ],
          "scattergeo": [
           {
            "marker": {
             "colorbar": {
              "outlinewidth": 0,
              "ticks": ""
             }
            },
            "type": "scattergeo"
           }
          ],
          "scattergl": [
           {
            "marker": {
             "colorbar": {
              "outlinewidth": 0,
              "ticks": ""
             }
            },
            "type": "scattergl"
           }
          ],
          "scattermapbox": [
           {
            "marker": {
             "colorbar": {
              "outlinewidth": 0,
              "ticks": ""
             }
            },
            "type": "scattermapbox"
           }
          ],
          "scatterpolar": [
           {
            "marker": {
             "colorbar": {
              "outlinewidth": 0,
              "ticks": ""
             }
            },
            "type": "scatterpolar"
           }
          ],
          "scatterpolargl": [
           {
            "marker": {
             "colorbar": {
              "outlinewidth": 0,
              "ticks": ""
             }
            },
            "type": "scatterpolargl"
           }
          ],
          "scatterternary": [
           {
            "marker": {
             "colorbar": {
              "outlinewidth": 0,
              "ticks": ""
             }
            },
            "type": "scatterternary"
           }
          ],
          "surface": [
           {
            "colorbar": {
             "outlinewidth": 0,
             "ticks": ""
            },
            "colorscale": [
             [
              0,
              "#0d0887"
             ],
             [
              0.1111111111111111,
              "#46039f"
             ],
             [
              0.2222222222222222,
              "#7201a8"
             ],
             [
              0.3333333333333333,
              "#9c179e"
             ],
             [
              0.4444444444444444,
              "#bd3786"
             ],
             [
              0.5555555555555556,
              "#d8576b"
             ],
             [
              0.6666666666666666,
              "#ed7953"
             ],
             [
              0.7777777777777778,
              "#fb9f3a"
             ],
             [
              0.8888888888888888,
              "#fdca26"
             ],
             [
              1,
              "#f0f921"
             ]
            ],
            "type": "surface"
           }
          ],
          "table": [
           {
            "cells": {
             "fill": {
              "color": "#EBF0F8"
             },
             "line": {
              "color": "white"
             }
            },
            "header": {
             "fill": {
              "color": "#C8D4E3"
             },
             "line": {
              "color": "white"
             }
            },
            "type": "table"
           }
          ]
         },
         "layout": {
          "annotationdefaults": {
           "arrowcolor": "#2a3f5f",
           "arrowhead": 0,
           "arrowwidth": 1
          },
          "autotypenumbers": "strict",
          "coloraxis": {
           "colorbar": {
            "outlinewidth": 0,
            "ticks": ""
           }
          },
          "colorscale": {
           "diverging": [
            [
             0,
             "#8e0152"
            ],
            [
             0.1,
             "#c51b7d"
            ],
            [
             0.2,
             "#de77ae"
            ],
            [
             0.3,
             "#f1b6da"
            ],
            [
             0.4,
             "#fde0ef"
            ],
            [
             0.5,
             "#f7f7f7"
            ],
            [
             0.6,
             "#e6f5d0"
            ],
            [
             0.7,
             "#b8e186"
            ],
            [
             0.8,
             "#7fbc41"
            ],
            [
             0.9,
             "#4d9221"
            ],
            [
             1,
             "#276419"
            ]
           ],
           "sequential": [
            [
             0,
             "#0d0887"
            ],
            [
             0.1111111111111111,
             "#46039f"
            ],
            [
             0.2222222222222222,
             "#7201a8"
            ],
            [
             0.3333333333333333,
             "#9c179e"
            ],
            [
             0.4444444444444444,
             "#bd3786"
            ],
            [
             0.5555555555555556,
             "#d8576b"
            ],
            [
             0.6666666666666666,
             "#ed7953"
            ],
            [
             0.7777777777777778,
             "#fb9f3a"
            ],
            [
             0.8888888888888888,
             "#fdca26"
            ],
            [
             1,
             "#f0f921"
            ]
           ],
           "sequentialminus": [
            [
             0,
             "#0d0887"
            ],
            [
             0.1111111111111111,
             "#46039f"
            ],
            [
             0.2222222222222222,
             "#7201a8"
            ],
            [
             0.3333333333333333,
             "#9c179e"
            ],
            [
             0.4444444444444444,
             "#bd3786"
            ],
            [
             0.5555555555555556,
             "#d8576b"
            ],
            [
             0.6666666666666666,
             "#ed7953"
            ],
            [
             0.7777777777777778,
             "#fb9f3a"
            ],
            [
             0.8888888888888888,
             "#fdca26"
            ],
            [
             1,
             "#f0f921"
            ]
           ]
          },
          "colorway": [
           "#636efa",
           "#EF553B",
           "#00cc96",
           "#ab63fa",
           "#FFA15A",
           "#19d3f3",
           "#FF6692",
           "#B6E880",
           "#FF97FF",
           "#FECB52"
          ],
          "font": {
           "color": "#2a3f5f"
          },
          "geo": {
           "bgcolor": "white",
           "lakecolor": "white",
           "landcolor": "#E5ECF6",
           "showlakes": true,
           "showland": true,
           "subunitcolor": "white"
          },
          "hoverlabel": {
           "align": "left"
          },
          "hovermode": "closest",
          "mapbox": {
           "style": "light"
          },
          "paper_bgcolor": "white",
          "plot_bgcolor": "#E5ECF6",
          "polar": {
           "angularaxis": {
            "gridcolor": "white",
            "linecolor": "white",
            "ticks": ""
           },
           "bgcolor": "#E5ECF6",
           "radialaxis": {
            "gridcolor": "white",
            "linecolor": "white",
            "ticks": ""
           }
          },
          "scene": {
           "xaxis": {
            "backgroundcolor": "#E5ECF6",
            "gridcolor": "white",
            "gridwidth": 2,
            "linecolor": "white",
            "showbackground": true,
            "ticks": "",
            "zerolinecolor": "white"
           },
           "yaxis": {
            "backgroundcolor": "#E5ECF6",
            "gridcolor": "white",
            "gridwidth": 2,
            "linecolor": "white",
            "showbackground": true,
            "ticks": "",
            "zerolinecolor": "white"
           },
           "zaxis": {
            "backgroundcolor": "#E5ECF6",
            "gridcolor": "white",
            "gridwidth": 2,
            "linecolor": "white",
            "showbackground": true,
            "ticks": "",
            "zerolinecolor": "white"
           }
          },
          "shapedefaults": {
           "line": {
            "color": "#2a3f5f"
           }
          },
          "ternary": {
           "aaxis": {
            "gridcolor": "white",
            "linecolor": "white",
            "ticks": ""
           },
           "baxis": {
            "gridcolor": "white",
            "linecolor": "white",
            "ticks": ""
           },
           "bgcolor": "#E5ECF6",
           "caxis": {
            "gridcolor": "white",
            "linecolor": "white",
            "ticks": ""
           }
          },
          "title": {
           "x": 0.05
          },
          "xaxis": {
           "automargin": true,
           "gridcolor": "white",
           "linecolor": "white",
           "ticks": "",
           "title": {
            "standoff": 15
           },
           "zerolinecolor": "white",
           "zerolinewidth": 2
          },
          "yaxis": {
           "automargin": true,
           "gridcolor": "white",
           "linecolor": "white",
           "ticks": "",
           "title": {
            "standoff": 15
           },
           "zerolinecolor": "white",
           "zerolinewidth": 2
          }
         }
        },
        "updatemenus": [
         {
          "buttons": [
           {
            "args": [
             null,
             {
              "frame": {
               "duration": 500,
               "redraw": false
              },
              "fromcurrent": true,
              "mode": "immediate",
              "transition": {
               "duration": 500,
               "easing": "linear"
              }
             }
            ],
            "label": "&#9654;",
            "method": "animate"
           },
           {
            "args": [
             [
              null
             ],
             {
              "frame": {
               "duration": 0,
               "redraw": false
              },
              "fromcurrent": true,
              "mode": "immediate",
              "transition": {
               "duration": 0,
               "easing": "linear"
              }
             }
            ],
            "label": "&#9724;",
            "method": "animate"
           }
          ],
          "direction": "left",
          "pad": {
           "r": 10,
           "t": 70
          },
          "showactive": false,
          "type": "buttons",
          "x": 0.1,
          "xanchor": "right",
          "y": 0,
          "yanchor": "top"
         }
        ],
        "xaxis": {
         "anchor": "y",
         "domain": [
          0,
          1
         ],
         "title": {
          "text": "Year"
         }
        },
        "yaxis": {
         "anchor": "x",
         "domain": [
          0,
          1
         ],
         "title": {
          "text": "happiness_score"
         }
        }
       }
      }
     },
     "metadata": {},
     "output_type": "display_data"
    }
   ],
   "source": [
    "# active graph # plotly \n",
    "\n",
    "px.line(df, x=\"Year\", y=\"happiness_score\", animation_frame=\"continent\")"
   ]
  },
  {
   "cell_type": "code",
   "execution_count": 123,
   "metadata": {},
   "outputs": [
    {
     "data": {
      "text/html": [
       "<div>\n",
       "<style scoped>\n",
       "    .dataframe tbody tr th:only-of-type {\n",
       "        vertical-align: middle;\n",
       "    }\n",
       "\n",
       "    .dataframe tbody tr th {\n",
       "        vertical-align: top;\n",
       "    }\n",
       "\n",
       "    .dataframe thead th {\n",
       "        text-align: right;\n",
       "    }\n",
       "</style>\n",
       "<table border=\"1\" class=\"dataframe\">\n",
       "  <thead>\n",
       "    <tr style=\"text-align: right;\">\n",
       "      <th>Year</th>\n",
       "      <th>2015</th>\n",
       "      <th>2016</th>\n",
       "      <th>2017</th>\n",
       "      <th>2018</th>\n",
       "      <th>2019</th>\n",
       "      <th>2020</th>\n",
       "    </tr>\n",
       "    <tr>\n",
       "      <th>continent</th>\n",
       "      <th></th>\n",
       "      <th></th>\n",
       "      <th></th>\n",
       "      <th></th>\n",
       "      <th></th>\n",
       "      <th></th>\n",
       "    </tr>\n",
       "  </thead>\n",
       "  <tbody>\n",
       "    <tr>\n",
       "      <th>Africa</th>\n",
       "      <td>4.31</td>\n",
       "      <td>4.29</td>\n",
       "      <td>4.43</td>\n",
       "      <td>4.36</td>\n",
       "      <td>4.28</td>\n",
       "      <td>4.47</td>\n",
       "    </tr>\n",
       "    <tr>\n",
       "      <th>Asia</th>\n",
       "      <td>5.28</td>\n",
       "      <td>5.26</td>\n",
       "      <td>5.25</td>\n",
       "      <td>5.26</td>\n",
       "      <td>5.26</td>\n",
       "      <td>5.28</td>\n",
       "    </tr>\n",
       "    <tr>\n",
       "      <th>Australia</th>\n",
       "      <td>7.30</td>\n",
       "      <td>7.28</td>\n",
       "      <td>7.27</td>\n",
       "      <td>7.30</td>\n",
       "      <td>7.32</td>\n",
       "      <td>7.26</td>\n",
       "    </tr>\n",
       "    <tr>\n",
       "      <th>Europe</th>\n",
       "      <td>6.13</td>\n",
       "      <td>6.08</td>\n",
       "      <td>6.29</td>\n",
       "      <td>6.20</td>\n",
       "      <td>6.09</td>\n",
       "      <td>6.38</td>\n",
       "    </tr>\n",
       "    <tr>\n",
       "      <th>North America</th>\n",
       "      <td>6.96</td>\n",
       "      <td>7.24</td>\n",
       "      <td>6.92</td>\n",
       "      <td>6.90</td>\n",
       "      <td>7.10</td>\n",
       "      <td>6.88</td>\n",
       "    </tr>\n",
       "    <tr>\n",
       "      <th>South America</th>\n",
       "      <td>5.79</td>\n",
       "      <td>5.96</td>\n",
       "      <td>5.84</td>\n",
       "      <td>5.81</td>\n",
       "      <td>5.89</td>\n",
       "      <td>5.90</td>\n",
       "    </tr>\n",
       "  </tbody>\n",
       "</table>\n",
       "</div>"
      ],
      "text/plain": [
       "Year           2015  2016  2017  2018  2019  2020\n",
       "continent                                        \n",
       "Africa         4.31  4.29  4.43  4.36  4.28  4.47\n",
       "Asia           5.28  5.26  5.25  5.26  5.26  5.28\n",
       "Australia      7.30  7.28  7.27  7.30  7.32  7.26\n",
       "Europe         6.13  6.08  6.29  6.20  6.09  6.38\n",
       "North America  6.96  7.24  6.92  6.90  7.10  6.88\n",
       "South America  5.79  5.96  5.84  5.81  5.89  5.90"
      ]
     },
     "execution_count": 123,
     "metadata": {},
     "output_type": "execute_result"
    }
   ],
   "source": [
    "# creat pivot table\n",
    "\n",
    "piv_avg = df.pivot_table(index=\"continent\", columns=\"Year\", values=\"happiness_score\")\n",
    "piv_avg.round(2)"
   ]
  },
  {
   "cell_type": "code",
   "execution_count": 124,
   "metadata": {},
   "outputs": [
    {
     "data": {
      "text/plain": [
       "<AxesSubplot:xlabel='continent'>"
      ]
     },
     "execution_count": 124,
     "metadata": {},
     "output_type": "execute_result"
    },
    {
     "data": {
      "image/png": "[encoded data removed]",
      "text/plain": [
       "<Figure size 1000x300 with 1 Axes>"
      ]
     },
     "metadata": {},
     "output_type": "display_data"
    }
   ],
   "source": [
    "piv_avg.plot(figsize=(10,3))"
   ]
  },
  {
   "cell_type": "code",
   "execution_count": 125,
   "metadata": {},
   "outputs": [
    {
     "data": {
      "text/plain": [
       "array([2015, 2016, 2017, 2018, 2019, 2020], dtype=int64)"
      ]
     },
     "execution_count": 125,
     "metadata": {},
     "output_type": "execute_result"
    }
   ],
   "source": [
    "df['Year'].unique()"
   ]
  },
  {
   "cell_type": "code",
   "execution_count": 126,
   "metadata": {},
   "outputs": [
    {
     "data": {
      "text/html": [
       "<div>\n",
       "<style scoped>\n",
       "    .dataframe tbody tr th:only-of-type {\n",
       "        vertical-align: middle;\n",
       "    }\n",
       "\n",
       "    .dataframe tbody tr th {\n",
       "        vertical-align: top;\n",
       "    }\n",
       "\n",
       "    .dataframe thead th {\n",
       "        text-align: right;\n",
       "    }\n",
       "</style>\n",
       "<table border=\"1\" class=\"dataframe\">\n",
       "  <thead>\n",
       "    <tr style=\"text-align: right;\">\n",
       "      <th>Year</th>\n",
       "      <th>2015</th>\n",
       "      <th>2016</th>\n",
       "      <th>2017</th>\n",
       "      <th>2018</th>\n",
       "      <th>2019</th>\n",
       "      <th>2020</th>\n",
       "    </tr>\n",
       "    <tr>\n",
       "      <th>Country</th>\n",
       "      <th></th>\n",
       "      <th></th>\n",
       "      <th></th>\n",
       "      <th></th>\n",
       "      <th></th>\n",
       "      <th></th>\n",
       "    </tr>\n",
       "  </thead>\n",
       "  <tbody>\n",
       "    <tr>\n",
       "      <th>Finland</th>\n",
       "      <td>7.469</td>\n",
       "      <td>7.406</td>\n",
       "      <td>7.769</td>\n",
       "      <td>7.632</td>\n",
       "      <td>7.413</td>\n",
       "      <td>7.8087</td>\n",
       "    </tr>\n",
       "    <tr>\n",
       "      <th>Denmark</th>\n",
       "      <td>7.522</td>\n",
       "      <td>7.527</td>\n",
       "      <td>7.600</td>\n",
       "      <td>7.555</td>\n",
       "      <td>7.526</td>\n",
       "      <td>7.6456</td>\n",
       "    </tr>\n",
       "    <tr>\n",
       "      <th>Switzerland</th>\n",
       "      <td>7.494</td>\n",
       "      <td>7.587</td>\n",
       "      <td>7.480</td>\n",
       "      <td>7.487</td>\n",
       "      <td>7.509</td>\n",
       "      <td>7.5599</td>\n",
       "    </tr>\n",
       "    <tr>\n",
       "      <th>Iceland</th>\n",
       "      <td>7.504</td>\n",
       "      <td>7.561</td>\n",
       "      <td>7.494</td>\n",
       "      <td>7.495</td>\n",
       "      <td>7.501</td>\n",
       "      <td>7.5045</td>\n",
       "    </tr>\n",
       "    <tr>\n",
       "      <th>Norway</th>\n",
       "      <td>7.537</td>\n",
       "      <td>7.522</td>\n",
       "      <td>7.554</td>\n",
       "      <td>7.594</td>\n",
       "      <td>7.498</td>\n",
       "      <td>7.4880</td>\n",
       "    </tr>\n",
       "    <tr>\n",
       "      <th>...</th>\n",
       "      <td>...</td>\n",
       "      <td>...</td>\n",
       "      <td>...</td>\n",
       "      <td>...</td>\n",
       "      <td>...</td>\n",
       "      <td>...</td>\n",
       "    </tr>\n",
       "    <tr>\n",
       "      <th>Botswana</th>\n",
       "      <td>3.766</td>\n",
       "      <td>4.332</td>\n",
       "      <td>3.488</td>\n",
       "      <td>3.590</td>\n",
       "      <td>3.974</td>\n",
       "      <td>3.4789</td>\n",
       "    </tr>\n",
       "    <tr>\n",
       "      <th>Tanzania</th>\n",
       "      <td>3.349</td>\n",
       "      <td>3.781</td>\n",
       "      <td>3.231</td>\n",
       "      <td>3.303</td>\n",
       "      <td>3.666</td>\n",
       "      <td>3.4762</td>\n",
       "    </tr>\n",
       "    <tr>\n",
       "      <th>Rwanda</th>\n",
       "      <td>3.471</td>\n",
       "      <td>3.465</td>\n",
       "      <td>3.334</td>\n",
       "      <td>3.408</td>\n",
       "      <td>3.515</td>\n",
       "      <td>3.3123</td>\n",
       "    </tr>\n",
       "    <tr>\n",
       "      <th>Zimbabwe</th>\n",
       "      <td>3.875</td>\n",
       "      <td>4.610</td>\n",
       "      <td>3.663</td>\n",
       "      <td>3.692</td>\n",
       "      <td>4.193</td>\n",
       "      <td>3.2992</td>\n",
       "    </tr>\n",
       "    <tr>\n",
       "      <th>Afghanistan</th>\n",
       "      <td>3.794</td>\n",
       "      <td>3.575</td>\n",
       "      <td>3.203</td>\n",
       "      <td>3.632</td>\n",
       "      <td>3.360</td>\n",
       "      <td>2.5669</td>\n",
       "    </tr>\n",
       "  </tbody>\n",
       "</table>\n",
       "<p>132 rows × 6 columns</p>\n",
       "</div>"
      ],
      "text/plain": [
       "Year          2015   2016   2017   2018   2019    2020\n",
       "Country                                               \n",
       "Finland      7.469  7.406  7.769  7.632  7.413  7.8087\n",
       "Denmark      7.522  7.527  7.600  7.555  7.526  7.6456\n",
       "Switzerland  7.494  7.587  7.480  7.487  7.509  7.5599\n",
       "Iceland      7.504  7.561  7.494  7.495  7.501  7.5045\n",
       "Norway       7.537  7.522  7.554  7.594  7.498  7.4880\n",
       "...            ...    ...    ...    ...    ...     ...\n",
       "Botswana     3.766  4.332  3.488  3.590  3.974  3.4789\n",
       "Tanzania     3.349  3.781  3.231  3.303  3.666  3.4762\n",
       "Rwanda       3.471  3.465  3.334  3.408  3.515  3.3123\n",
       "Zimbabwe     3.875  4.610  3.663  3.692  4.193  3.2992\n",
       "Afghanistan  3.794  3.575  3.203  3.632  3.360  2.5669\n",
       "\n",
       "[132 rows x 6 columns]"
      ]
     },
     "execution_count": 126,
     "metadata": {},
     "output_type": "execute_result"
    }
   ],
   "source": [
    "# create pivot table based on country\n",
    "\n",
    "country_avg = df.pivot_table(index=\"Country\", columns=\"Year\", values=\"happiness_score\")\n",
    "country_avg.sort_values(by=2020, ascending=False)"
   ]
  },
  {
   "cell_type": "code",
   "execution_count": 127,
   "metadata": {},
   "outputs": [
    {
     "data": {
      "text/html": [
       "<div>\n",
       "<style scoped>\n",
       "    .dataframe tbody tr th:only-of-type {\n",
       "        vertical-align: middle;\n",
       "    }\n",
       "\n",
       "    .dataframe tbody tr th {\n",
       "        vertical-align: top;\n",
       "    }\n",
       "\n",
       "    .dataframe thead th {\n",
       "        text-align: right;\n",
       "    }\n",
       "</style>\n",
       "<table border=\"1\" class=\"dataframe\">\n",
       "  <thead>\n",
       "    <tr style=\"text-align: right;\">\n",
       "      <th>Year</th>\n",
       "      <th>2015</th>\n",
       "      <th>2016</th>\n",
       "      <th>2017</th>\n",
       "      <th>2018</th>\n",
       "      <th>2019</th>\n",
       "      <th>2020</th>\n",
       "    </tr>\n",
       "    <tr>\n",
       "      <th>Country</th>\n",
       "      <th></th>\n",
       "      <th></th>\n",
       "      <th></th>\n",
       "      <th></th>\n",
       "      <th></th>\n",
       "      <th></th>\n",
       "    </tr>\n",
       "  </thead>\n",
       "  <tbody>\n",
       "    <tr>\n",
       "      <th>Denmark</th>\n",
       "      <td>7.522</td>\n",
       "      <td>7.527</td>\n",
       "      <td>7.600</td>\n",
       "      <td>7.555</td>\n",
       "      <td>7.526</td>\n",
       "      <td>7.6456</td>\n",
       "    </tr>\n",
       "    <tr>\n",
       "      <th>Switzerland</th>\n",
       "      <td>7.494</td>\n",
       "      <td>7.587</td>\n",
       "      <td>7.480</td>\n",
       "      <td>7.487</td>\n",
       "      <td>7.509</td>\n",
       "      <td>7.5599</td>\n",
       "    </tr>\n",
       "    <tr>\n",
       "      <th>Iceland</th>\n",
       "      <td>7.504</td>\n",
       "      <td>7.561</td>\n",
       "      <td>7.494</td>\n",
       "      <td>7.495</td>\n",
       "      <td>7.501</td>\n",
       "      <td>7.5045</td>\n",
       "    </tr>\n",
       "    <tr>\n",
       "      <th>Norway</th>\n",
       "      <td>7.537</td>\n",
       "      <td>7.522</td>\n",
       "      <td>7.554</td>\n",
       "      <td>7.594</td>\n",
       "      <td>7.498</td>\n",
       "      <td>7.4880</td>\n",
       "    </tr>\n",
       "    <tr>\n",
       "      <th>Finland</th>\n",
       "      <td>7.469</td>\n",
       "      <td>7.406</td>\n",
       "      <td>7.769</td>\n",
       "      <td>7.632</td>\n",
       "      <td>7.413</td>\n",
       "      <td>7.8087</td>\n",
       "    </tr>\n",
       "    <tr>\n",
       "      <th>...</th>\n",
       "      <td>...</td>\n",
       "      <td>...</td>\n",
       "      <td>...</td>\n",
       "      <td>...</td>\n",
       "      <td>...</td>\n",
       "      <td>...</td>\n",
       "    </tr>\n",
       "    <tr>\n",
       "      <th>Rwanda</th>\n",
       "      <td>3.471</td>\n",
       "      <td>3.465</td>\n",
       "      <td>3.334</td>\n",
       "      <td>3.408</td>\n",
       "      <td>3.515</td>\n",
       "      <td>3.3123</td>\n",
       "    </tr>\n",
       "    <tr>\n",
       "      <th>Benin</th>\n",
       "      <td>3.657</td>\n",
       "      <td>3.340</td>\n",
       "      <td>4.883</td>\n",
       "      <td>4.141</td>\n",
       "      <td>3.484</td>\n",
       "      <td>5.2160</td>\n",
       "    </tr>\n",
       "    <tr>\n",
       "      <th>Afghanistan</th>\n",
       "      <td>3.794</td>\n",
       "      <td>3.575</td>\n",
       "      <td>3.203</td>\n",
       "      <td>3.632</td>\n",
       "      <td>3.360</td>\n",
       "      <td>2.5669</td>\n",
       "    </tr>\n",
       "    <tr>\n",
       "      <th>Togo</th>\n",
       "      <td>3.495</td>\n",
       "      <td>2.839</td>\n",
       "      <td>4.085</td>\n",
       "      <td>3.999</td>\n",
       "      <td>3.303</td>\n",
       "      <td>4.1872</td>\n",
       "    </tr>\n",
       "    <tr>\n",
       "      <th>Burundi</th>\n",
       "      <td>2.905</td>\n",
       "      <td>2.905</td>\n",
       "      <td>3.775</td>\n",
       "      <td>2.905</td>\n",
       "      <td>2.905</td>\n",
       "      <td>3.7753</td>\n",
       "    </tr>\n",
       "  </tbody>\n",
       "</table>\n",
       "<p>132 rows × 6 columns</p>\n",
       "</div>"
      ],
      "text/plain": [
       "Year          2015   2016   2017   2018   2019    2020\n",
       "Country                                               \n",
       "Denmark      7.522  7.527  7.600  7.555  7.526  7.6456\n",
       "Switzerland  7.494  7.587  7.480  7.487  7.509  7.5599\n",
       "Iceland      7.504  7.561  7.494  7.495  7.501  7.5045\n",
       "Norway       7.537  7.522  7.554  7.594  7.498  7.4880\n",
       "Finland      7.469  7.406  7.769  7.632  7.413  7.8087\n",
       "...            ...    ...    ...    ...    ...     ...\n",
       "Rwanda       3.471  3.465  3.334  3.408  3.515  3.3123\n",
       "Benin        3.657  3.340  4.883  4.141  3.484  5.2160\n",
       "Afghanistan  3.794  3.575  3.203  3.632  3.360  2.5669\n",
       "Togo         3.495  2.839  4.085  3.999  3.303  4.1872\n",
       "Burundi      2.905  2.905  3.775  2.905  2.905  3.7753\n",
       "\n",
       "[132 rows x 6 columns]"
      ]
     },
     "execution_count": 127,
     "metadata": {},
     "output_type": "execute_result"
    }
   ],
   "source": [
    "country_avg = df.pivot_table(index=\"Country\", columns=\"Year\", values=\"happiness_score\")\n",
    "country_avg.sort_values(by=2019, ascending=False)"
   ]
  },
  {
   "cell_type": "code",
   "execution_count": 128,
   "metadata": {},
   "outputs": [
    {
     "data": {
      "text/html": [
       "<div>\n",
       "<style scoped>\n",
       "    .dataframe tbody tr th:only-of-type {\n",
       "        vertical-align: middle;\n",
       "    }\n",
       "\n",
       "    .dataframe tbody tr th {\n",
       "        vertical-align: top;\n",
       "    }\n",
       "\n",
       "    .dataframe thead th {\n",
       "        text-align: right;\n",
       "    }\n",
       "</style>\n",
       "<table border=\"1\" class=\"dataframe\">\n",
       "  <thead>\n",
       "    <tr style=\"text-align: right;\">\n",
       "      <th>Year</th>\n",
       "      <th>2015</th>\n",
       "      <th>2016</th>\n",
       "      <th>2017</th>\n",
       "      <th>2018</th>\n",
       "      <th>2019</th>\n",
       "      <th>2020</th>\n",
       "    </tr>\n",
       "    <tr>\n",
       "      <th>Country</th>\n",
       "      <th></th>\n",
       "      <th></th>\n",
       "      <th></th>\n",
       "      <th></th>\n",
       "      <th></th>\n",
       "      <th></th>\n",
       "    </tr>\n",
       "  </thead>\n",
       "  <tbody>\n",
       "    <tr>\n",
       "      <th>Finland</th>\n",
       "      <td>7.469</td>\n",
       "      <td>7.406</td>\n",
       "      <td>7.769</td>\n",
       "      <td>7.632</td>\n",
       "      <td>7.413</td>\n",
       "      <td>7.8087</td>\n",
       "    </tr>\n",
       "    <tr>\n",
       "      <th>Norway</th>\n",
       "      <td>7.537</td>\n",
       "      <td>7.522</td>\n",
       "      <td>7.554</td>\n",
       "      <td>7.594</td>\n",
       "      <td>7.498</td>\n",
       "      <td>7.4880</td>\n",
       "    </tr>\n",
       "    <tr>\n",
       "      <th>Denmark</th>\n",
       "      <td>7.522</td>\n",
       "      <td>7.527</td>\n",
       "      <td>7.600</td>\n",
       "      <td>7.555</td>\n",
       "      <td>7.526</td>\n",
       "      <td>7.6456</td>\n",
       "    </tr>\n",
       "    <tr>\n",
       "      <th>Iceland</th>\n",
       "      <td>7.504</td>\n",
       "      <td>7.561</td>\n",
       "      <td>7.494</td>\n",
       "      <td>7.495</td>\n",
       "      <td>7.501</td>\n",
       "      <td>7.5045</td>\n",
       "    </tr>\n",
       "    <tr>\n",
       "      <th>Switzerland</th>\n",
       "      <td>7.494</td>\n",
       "      <td>7.587</td>\n",
       "      <td>7.480</td>\n",
       "      <td>7.487</td>\n",
       "      <td>7.509</td>\n",
       "      <td>7.5599</td>\n",
       "    </tr>\n",
       "    <tr>\n",
       "      <th>...</th>\n",
       "      <td>...</td>\n",
       "      <td>...</td>\n",
       "      <td>...</td>\n",
       "      <td>...</td>\n",
       "      <td>...</td>\n",
       "      <td>...</td>\n",
       "    </tr>\n",
       "    <tr>\n",
       "      <th>Liberia</th>\n",
       "      <td>3.533</td>\n",
       "      <td>4.571</td>\n",
       "      <td>3.975</td>\n",
       "      <td>3.495</td>\n",
       "      <td>3.622</td>\n",
       "      <td>4.5579</td>\n",
       "    </tr>\n",
       "    <tr>\n",
       "      <th>Rwanda</th>\n",
       "      <td>3.471</td>\n",
       "      <td>3.465</td>\n",
       "      <td>3.334</td>\n",
       "      <td>3.408</td>\n",
       "      <td>3.515</td>\n",
       "      <td>3.3123</td>\n",
       "    </tr>\n",
       "    <tr>\n",
       "      <th>Yemen</th>\n",
       "      <td>3.593</td>\n",
       "      <td>4.077</td>\n",
       "      <td>3.380</td>\n",
       "      <td>3.355</td>\n",
       "      <td>3.724</td>\n",
       "      <td>3.5274</td>\n",
       "    </tr>\n",
       "    <tr>\n",
       "      <th>Tanzania</th>\n",
       "      <td>3.349</td>\n",
       "      <td>3.781</td>\n",
       "      <td>3.231</td>\n",
       "      <td>3.303</td>\n",
       "      <td>3.666</td>\n",
       "      <td>3.4762</td>\n",
       "    </tr>\n",
       "    <tr>\n",
       "      <th>Burundi</th>\n",
       "      <td>2.905</td>\n",
       "      <td>2.905</td>\n",
       "      <td>3.775</td>\n",
       "      <td>2.905</td>\n",
       "      <td>2.905</td>\n",
       "      <td>3.7753</td>\n",
       "    </tr>\n",
       "  </tbody>\n",
       "</table>\n",
       "<p>132 rows × 6 columns</p>\n",
       "</div>"
      ],
      "text/plain": [
       "Year          2015   2016   2017   2018   2019    2020\n",
       "Country                                               \n",
       "Finland      7.469  7.406  7.769  7.632  7.413  7.8087\n",
       "Norway       7.537  7.522  7.554  7.594  7.498  7.4880\n",
       "Denmark      7.522  7.527  7.600  7.555  7.526  7.6456\n",
       "Iceland      7.504  7.561  7.494  7.495  7.501  7.5045\n",
       "Switzerland  7.494  7.587  7.480  7.487  7.509  7.5599\n",
       "...            ...    ...    ...    ...    ...     ...\n",
       "Liberia      3.533  4.571  3.975  3.495  3.622  4.5579\n",
       "Rwanda       3.471  3.465  3.334  3.408  3.515  3.3123\n",
       "Yemen        3.593  4.077  3.380  3.355  3.724  3.5274\n",
       "Tanzania     3.349  3.781  3.231  3.303  3.666  3.4762\n",
       "Burundi      2.905  2.905  3.775  2.905  2.905  3.7753\n",
       "\n",
       "[132 rows x 6 columns]"
      ]
     },
     "execution_count": 128,
     "metadata": {},
     "output_type": "execute_result"
    }
   ],
   "source": [
    "country_avg = df.pivot_table(index=\"Country\", columns=\"Year\", values=\"happiness_score\")\n",
    "country_avg.sort_values(by=2018, ascending=False)"
   ]
  },
  {
   "cell_type": "code",
   "execution_count": 129,
   "metadata": {},
   "outputs": [
    {
     "data": {
      "text/html": [
       "<div>\n",
       "<style scoped>\n",
       "    .dataframe tbody tr th:only-of-type {\n",
       "        vertical-align: middle;\n",
       "    }\n",
       "\n",
       "    .dataframe tbody tr th {\n",
       "        vertical-align: top;\n",
       "    }\n",
       "\n",
       "    .dataframe thead th {\n",
       "        text-align: right;\n",
       "    }\n",
       "</style>\n",
       "<table border=\"1\" class=\"dataframe\">\n",
       "  <thead>\n",
       "    <tr style=\"text-align: right;\">\n",
       "      <th>Year</th>\n",
       "      <th>2015</th>\n",
       "      <th>2016</th>\n",
       "      <th>2017</th>\n",
       "      <th>2018</th>\n",
       "      <th>2019</th>\n",
       "      <th>2020</th>\n",
       "    </tr>\n",
       "    <tr>\n",
       "      <th>Country</th>\n",
       "      <th></th>\n",
       "      <th></th>\n",
       "      <th></th>\n",
       "      <th></th>\n",
       "      <th></th>\n",
       "      <th></th>\n",
       "    </tr>\n",
       "  </thead>\n",
       "  <tbody>\n",
       "    <tr>\n",
       "      <th>Finland</th>\n",
       "      <td>7.469</td>\n",
       "      <td>7.406</td>\n",
       "      <td>7.769</td>\n",
       "      <td>7.632</td>\n",
       "      <td>7.413</td>\n",
       "      <td>7.8087</td>\n",
       "    </tr>\n",
       "    <tr>\n",
       "      <th>Denmark</th>\n",
       "      <td>7.522</td>\n",
       "      <td>7.527</td>\n",
       "      <td>7.600</td>\n",
       "      <td>7.555</td>\n",
       "      <td>7.526</td>\n",
       "      <td>7.6456</td>\n",
       "    </tr>\n",
       "    <tr>\n",
       "      <th>Norway</th>\n",
       "      <td>7.537</td>\n",
       "      <td>7.522</td>\n",
       "      <td>7.554</td>\n",
       "      <td>7.594</td>\n",
       "      <td>7.498</td>\n",
       "      <td>7.4880</td>\n",
       "    </tr>\n",
       "    <tr>\n",
       "      <th>Iceland</th>\n",
       "      <td>7.504</td>\n",
       "      <td>7.561</td>\n",
       "      <td>7.494</td>\n",
       "      <td>7.495</td>\n",
       "      <td>7.501</td>\n",
       "      <td>7.5045</td>\n",
       "    </tr>\n",
       "    <tr>\n",
       "      <th>Netherlands</th>\n",
       "      <td>7.377</td>\n",
       "      <td>7.378</td>\n",
       "      <td>7.488</td>\n",
       "      <td>7.441</td>\n",
       "      <td>7.339</td>\n",
       "      <td>7.4489</td>\n",
       "    </tr>\n",
       "    <tr>\n",
       "      <th>...</th>\n",
       "      <td>...</td>\n",
       "      <td>...</td>\n",
       "      <td>...</td>\n",
       "      <td>...</td>\n",
       "      <td>...</td>\n",
       "      <td>...</td>\n",
       "    </tr>\n",
       "    <tr>\n",
       "      <th>Malawi</th>\n",
       "      <td>3.970</td>\n",
       "      <td>4.292</td>\n",
       "      <td>3.410</td>\n",
       "      <td>3.587</td>\n",
       "      <td>4.156</td>\n",
       "      <td>3.5380</td>\n",
       "    </tr>\n",
       "    <tr>\n",
       "      <th>Yemen</th>\n",
       "      <td>3.593</td>\n",
       "      <td>4.077</td>\n",
       "      <td>3.380</td>\n",
       "      <td>3.355</td>\n",
       "      <td>3.724</td>\n",
       "      <td>3.5274</td>\n",
       "    </tr>\n",
       "    <tr>\n",
       "      <th>Rwanda</th>\n",
       "      <td>3.471</td>\n",
       "      <td>3.465</td>\n",
       "      <td>3.334</td>\n",
       "      <td>3.408</td>\n",
       "      <td>3.515</td>\n",
       "      <td>3.3123</td>\n",
       "    </tr>\n",
       "    <tr>\n",
       "      <th>Tanzania</th>\n",
       "      <td>3.349</td>\n",
       "      <td>3.781</td>\n",
       "      <td>3.231</td>\n",
       "      <td>3.303</td>\n",
       "      <td>3.666</td>\n",
       "      <td>3.4762</td>\n",
       "    </tr>\n",
       "    <tr>\n",
       "      <th>Afghanistan</th>\n",
       "      <td>3.794</td>\n",
       "      <td>3.575</td>\n",
       "      <td>3.203</td>\n",
       "      <td>3.632</td>\n",
       "      <td>3.360</td>\n",
       "      <td>2.5669</td>\n",
       "    </tr>\n",
       "  </tbody>\n",
       "</table>\n",
       "<p>132 rows × 6 columns</p>\n",
       "</div>"
      ],
      "text/plain": [
       "Year          2015   2016   2017   2018   2019    2020\n",
       "Country                                               \n",
       "Finland      7.469  7.406  7.769  7.632  7.413  7.8087\n",
       "Denmark      7.522  7.527  7.600  7.555  7.526  7.6456\n",
       "Norway       7.537  7.522  7.554  7.594  7.498  7.4880\n",
       "Iceland      7.504  7.561  7.494  7.495  7.501  7.5045\n",
       "Netherlands  7.377  7.378  7.488  7.441  7.339  7.4489\n",
       "...            ...    ...    ...    ...    ...     ...\n",
       "Malawi       3.970  4.292  3.410  3.587  4.156  3.5380\n",
       "Yemen        3.593  4.077  3.380  3.355  3.724  3.5274\n",
       "Rwanda       3.471  3.465  3.334  3.408  3.515  3.3123\n",
       "Tanzania     3.349  3.781  3.231  3.303  3.666  3.4762\n",
       "Afghanistan  3.794  3.575  3.203  3.632  3.360  2.5669\n",
       "\n",
       "[132 rows x 6 columns]"
      ]
     },
     "execution_count": 129,
     "metadata": {},
     "output_type": "execute_result"
    }
   ],
   "source": [
    "country_avg = df.pivot_table(index=\"Country\", columns=\"Year\", values=\"happiness_score\")\n",
    "country_avg.sort_values(by=2017, ascending=False)"
   ]
  },
  {
   "cell_type": "code",
   "execution_count": 130,
   "metadata": {},
   "outputs": [
    {
     "data": {
      "text/html": [
       "<div>\n",
       "<style scoped>\n",
       "    .dataframe tbody tr th:only-of-type {\n",
       "        vertical-align: middle;\n",
       "    }\n",
       "\n",
       "    .dataframe tbody tr th {\n",
       "        vertical-align: top;\n",
       "    }\n",
       "\n",
       "    .dataframe thead th {\n",
       "        text-align: right;\n",
       "    }\n",
       "</style>\n",
       "<table border=\"1\" class=\"dataframe\">\n",
       "  <thead>\n",
       "    <tr style=\"text-align: right;\">\n",
       "      <th>Year</th>\n",
       "      <th>2015</th>\n",
       "      <th>2016</th>\n",
       "      <th>2017</th>\n",
       "      <th>2018</th>\n",
       "      <th>2019</th>\n",
       "      <th>2020</th>\n",
       "    </tr>\n",
       "    <tr>\n",
       "      <th>Country</th>\n",
       "      <th></th>\n",
       "      <th></th>\n",
       "      <th></th>\n",
       "      <th></th>\n",
       "      <th></th>\n",
       "      <th></th>\n",
       "    </tr>\n",
       "  </thead>\n",
       "  <tbody>\n",
       "    <tr>\n",
       "      <th>Switzerland</th>\n",
       "      <td>7.494</td>\n",
       "      <td>7.587</td>\n",
       "      <td>7.480</td>\n",
       "      <td>7.487</td>\n",
       "      <td>7.509</td>\n",
       "      <td>7.5599</td>\n",
       "    </tr>\n",
       "    <tr>\n",
       "      <th>Iceland</th>\n",
       "      <td>7.504</td>\n",
       "      <td>7.561</td>\n",
       "      <td>7.494</td>\n",
       "      <td>7.495</td>\n",
       "      <td>7.501</td>\n",
       "      <td>7.5045</td>\n",
       "    </tr>\n",
       "    <tr>\n",
       "      <th>Denmark</th>\n",
       "      <td>7.522</td>\n",
       "      <td>7.527</td>\n",
       "      <td>7.600</td>\n",
       "      <td>7.555</td>\n",
       "      <td>7.526</td>\n",
       "      <td>7.6456</td>\n",
       "    </tr>\n",
       "    <tr>\n",
       "      <th>Norway</th>\n",
       "      <td>7.537</td>\n",
       "      <td>7.522</td>\n",
       "      <td>7.554</td>\n",
       "      <td>7.594</td>\n",
       "      <td>7.498</td>\n",
       "      <td>7.4880</td>\n",
       "    </tr>\n",
       "    <tr>\n",
       "      <th>Canada</th>\n",
       "      <td>7.316</td>\n",
       "      <td>7.427</td>\n",
       "      <td>7.278</td>\n",
       "      <td>7.328</td>\n",
       "      <td>7.404</td>\n",
       "      <td>7.2321</td>\n",
       "    </tr>\n",
       "    <tr>\n",
       "      <th>...</th>\n",
       "      <td>...</td>\n",
       "      <td>...</td>\n",
       "      <td>...</td>\n",
       "      <td>...</td>\n",
       "      <td>...</td>\n",
       "      <td>...</td>\n",
       "    </tr>\n",
       "    <tr>\n",
       "      <th>Afghanistan</th>\n",
       "      <td>3.794</td>\n",
       "      <td>3.575</td>\n",
       "      <td>3.203</td>\n",
       "      <td>3.632</td>\n",
       "      <td>3.360</td>\n",
       "      <td>2.5669</td>\n",
       "    </tr>\n",
       "    <tr>\n",
       "      <th>Rwanda</th>\n",
       "      <td>3.471</td>\n",
       "      <td>3.465</td>\n",
       "      <td>3.334</td>\n",
       "      <td>3.408</td>\n",
       "      <td>3.515</td>\n",
       "      <td>3.3123</td>\n",
       "    </tr>\n",
       "    <tr>\n",
       "      <th>Benin</th>\n",
       "      <td>3.657</td>\n",
       "      <td>3.340</td>\n",
       "      <td>4.883</td>\n",
       "      <td>4.141</td>\n",
       "      <td>3.484</td>\n",
       "      <td>5.2160</td>\n",
       "    </tr>\n",
       "    <tr>\n",
       "      <th>Burundi</th>\n",
       "      <td>2.905</td>\n",
       "      <td>2.905</td>\n",
       "      <td>3.775</td>\n",
       "      <td>2.905</td>\n",
       "      <td>2.905</td>\n",
       "      <td>3.7753</td>\n",
       "    </tr>\n",
       "    <tr>\n",
       "      <th>Togo</th>\n",
       "      <td>3.495</td>\n",
       "      <td>2.839</td>\n",
       "      <td>4.085</td>\n",
       "      <td>3.999</td>\n",
       "      <td>3.303</td>\n",
       "      <td>4.1872</td>\n",
       "    </tr>\n",
       "  </tbody>\n",
       "</table>\n",
       "<p>132 rows × 6 columns</p>\n",
       "</div>"
      ],
      "text/plain": [
       "Year          2015   2016   2017   2018   2019    2020\n",
       "Country                                               \n",
       "Switzerland  7.494  7.587  7.480  7.487  7.509  7.5599\n",
       "Iceland      7.504  7.561  7.494  7.495  7.501  7.5045\n",
       "Denmark      7.522  7.527  7.600  7.555  7.526  7.6456\n",
       "Norway       7.537  7.522  7.554  7.594  7.498  7.4880\n",
       "Canada       7.316  7.427  7.278  7.328  7.404  7.2321\n",
       "...            ...    ...    ...    ...    ...     ...\n",
       "Afghanistan  3.794  3.575  3.203  3.632  3.360  2.5669\n",
       "Rwanda       3.471  3.465  3.334  3.408  3.515  3.3123\n",
       "Benin        3.657  3.340  4.883  4.141  3.484  5.2160\n",
       "Burundi      2.905  2.905  3.775  2.905  2.905  3.7753\n",
       "Togo         3.495  2.839  4.085  3.999  3.303  4.1872\n",
       "\n",
       "[132 rows x 6 columns]"
      ]
     },
     "execution_count": 130,
     "metadata": {},
     "output_type": "execute_result"
    }
   ],
   "source": [
    "country_avg = df.pivot_table(index=\"Country\", columns=\"Year\", values=\"happiness_score\")\n",
    "country_avg.sort_values(by=2016, ascending=False)"
   ]
  },
  {
   "cell_type": "code",
   "execution_count": 131,
   "metadata": {},
   "outputs": [
    {
     "data": {
      "text/html": [
       "<div>\n",
       "<style scoped>\n",
       "    .dataframe tbody tr th:only-of-type {\n",
       "        vertical-align: middle;\n",
       "    }\n",
       "\n",
       "    .dataframe tbody tr th {\n",
       "        vertical-align: top;\n",
       "    }\n",
       "\n",
       "    .dataframe thead th {\n",
       "        text-align: right;\n",
       "    }\n",
       "</style>\n",
       "<table border=\"1\" class=\"dataframe\">\n",
       "  <thead>\n",
       "    <tr style=\"text-align: right;\">\n",
       "      <th>Year</th>\n",
       "      <th>2015</th>\n",
       "      <th>2016</th>\n",
       "      <th>2017</th>\n",
       "      <th>2018</th>\n",
       "      <th>2019</th>\n",
       "      <th>2020</th>\n",
       "    </tr>\n",
       "    <tr>\n",
       "      <th>Country</th>\n",
       "      <th></th>\n",
       "      <th></th>\n",
       "      <th></th>\n",
       "      <th></th>\n",
       "      <th></th>\n",
       "      <th></th>\n",
       "    </tr>\n",
       "  </thead>\n",
       "  <tbody>\n",
       "    <tr>\n",
       "      <th>Norway</th>\n",
       "      <td>7.537</td>\n",
       "      <td>7.522</td>\n",
       "      <td>7.554</td>\n",
       "      <td>7.594</td>\n",
       "      <td>7.498</td>\n",
       "      <td>7.4880</td>\n",
       "    </tr>\n",
       "    <tr>\n",
       "      <th>Denmark</th>\n",
       "      <td>7.522</td>\n",
       "      <td>7.527</td>\n",
       "      <td>7.600</td>\n",
       "      <td>7.555</td>\n",
       "      <td>7.526</td>\n",
       "      <td>7.6456</td>\n",
       "    </tr>\n",
       "    <tr>\n",
       "      <th>Iceland</th>\n",
       "      <td>7.504</td>\n",
       "      <td>7.561</td>\n",
       "      <td>7.494</td>\n",
       "      <td>7.495</td>\n",
       "      <td>7.501</td>\n",
       "      <td>7.5045</td>\n",
       "    </tr>\n",
       "    <tr>\n",
       "      <th>Switzerland</th>\n",
       "      <td>7.494</td>\n",
       "      <td>7.587</td>\n",
       "      <td>7.480</td>\n",
       "      <td>7.487</td>\n",
       "      <td>7.509</td>\n",
       "      <td>7.5599</td>\n",
       "    </tr>\n",
       "    <tr>\n",
       "      <th>Finland</th>\n",
       "      <td>7.469</td>\n",
       "      <td>7.406</td>\n",
       "      <td>7.769</td>\n",
       "      <td>7.632</td>\n",
       "      <td>7.413</td>\n",
       "      <td>7.8087</td>\n",
       "    </tr>\n",
       "    <tr>\n",
       "      <th>...</th>\n",
       "      <td>...</td>\n",
       "      <td>...</td>\n",
       "      <td>...</td>\n",
       "      <td>...</td>\n",
       "      <td>...</td>\n",
       "      <td>...</td>\n",
       "    </tr>\n",
       "    <tr>\n",
       "      <th>Guinea</th>\n",
       "      <td>3.507</td>\n",
       "      <td>3.656</td>\n",
       "      <td>4.534</td>\n",
       "      <td>3.964</td>\n",
       "      <td>3.607</td>\n",
       "      <td>4.9493</td>\n",
       "    </tr>\n",
       "    <tr>\n",
       "      <th>Togo</th>\n",
       "      <td>3.495</td>\n",
       "      <td>2.839</td>\n",
       "      <td>4.085</td>\n",
       "      <td>3.999</td>\n",
       "      <td>3.303</td>\n",
       "      <td>4.1872</td>\n",
       "    </tr>\n",
       "    <tr>\n",
       "      <th>Rwanda</th>\n",
       "      <td>3.471</td>\n",
       "      <td>3.465</td>\n",
       "      <td>3.334</td>\n",
       "      <td>3.408</td>\n",
       "      <td>3.515</td>\n",
       "      <td>3.3123</td>\n",
       "    </tr>\n",
       "    <tr>\n",
       "      <th>Tanzania</th>\n",
       "      <td>3.349</td>\n",
       "      <td>3.781</td>\n",
       "      <td>3.231</td>\n",
       "      <td>3.303</td>\n",
       "      <td>3.666</td>\n",
       "      <td>3.4762</td>\n",
       "    </tr>\n",
       "    <tr>\n",
       "      <th>Burundi</th>\n",
       "      <td>2.905</td>\n",
       "      <td>2.905</td>\n",
       "      <td>3.775</td>\n",
       "      <td>2.905</td>\n",
       "      <td>2.905</td>\n",
       "      <td>3.7753</td>\n",
       "    </tr>\n",
       "  </tbody>\n",
       "</table>\n",
       "<p>132 rows × 6 columns</p>\n",
       "</div>"
      ],
      "text/plain": [
       "Year          2015   2016   2017   2018   2019    2020\n",
       "Country                                               \n",
       "Norway       7.537  7.522  7.554  7.594  7.498  7.4880\n",
       "Denmark      7.522  7.527  7.600  7.555  7.526  7.6456\n",
       "Iceland      7.504  7.561  7.494  7.495  7.501  7.5045\n",
       "Switzerland  7.494  7.587  7.480  7.487  7.509  7.5599\n",
       "Finland      7.469  7.406  7.769  7.632  7.413  7.8087\n",
       "...            ...    ...    ...    ...    ...     ...\n",
       "Guinea       3.507  3.656  4.534  3.964  3.607  4.9493\n",
       "Togo         3.495  2.839  4.085  3.999  3.303  4.1872\n",
       "Rwanda       3.471  3.465  3.334  3.408  3.515  3.3123\n",
       "Tanzania     3.349  3.781  3.231  3.303  3.666  3.4762\n",
       "Burundi      2.905  2.905  3.775  2.905  2.905  3.7753\n",
       "\n",
       "[132 rows x 6 columns]"
      ]
     },
     "execution_count": 131,
     "metadata": {},
     "output_type": "execute_result"
    }
   ],
   "source": [
    "country_avg = df.pivot_table(index=\"Country\", columns=\"Year\", values=\"happiness_score\")\n",
    "country_avg.sort_values(by=2015, ascending=False)"
   ]
  },
  {
   "cell_type": "markdown",
   "metadata": {},
   "source": [
    "================================================================\n",
    "\n",
    "Less happiness score 😪😪\n",
    "❌ 2015 > Burundi , Tanzania , Rwanda , Togo , Guinea\n",
    "\n",
    "❌ 2016 > Togo , Burundi , Benin , Rwanda , Afghanistan\n",
    "\n",
    "❌ 2017 > Afghanistan , Tanzania , Rwanda , Yemen , Malawi\n",
    "\n",
    "❌ 2018 > Burundi , Tanzania ,Yemen , Rwanda , Liberia\n",
    "\n",
    "❌ 2019 > Burundi, Togo , Afghanistan , Benin , Rwanda\n",
    "\n",
    "❌ 2020 > Afghanistan , Zimbabwe , Rwanda ,Tanzania ,Botswana\n",
    "\n",
    "High happiness score 😄😄\n",
    "✔️ 2015 > Finland , Iceland , Denmark ,Norway\n",
    "\n",
    "✔️ 2016 > Canada , Norway , Denmark , Iceland , Switzerland\n",
    "\n",
    "✔️ 2017 > Netherlands , Iceland , Norway , Denmark , Finland\n",
    "\n",
    "✔️ 2018 > Switzerland , Iceland , Denmark , Norway , Finland\n",
    "\n",
    "✔️ 2019 > Finland , Norway , Iceland , Switzerland , Denmark\n",
    "\n",
    "✔️ 2020 > Norway , Iceland , Switzerland , Denmark , Finland\n",
    "\n",
    "================================================================"
   ]
  },
  {
   "cell_type": "code",
   "execution_count": 132,
   "metadata": {},
   "outputs": [],
   "source": [
    "# now create new table filter by continent \n",
    "\n",
    "africa = df[df[\"continent\"] == \"Africa\"]\n",
    "asia = df[df[\"continent\"] == \"Asia\"]\n",
    "australia = df[df[\"continent\"] == \"Australia\"]\n",
    "europe = df[df[\"continent\"] == \"Europe\"]\n",
    "north_a = df[df[\"continent\"] == \"North America\"]\n",
    "south_a = df[df[\"continent\"] == \"South America\"]"
   ]
  },
  {
   "cell_type": "code",
   "execution_count": 133,
   "metadata": {},
   "outputs": [
    {
     "data": {
      "text/html": [
       "<div>\n",
       "<style scoped>\n",
       "    .dataframe tbody tr th:only-of-type {\n",
       "        vertical-align: middle;\n",
       "    }\n",
       "\n",
       "    .dataframe tbody tr th {\n",
       "        vertical-align: top;\n",
       "    }\n",
       "\n",
       "    .dataframe thead th {\n",
       "        text-align: right;\n",
       "    }\n",
       "</style>\n",
       "<table border=\"1\" class=\"dataframe\">\n",
       "  <thead>\n",
       "    <tr style=\"text-align: right;\">\n",
       "      <th>Year</th>\n",
       "      <th>2015</th>\n",
       "      <th>2016</th>\n",
       "      <th>2017</th>\n",
       "      <th>2018</th>\n",
       "      <th>2019</th>\n",
       "      <th>2020</th>\n",
       "    </tr>\n",
       "    <tr>\n",
       "      <th>Country</th>\n",
       "      <th></th>\n",
       "      <th></th>\n",
       "      <th></th>\n",
       "      <th></th>\n",
       "      <th></th>\n",
       "      <th></th>\n",
       "    </tr>\n",
       "  </thead>\n",
       "  <tbody>\n",
       "    <tr>\n",
       "      <th>Burundi</th>\n",
       "      <td>2.905</td>\n",
       "      <td>2.905</td>\n",
       "      <td>3.775</td>\n",
       "      <td>2.905</td>\n",
       "      <td>2.905</td>\n",
       "      <td>3.7753</td>\n",
       "    </tr>\n",
       "    <tr>\n",
       "      <th>Tanzania</th>\n",
       "      <td>3.349</td>\n",
       "      <td>3.781</td>\n",
       "      <td>3.231</td>\n",
       "      <td>3.303</td>\n",
       "      <td>3.666</td>\n",
       "      <td>3.4762</td>\n",
       "    </tr>\n",
       "    <tr>\n",
       "      <th>Rwanda</th>\n",
       "      <td>3.471</td>\n",
       "      <td>3.465</td>\n",
       "      <td>3.334</td>\n",
       "      <td>3.408</td>\n",
       "      <td>3.515</td>\n",
       "      <td>3.3123</td>\n",
       "    </tr>\n",
       "    <tr>\n",
       "      <th>Togo</th>\n",
       "      <td>3.495</td>\n",
       "      <td>2.839</td>\n",
       "      <td>4.085</td>\n",
       "      <td>3.999</td>\n",
       "      <td>3.303</td>\n",
       "      <td>4.1872</td>\n",
       "    </tr>\n",
       "    <tr>\n",
       "      <th>Liberia</th>\n",
       "      <td>3.533</td>\n",
       "      <td>4.571</td>\n",
       "      <td>3.975</td>\n",
       "      <td>3.495</td>\n",
       "      <td>3.622</td>\n",
       "      <td>4.5579</td>\n",
       "    </tr>\n",
       "    <tr>\n",
       "      <th>Madagascar</th>\n",
       "      <td>3.644</td>\n",
       "      <td>3.681</td>\n",
       "      <td>3.933</td>\n",
       "      <td>3.774</td>\n",
       "      <td>3.695</td>\n",
       "      <td>4.1656</td>\n",
       "    </tr>\n",
       "    <tr>\n",
       "      <th>Benin</th>\n",
       "      <td>3.657</td>\n",
       "      <td>3.340</td>\n",
       "      <td>4.883</td>\n",
       "      <td>4.141</td>\n",
       "      <td>3.484</td>\n",
       "      <td>5.2160</td>\n",
       "    </tr>\n",
       "    <tr>\n",
       "      <th>Botswana</th>\n",
       "      <td>3.766</td>\n",
       "      <td>4.332</td>\n",
       "      <td>3.488</td>\n",
       "      <td>3.590</td>\n",
       "      <td>3.974</td>\n",
       "      <td>3.4789</td>\n",
       "    </tr>\n",
       "    <tr>\n",
       "      <th>Zimbabwe</th>\n",
       "      <td>3.875</td>\n",
       "      <td>4.610</td>\n",
       "      <td>3.663</td>\n",
       "      <td>3.692</td>\n",
       "      <td>4.193</td>\n",
       "      <td>3.2992</td>\n",
       "    </tr>\n",
       "    <tr>\n",
       "      <th>Chad</th>\n",
       "      <td>3.936</td>\n",
       "      <td>3.667</td>\n",
       "      <td>4.350</td>\n",
       "      <td>4.301</td>\n",
       "      <td>3.763</td>\n",
       "      <td>4.4227</td>\n",
       "    </tr>\n",
       "    <tr>\n",
       "      <th>Malawi</th>\n",
       "      <td>3.970</td>\n",
       "      <td>4.292</td>\n",
       "      <td>3.410</td>\n",
       "      <td>3.587</td>\n",
       "      <td>4.156</td>\n",
       "      <td>3.5380</td>\n",
       "    </tr>\n",
       "    <tr>\n",
       "      <th>Niger</th>\n",
       "      <td>4.028</td>\n",
       "      <td>3.845</td>\n",
       "      <td>4.628</td>\n",
       "      <td>4.166</td>\n",
       "      <td>3.856</td>\n",
       "      <td>4.9096</td>\n",
       "    </tr>\n",
       "    <tr>\n",
       "      <th>Burkina Faso</th>\n",
       "      <td>4.032</td>\n",
       "      <td>3.587</td>\n",
       "      <td>4.587</td>\n",
       "      <td>4.424</td>\n",
       "      <td>3.739</td>\n",
       "      <td>4.7687</td>\n",
       "    </tr>\n",
       "    <tr>\n",
       "      <th>Uganda</th>\n",
       "      <td>4.081</td>\n",
       "      <td>3.931</td>\n",
       "      <td>4.189</td>\n",
       "      <td>4.161</td>\n",
       "      <td>3.739</td>\n",
       "      <td>4.4320</td>\n",
       "    </tr>\n",
       "    <tr>\n",
       "      <th>Ghana</th>\n",
       "      <td>4.120</td>\n",
       "      <td>4.633</td>\n",
       "      <td>4.996</td>\n",
       "      <td>4.657</td>\n",
       "      <td>4.276</td>\n",
       "      <td>5.1480</td>\n",
       "    </tr>\n",
       "    <tr>\n",
       "      <th>Mali</th>\n",
       "      <td>4.190</td>\n",
       "      <td>3.995</td>\n",
       "      <td>4.390</td>\n",
       "      <td>4.447</td>\n",
       "      <td>4.073</td>\n",
       "      <td>4.7293</td>\n",
       "    </tr>\n",
       "    <tr>\n",
       "      <th>Mauritania</th>\n",
       "      <td>4.292</td>\n",
       "      <td>4.436</td>\n",
       "      <td>4.490</td>\n",
       "      <td>4.356</td>\n",
       "      <td>4.201</td>\n",
       "      <td>4.3746</td>\n",
       "    </tr>\n",
       "    <tr>\n",
       "      <th>Ethiopia</th>\n",
       "      <td>4.460</td>\n",
       "      <td>4.512</td>\n",
       "      <td>4.286</td>\n",
       "      <td>4.350</td>\n",
       "      <td>4.508</td>\n",
       "      <td>4.1862</td>\n",
       "    </tr>\n",
       "    <tr>\n",
       "      <th>Gabon</th>\n",
       "      <td>4.465</td>\n",
       "      <td>3.896</td>\n",
       "      <td>4.799</td>\n",
       "      <td>4.758</td>\n",
       "      <td>4.121</td>\n",
       "      <td>4.8293</td>\n",
       "    </tr>\n",
       "    <tr>\n",
       "      <th>Zambia</th>\n",
       "      <td>4.514</td>\n",
       "      <td>5.129</td>\n",
       "      <td>4.107</td>\n",
       "      <td>4.377</td>\n",
       "      <td>4.795</td>\n",
       "      <td>3.7594</td>\n",
       "    </tr>\n",
       "    <tr>\n",
       "      <th>Senegal</th>\n",
       "      <td>4.535</td>\n",
       "      <td>3.904</td>\n",
       "      <td>4.681</td>\n",
       "      <td>4.631</td>\n",
       "      <td>4.219</td>\n",
       "      <td>4.9808</td>\n",
       "    </tr>\n",
       "    <tr>\n",
       "      <th>Kenya</th>\n",
       "      <td>4.553</td>\n",
       "      <td>4.419</td>\n",
       "      <td>4.509</td>\n",
       "      <td>4.410</td>\n",
       "      <td>4.356</td>\n",
       "      <td>4.5830</td>\n",
       "    </tr>\n",
       "    <tr>\n",
       "      <th>Cameroon</th>\n",
       "      <td>4.695</td>\n",
       "      <td>4.252</td>\n",
       "      <td>5.044</td>\n",
       "      <td>4.975</td>\n",
       "      <td>4.513</td>\n",
       "      <td>5.0849</td>\n",
       "    </tr>\n",
       "    <tr>\n",
       "      <th>Sierra Leone</th>\n",
       "      <td>4.709</td>\n",
       "      <td>4.507</td>\n",
       "      <td>4.374</td>\n",
       "      <td>4.571</td>\n",
       "      <td>4.635</td>\n",
       "      <td>3.9264</td>\n",
       "    </tr>\n",
       "    <tr>\n",
       "      <th>Egypt</th>\n",
       "      <td>4.735</td>\n",
       "      <td>4.194</td>\n",
       "      <td>4.166</td>\n",
       "      <td>4.419</td>\n",
       "      <td>4.362</td>\n",
       "      <td>4.1514</td>\n",
       "    </tr>\n",
       "    <tr>\n",
       "      <th>Tunisia</th>\n",
       "      <td>4.805</td>\n",
       "      <td>4.739</td>\n",
       "      <td>4.461</td>\n",
       "      <td>4.592</td>\n",
       "      <td>5.045</td>\n",
       "      <td>4.3922</td>\n",
       "    </tr>\n",
       "    <tr>\n",
       "      <th>South Africa</th>\n",
       "      <td>4.829</td>\n",
       "      <td>4.642</td>\n",
       "      <td>4.722</td>\n",
       "      <td>4.724</td>\n",
       "      <td>4.459</td>\n",
       "      <td>4.8141</td>\n",
       "    </tr>\n",
       "    <tr>\n",
       "      <th>Nigeria</th>\n",
       "      <td>5.074</td>\n",
       "      <td>5.268</td>\n",
       "      <td>5.265</td>\n",
       "      <td>5.155</td>\n",
       "      <td>4.875</td>\n",
       "      <td>4.7241</td>\n",
       "    </tr>\n",
       "    <tr>\n",
       "      <th>Morocco</th>\n",
       "      <td>5.235</td>\n",
       "      <td>5.013</td>\n",
       "      <td>5.208</td>\n",
       "      <td>5.254</td>\n",
       "      <td>5.151</td>\n",
       "      <td>5.0948</td>\n",
       "    </tr>\n",
       "    <tr>\n",
       "      <th>Libya</th>\n",
       "      <td>5.525</td>\n",
       "      <td>5.754</td>\n",
       "      <td>5.525</td>\n",
       "      <td>5.566</td>\n",
       "      <td>5.615</td>\n",
       "      <td>5.4888</td>\n",
       "    </tr>\n",
       "    <tr>\n",
       "      <th>Mauritius</th>\n",
       "      <td>5.629</td>\n",
       "      <td>5.477</td>\n",
       "      <td>5.888</td>\n",
       "      <td>5.891</td>\n",
       "      <td>5.648</td>\n",
       "      <td>6.1013</td>\n",
       "    </tr>\n",
       "    <tr>\n",
       "      <th>Algeria</th>\n",
       "      <td>5.872</td>\n",
       "      <td>5.605</td>\n",
       "      <td>5.211</td>\n",
       "      <td>5.295</td>\n",
       "      <td>6.355</td>\n",
       "      <td>5.0051</td>\n",
       "    </tr>\n",
       "  </tbody>\n",
       "</table>\n",
       "</div>"
      ],
      "text/plain": [
       "Year           2015   2016   2017   2018   2019    2020\n",
       "Country                                                \n",
       "Burundi       2.905  2.905  3.775  2.905  2.905  3.7753\n",
       "Tanzania      3.349  3.781  3.231  3.303  3.666  3.4762\n",
       "Rwanda        3.471  3.465  3.334  3.408  3.515  3.3123\n",
       "Togo          3.495  2.839  4.085  3.999  3.303  4.1872\n",
       "Liberia       3.533  4.571  3.975  3.495  3.622  4.5579\n",
       "Madagascar    3.644  3.681  3.933  3.774  3.695  4.1656\n",
       "Benin         3.657  3.340  4.883  4.141  3.484  5.2160\n",
       "Botswana      3.766  4.332  3.488  3.590  3.974  3.4789\n",
       "Zimbabwe      3.875  4.610  3.663  3.692  4.193  3.2992\n",
       "Chad          3.936  3.667  4.350  4.301  3.763  4.4227\n",
       "Malawi        3.970  4.292  3.410  3.587  4.156  3.5380\n",
       "Niger         4.028  3.845  4.628  4.166  3.856  4.9096\n",
       "Burkina Faso  4.032  3.587  4.587  4.424  3.739  4.7687\n",
       "Uganda        4.081  3.931  4.189  4.161  3.739  4.4320\n",
       "Ghana         4.120  4.633  4.996  4.657  4.276  5.1480\n",
       "Mali          4.190  3.995  4.390  4.447  4.073  4.7293\n",
       "Mauritania    4.292  4.436  4.490  4.356  4.201  4.3746\n",
       "Ethiopia      4.460  4.512  4.286  4.350  4.508  4.1862\n",
       "Gabon         4.465  3.896  4.799  4.758  4.121  4.8293\n",
       "Zambia        4.514  5.129  4.107  4.377  4.795  3.7594\n",
       "Senegal       4.535  3.904  4.681  4.631  4.219  4.9808\n",
       "Kenya         4.553  4.419  4.509  4.410  4.356  4.5830\n",
       "Cameroon      4.695  4.252  5.044  4.975  4.513  5.0849\n",
       "Sierra Leone  4.709  4.507  4.374  4.571  4.635  3.9264\n",
       "Egypt         4.735  4.194  4.166  4.419  4.362  4.1514\n",
       "Tunisia       4.805  4.739  4.461  4.592  5.045  4.3922\n",
       "South Africa  4.829  4.642  4.722  4.724  4.459  4.8141\n",
       "Nigeria       5.074  5.268  5.265  5.155  4.875  4.7241\n",
       "Morocco       5.235  5.013  5.208  5.254  5.151  5.0948\n",
       "Libya         5.525  5.754  5.525  5.566  5.615  5.4888\n",
       "Mauritius     5.629  5.477  5.888  5.891  5.648  6.1013\n",
       "Algeria       5.872  5.605  5.211  5.295  6.355  5.0051"
      ]
     },
     "execution_count": 133,
     "metadata": {},
     "output_type": "execute_result"
    }
   ],
   "source": [
    "# create pivot table - africa\n",
    "\n",
    "africa_p = africa.pivot_table(index=\"Country\",columns=\"Year\",values=\"happiness_score\")\n",
    "africa_p.sort_values(by=2015)"
   ]
  },
  {
   "cell_type": "code",
   "execution_count": 134,
   "metadata": {},
   "outputs": [
    {
     "data": {
      "application/vnd.plotly.v1+json": {
       "config": {
        "plotlyServerURL": "https://plot.ly"
       },
       "data": [
        {
         "hovertemplate": "Year=2015<br>Country=%{x}<br>value=%{y}<extra></extra>",
         "legendgroup": "2015",
         "line": {
          "color": "#636efa",
          "dash": "solid"
         },
         "marker": {
          "symbol": "circle"
         },
         "mode": "lines",
         "name": "2015",
         "orientation": "v",
         "showlegend": true,
         "type": "scatter",
         "x": [
          "Algeria",
          "Benin",
          "Botswana",
          "Burkina Faso",
          "Burundi",
          "Cameroon",
          "Chad",
          "Egypt",
          "Ethiopia",
          "Gabon",
          "Ghana",
          "Kenya",
          "Liberia",
          "Libya",
          "Madagascar",
          "Malawi",
          "Mali",
          "Mauritania",
          "Mauritius",
          "Morocco",
          "Niger",
          "Nigeria",
          "Rwanda",
          "Senegal",
          "Sierra Leone",
          "South Africa",
          "Tanzania",
          "Togo",
          "Tunisia",
          "Uganda",
          "Zambia",
          "Zimbabwe"
         ],
         "xaxis": "x",
         "y": [
          5.872000217,
          3.657000065,
          3.766000032,
          4.032000065,
          2.904999971,
          4.695000172,
          3.936000109,
          4.735000134,
          4.460000038,
          4.465000153,
          4.119999886,
          4.552999973,
          3.532999992,
          5.525000095,
          3.644000053,
          3.970000029,
          4.190000057,
          4.291999817,
          5.629000187,
          5.235000134,
          4.027999878,
          5.073999882,
          3.470999956,
          4.534999847,
          4.709000111,
          4.828999996,
          3.348999977,
          3.494999886,
          4.804999828,
          4.080999851,
          4.513999939,
          3.875
         ],
         "yaxis": "y"
        },
        {
         "hovertemplate": "Year=2016<br>Country=%{x}<br>value=%{y}<extra></extra>",
         "legendgroup": "2016",
         "line": {
          "color": "#EF553B",
          "dash": "solid"
         },
         "marker": {
          "symbol": "circle"
         },
         "mode": "lines",
         "name": "2016",
         "orientation": "v",
         "showlegend": true,
         "type": "scatter",
         "x": [
          "Algeria",
          "Benin",
          "Botswana",
          "Burkina Faso",
          "Burundi",
          "Cameroon",
          "Chad",
          "Egypt",
          "Ethiopia",
          "Gabon",
          "Ghana",
          "Kenya",
          "Liberia",
          "Libya",
          "Madagascar",
          "Malawi",
          "Mali",
          "Mauritania",
          "Mauritius",
          "Morocco",
          "Niger",
          "Nigeria",
          "Rwanda",
          "Senegal",
          "Sierra Leone",
          "South Africa",
          "Tanzania",
          "Togo",
          "Tunisia",
          "Uganda",
          "Zambia",
          "Zimbabwe"
         ],
         "xaxis": "x",
         "y": [
          5.605,
          3.34,
          4.332,
          3.587,
          2.905,
          4.252,
          3.667,
          4.194,
          4.512,
          3.896,
          4.633,
          4.419,
          4.571,
          5.754,
          3.681,
          4.292,
          3.995,
          4.436,
          5.477,
          5.013,
          3.845,
          5.268,
          3.465,
          3.904,
          4.507,
          4.642,
          3.781,
          2.839,
          4.739,
          3.931,
          5.129,
          4.61
         ],
         "yaxis": "y"
        },
        {
         "hovertemplate": "Year=2017<br>Country=%{x}<br>value=%{y}<extra></extra>",
         "legendgroup": "2017",
         "line": {
          "color": "#00cc96",
          "dash": "solid"
         },
         "marker": {
          "symbol": "circle"
         },
         "mode": "lines",
         "name": "2017",
         "orientation": "v",
         "showlegend": true,
         "type": "scatter",
         "x": [
          "Algeria",
          "Benin",
          "Botswana",
          "Burkina Faso",
          "Burundi",
          "Cameroon",
          "Chad",
          "Egypt",
          "Ethiopia",
          "Gabon",
          "Ghana",
          "Kenya",
          "Liberia",
          "Libya",
          "Madagascar",
          "Malawi",
          "Mali",
          "Mauritania",
          "Mauritius",
          "Morocco",
          "Niger",
          "Nigeria",
          "Rwanda",
          "Senegal",
          "Sierra Leone",
          "South Africa",
          "Tanzania",
          "Togo",
          "Tunisia",
          "Uganda",
          "Zambia",
          "Zimbabwe"
         ],
         "xaxis": "x",
         "y": [
          5.211,
          4.883,
          3.488,
          4.587,
          3.775,
          5.044,
          4.35,
          4.166,
          4.286,
          4.799,
          4.996,
          4.509,
          3.975,
          5.525,
          3.933,
          3.41,
          4.39,
          4.49,
          5.888,
          5.208,
          4.628,
          5.265,
          3.334,
          4.681,
          4.374,
          4.722,
          3.231,
          4.085,
          4.461,
          4.189,
          4.107,
          3.663
         ],
         "yaxis": "y"
        },
        {
         "hovertemplate": "Year=2018<br>Country=%{x}<br>value=%{y}<extra></extra>",
         "legendgroup": "2018",
         "line": {
          "color": "#ab63fa",
          "dash": "solid"
         },
         "marker": {
          "symbol": "circle"
         },
         "mode": "lines",
         "name": "2018",
         "orientation": "v",
         "showlegend": true,
         "type": "scatter",
         "x": [
          "Algeria",
          "Benin",
          "Botswana",
          "Burkina Faso",
          "Burundi",
          "Cameroon",
          "Chad",
          "Egypt",
          "Ethiopia",
          "Gabon",
          "Ghana",
          "Kenya",
          "Liberia",
          "Libya",
          "Madagascar",
          "Malawi",
          "Mali",
          "Mauritania",
          "Mauritius",
          "Morocco",
          "Niger",
          "Nigeria",
          "Rwanda",
          "Senegal",
          "Sierra Leone",
          "South Africa",
          "Tanzania",
          "Togo",
          "Tunisia",
          "Uganda",
          "Zambia",
          "Zimbabwe"
         ],
         "xaxis": "x",
         "y": [
          5.295,
          4.141,
          3.59,
          4.424,
          2.905,
          4.975,
          4.301,
          4.419,
          4.35,
          4.758,
          4.657,
          4.41,
          3.495,
          5.566,
          3.774,
          3.587,
          4.447,
          4.356,
          5.891,
          5.254,
          4.166,
          5.155,
          3.408,
          4.631,
          4.571,
          4.724,
          3.303,
          3.999,
          4.592,
          4.161,
          4.377,
          3.692
         ],
         "yaxis": "y"
        },
        {
         "hovertemplate": "Year=2019<br>Country=%{x}<br>value=%{y}<extra></extra>",
         "legendgroup": "2019",
         "line": {
          "color": "#FFA15A",
          "dash": "solid"
         },
         "marker": {
          "symbol": "circle"
         },
         "mode": "lines",
         "name": "2019",
         "orientation": "v",
         "showlegend": true,
         "type": "scatter",
         "x": [
          "Algeria",
          "Benin",
          "Botswana",
          "Burkina Faso",
          "Burundi",
          "Cameroon",
          "Chad",
          "Egypt",
          "Ethiopia",
          "Gabon",
          "Ghana",
          "Kenya",
          "Liberia",
          "Libya",
          "Madagascar",
          "Malawi",
          "Mali",
          "Mauritania",
          "Mauritius",
          "Morocco",
          "Niger",
          "Nigeria",
          "Rwanda",
          "Senegal",
          "Sierra Leone",
          "South Africa",
          "Tanzania",
          "Togo",
          "Tunisia",
          "Uganda",
          "Zambia",
          "Zimbabwe"
         ],
         "xaxis": "x",
         "y": [
          6.355,
          3.484,
          3.974,
          3.739,
          2.905,
          4.513,
          3.763,
          4.362,
          4.508,
          4.121,
          4.276,
          4.356,
          3.622,
          5.615,
          3.695,
          4.156,
          4.073,
          4.201,
          5.648,
          5.151,
          3.856,
          4.875,
          3.515,
          4.219,
          4.635,
          4.459,
          3.666,
          3.303,
          5.045,
          3.739,
          4.795,
          4.193
         ],
         "yaxis": "y"
        },
        {
         "hovertemplate": "Year=2020<br>Country=%{x}<br>value=%{y}<extra></extra>",
         "legendgroup": "2020",
         "line": {
          "color": "#19d3f3",
          "dash": "solid"
         },
         "marker": {
          "symbol": "circle"
         },
         "mode": "lines",
         "name": "2020",
         "orientation": "v",
         "showlegend": true,
         "type": "scatter",
         "x": [
          "Algeria",
          "Benin",
          "Botswana",
          "Burkina Faso",
          "Burundi",
          "Cameroon",
          "Chad",
          "Egypt",
          "Ethiopia",
          "Gabon",
          "Ghana",
          "Kenya",
          "Liberia",
          "Libya",
          "Madagascar",
          "Malawi",
          "Mali",
          "Mauritania",
          "Mauritius",
          "Morocco",
          "Niger",
          "Nigeria",
          "Rwanda",
          "Senegal",
          "Sierra Leone",
          "South Africa",
          "Tanzania",
          "Togo",
          "Tunisia",
          "Uganda",
          "Zambia",
          "Zimbabwe"
         ],
         "xaxis": "x",
         "y": [
          5.005099773,
          5.21600008,
          3.478899956,
          4.768700123,
          3.775300026,
          5.084899902,
          4.422699928,
          4.151400089,
          4.186200142,
          4.829299927,
          5.147999763,
          4.583000183,
          4.557899952,
          5.488800049,
          4.165599823,
          3.538000107,
          4.729300022,
          4.374599934,
          6.101299763,
          5.094799995,
          4.909599781,
          4.724100113,
          3.312299967,
          4.980800152,
          3.926399946,
          4.814099789,
          3.476200104,
          4.187200069,
          4.392199993,
          4.43200016,
          3.759399891,
          3.299200058
         ],
         "yaxis": "y"
        }
       ],
       "layout": {
        "legend": {
         "title": {
          "text": "Year"
         },
         "tracegroupgap": 0
        },
        "margin": {
         "t": 60
        },
        "template": {
         "data": {
          "bar": [
           {
            "error_x": {
             "color": "#2a3f5f"
            },
            "error_y": {
             "color": "#2a3f5f"
            },
            "marker": {
             "line": {
              "color": "#E5ECF6",
              "width": 0.5
             },
             "pattern": {
              "fillmode": "overlay",
              "size": 10,
              "solidity": 0.2
             }
            },
            "type": "bar"
           }
          ],
          "barpolar": [
           {
            "marker": {
             "line": {
              "color": "#E5ECF6",
              "width": 0.5
             },
             "pattern": {
              "fillmode": "overlay",
              "size": 10,
              "solidity": 0.2
             }
            },
            "type": "barpolar"
           }
          ],
          "carpet": [
           {
            "aaxis": {
             "endlinecolor": "#2a3f5f",
             "gridcolor": "white",
             "linecolor": "white",
             "minorgridcolor": "white",
             "startlinecolor": "#2a3f5f"
            },
            "baxis": {
             "endlinecolor": "#2a3f5f",
             "gridcolor": "white",
             "linecolor": "white",
             "minorgridcolor": "white",
             "startlinecolor": "#2a3f5f"
            },
            "type": "carpet"
           }
          ],
          "choropleth": [
           {
            "colorbar": {
             "outlinewidth": 0,
             "ticks": ""
            },
            "type": "choropleth"
           }
          ],
          "contour": [
           {
            "colorbar": {
             "outlinewidth": 0,
             "ticks": ""
            },
            "colorscale": [
             [
              0,
              "#0d0887"
             ],
             [
              0.1111111111111111,
              "#46039f"
             ],
             [
              0.2222222222222222,
              "#7201a8"
             ],
             [
              0.3333333333333333,
              "#9c179e"
             ],
             [
              0.4444444444444444,
              "#bd3786"
             ],
             [
              0.5555555555555556,
              "#d8576b"
             ],
             [
              0.6666666666666666,
              "#ed7953"
             ],
             [
              0.7777777777777778,
              "#fb9f3a"
             ],
             [
              0.8888888888888888,
              "#fdca26"
             ],
             [
              1,
              "#f0f921"
             ]
            ],
            "type": "contour"
           }
          ],
          "contourcarpet": [
           {
            "colorbar": {
             "outlinewidth": 0,
             "ticks": ""
            },
            "type": "contourcarpet"
           }
          ],
          "heatmap": [
           {
            "colorbar": {
             "outlinewidth": 0,
             "ticks": ""
            },
            "colorscale": [
             [
              0,
              "#0d0887"
             ],
             [
              0.1111111111111111,
              "#46039f"
             ],
             [
              0.2222222222222222,
              "#7201a8"
             ],
             [
              0.3333333333333333,
              "#9c179e"
             ],
             [
              0.4444444444444444,
              "#bd3786"
             ],
             [
              0.5555555555555556,
              "#d8576b"
             ],
             [
              0.6666666666666666,
              "#ed7953"
             ],
             [
              0.7777777777777778,
              "#fb9f3a"
             ],
             [
              0.8888888888888888,
              "#fdca26"
             ],
             [
              1,
              "#f0f921"
             ]
            ],
            "type": "heatmap"
           }
          ],
          "heatmapgl": [
           {
            "colorbar": {
             "outlinewidth": 0,
             "ticks": ""
            },
            "colorscale": [
             [
              0,
              "#0d0887"
             ],
             [
              0.1111111111111111,
              "#46039f"
             ],
             [
              0.2222222222222222,
              "#7201a8"
             ],
             [
              0.3333333333333333,
              "#9c179e"
             ],
             [
              0.4444444444444444,
              "#bd3786"
             ],
             [
              0.5555555555555556,
              "#d8576b"
             ],
             [
              0.6666666666666666,
              "#ed7953"
             ],
             [
              0.7777777777777778,
              "#fb9f3a"
             ],
             [
              0.8888888888888888,
              "#fdca26"
             ],
             [
              1,
              "#f0f921"
             ]
            ],
            "type": "heatmapgl"
           }
          ],
          "histogram": [
           {
            "marker": {
             "pattern": {
              "fillmode": "overlay",
              "size": 10,
              "solidity": 0.2
             }
            },
            "type": "histogram"
           }
          ],
          "histogram2d": [
           {
            "colorbar": {
             "outlinewidth": 0,
             "ticks": ""
            },
            "colorscale": [
             [
              0,
              "#0d0887"
             ],
             [
              0.1111111111111111,
              "#46039f"
             ],
             [
              0.2222222222222222,
              "#7201a8"
             ],
             [
              0.3333333333333333,
              "#9c179e"
             ],
             [
              0.4444444444444444,
              "#bd3786"
             ],
             [
              0.5555555555555556,
              "#d8576b"
             ],
             [
              0.6666666666666666,
              "#ed7953"
             ],
             [
              0.7777777777777778,
              "#fb9f3a"
             ],
             [
              0.8888888888888888,
              "#fdca26"
             ],
             [
              1,
              "#f0f921"
             ]
            ],
            "type": "histogram2d"
           }
          ],
          "histogram2dcontour": [
           {
            "colorbar": {
             "outlinewidth": 0,
             "ticks": ""
            },
            "colorscale": [
             [
              0,
              "#0d0887"
             ],
             [
              0.1111111111111111,
              "#46039f"
             ],
             [
              0.2222222222222222,
              "#7201a8"
             ],
             [
              0.3333333333333333,
              "#9c179e"
             ],
             [
              0.4444444444444444,
              "#bd3786"
             ],
             [
              0.5555555555555556,
              "#d8576b"
             ],
             [
              0.6666666666666666,
              "#ed7953"
             ],
             [
              0.7777777777777778,
              "#fb9f3a"
             ],
             [
              0.8888888888888888,
              "#fdca26"
             ],
             [
              1,
              "#f0f921"
             ]
            ],
            "type": "histogram2dcontour"
           }
          ],
          "mesh3d": [
           {
            "colorbar": {
             "outlinewidth": 0,
             "ticks": ""
            },
            "type": "mesh3d"
           }
          ],
          "parcoords": [
           {
            "line": {
             "colorbar": {
              "outlinewidth": 0,
              "ticks": ""
             }
            },
            "type": "parcoords"
           }
          ],
          "pie": [
           {
            "automargin": true,
            "type": "pie"
           }
          ],
          "scatter": [
           {
            "fillpattern": {
             "fillmode": "overlay",
             "size": 10,
             "solidity": 0.2
            },
            "type": "scatter"
           }
          ],
          "scatter3d": [
           {
            "line": {
             "colorbar": {
              "outlinewidth": 0,
              "ticks": ""
             }
            },
            "marker": {
             "colorbar": {
              "outlinewidth": 0,
              "ticks": ""
             }
            },
            "type": "scatter3d"
           }
          ],
          "scattercarpet": [
           {
            "marker": {
             "colorbar": {
              "outlinewidth": 0,
              "ticks": ""
             }
            },
            "type": "scattercarpet"
           }
          ],
          "scattergeo": [
           {
            "marker": {
             "colorbar": {
              "outlinewidth": 0,
              "ticks": ""
             }
            },
            "type": "scattergeo"
           }
          ],
          "scattergl": [
           {
            "marker": {
             "colorbar": {
              "outlinewidth": 0,
              "ticks": ""
             }
            },
            "type": "scattergl"
           }
          ],
          "scattermapbox": [
           {
            "marker": {
             "colorbar": {
              "outlinewidth": 0,
              "ticks": ""
             }
            },
            "type": "scattermapbox"
           }
          ],
          "scatterpolar": [
           {
            "marker": {
             "colorbar": {
              "outlinewidth": 0,
              "ticks": ""
             }
            },
            "type": "scatterpolar"
           }
          ],
          "scatterpolargl": [
           {
            "marker": {
             "colorbar": {
              "outlinewidth": 0,
              "ticks": ""
             }
            },
            "type": "scatterpolargl"
           }
          ],
          "scatterternary": [
           {
            "marker": {
             "colorbar": {
              "outlinewidth": 0,
              "ticks": ""
             }
            },
            "type": "scatterternary"
           }
          ],
          "surface": [
           {
            "colorbar": {
             "outlinewidth": 0,
             "ticks": ""
            },
            "colorscale": [
             [
              0,
              "#0d0887"
             ],
             [
              0.1111111111111111,
              "#46039f"
             ],
             [
              0.2222222222222222,
              "#7201a8"
             ],
             [
              0.3333333333333333,
              "#9c179e"
             ],
             [
              0.4444444444444444,
              "#bd3786"
             ],
             [
              0.5555555555555556,
              "#d8576b"
             ],
             [
              0.6666666666666666,
              "#ed7953"
             ],
             [
              0.7777777777777778,
              "#fb9f3a"
             ],
             [
              0.8888888888888888,
              "#fdca26"
             ],
             [
              1,
              "#f0f921"
             ]
            ],
            "type": "surface"
           }
          ],
          "table": [
           {
            "cells": {
             "fill": {
              "color": "#EBF0F8"
             },
             "line": {
              "color": "white"
             }
            },
            "header": {
             "fill": {
              "color": "#C8D4E3"
             },
             "line": {
              "color": "white"
             }
            },
            "type": "table"
           }
          ]
         },
         "layout": {
          "annotationdefaults": {
           "arrowcolor": "#2a3f5f",
           "arrowhead": 0,
           "arrowwidth": 1
          },
          "autotypenumbers": "strict",
          "coloraxis": {
           "colorbar": {
            "outlinewidth": 0,
            "ticks": ""
           }
          },
          "colorscale": {
           "diverging": [
            [
             0,
             "#8e0152"
            ],
            [
             0.1,
             "#c51b7d"
            ],
            [
             0.2,
             "#de77ae"
            ],
            [
             0.3,
             "#f1b6da"
            ],
            [
             0.4,
             "#fde0ef"
            ],
            [
             0.5,
             "#f7f7f7"
            ],
            [
             0.6,
             "#e6f5d0"
            ],
            [
             0.7,
             "#b8e186"
            ],
            [
             0.8,
             "#7fbc41"
            ],
            [
             0.9,
             "#4d9221"
            ],
            [
             1,
             "#276419"
            ]
           ],
           "sequential": [
            [
             0,
             "#0d0887"
            ],
            [
             0.1111111111111111,
             "#46039f"
            ],
            [
             0.2222222222222222,
             "#7201a8"
            ],
            [
             0.3333333333333333,
             "#9c179e"
            ],
            [
             0.4444444444444444,
             "#bd3786"
            ],
            [
             0.5555555555555556,
             "#d8576b"
            ],
            [
             0.6666666666666666,
             "#ed7953"
            ],
            [
             0.7777777777777778,
             "#fb9f3a"
            ],
            [
             0.8888888888888888,
             "#fdca26"
            ],
            [
             1,
             "#f0f921"
            ]
           ],
           "sequentialminus": [
            [
             0,
             "#0d0887"
            ],
            [
             0.1111111111111111,
             "#46039f"
            ],
            [
             0.2222222222222222,
             "#7201a8"
            ],
            [
             0.3333333333333333,
             "#9c179e"
            ],
            [
             0.4444444444444444,
             "#bd3786"
            ],
            [
             0.5555555555555556,
             "#d8576b"
            ],
            [
             0.6666666666666666,
             "#ed7953"
            ],
            [
             0.7777777777777778,
             "#fb9f3a"
            ],
            [
             0.8888888888888888,
             "#fdca26"
            ],
            [
             1,
             "#f0f921"
            ]
           ]
          },
          "colorway": [
           "#636efa",
           "#EF553B",
           "#00cc96",
           "#ab63fa",
           "#FFA15A",
           "#19d3f3",
           "#FF6692",
           "#B6E880",
           "#FF97FF",
           "#FECB52"
          ],
          "font": {
           "color": "#2a3f5f"
          },
          "geo": {
           "bgcolor": "white",
           "lakecolor": "white",
           "landcolor": "#E5ECF6",
           "showlakes": true,
           "showland": true,
           "subunitcolor": "white"
          },
          "hoverlabel": {
           "align": "left"
          },
          "hovermode": "closest",
          "mapbox": {
           "style": "light"
          },
          "paper_bgcolor": "white",
          "plot_bgcolor": "#E5ECF6",
          "polar": {
           "angularaxis": {
            "gridcolor": "white",
            "linecolor": "white",
            "ticks": ""
           },
           "bgcolor": "#E5ECF6",
           "radialaxis": {
            "gridcolor": "white",
            "linecolor": "white",
            "ticks": ""
           }
          },
          "scene": {
           "xaxis": {
            "backgroundcolor": "#E5ECF6",
            "gridcolor": "white",
            "gridwidth": 2,
            "linecolor": "white",
            "showbackground": true,
            "ticks": "",
            "zerolinecolor": "white"
           },
           "yaxis": {
            "backgroundcolor": "#E5ECF6",
            "gridcolor": "white",
            "gridwidth": 2,
            "linecolor": "white",
            "showbackground": true,
            "ticks": "",
            "zerolinecolor": "white"
           },
           "zaxis": {
            "backgroundcolor": "#E5ECF6",
            "gridcolor": "white",
            "gridwidth": 2,
            "linecolor": "white",
            "showbackground": true,
            "ticks": "",
            "zerolinecolor": "white"
           }
          },
          "shapedefaults": {
           "line": {
            "color": "#2a3f5f"
           }
          },
          "ternary": {
           "aaxis": {
            "gridcolor": "white",
            "linecolor": "white",
            "ticks": ""
           },
           "baxis": {
            "gridcolor": "white",
            "linecolor": "white",
            "ticks": ""
           },
           "bgcolor": "#E5ECF6",
           "caxis": {
            "gridcolor": "white",
            "linecolor": "white",
            "ticks": ""
           }
          },
          "title": {
           "x": 0.05
          },
          "xaxis": {
           "automargin": true,
           "gridcolor": "white",
           "linecolor": "white",
           "ticks": "",
           "title": {
            "standoff": 15
           },
           "zerolinecolor": "white",
           "zerolinewidth": 2
          },
          "yaxis": {
           "automargin": true,
           "gridcolor": "white",
           "linecolor": "white",
           "ticks": "",
           "title": {
            "standoff": 15
           },
           "zerolinecolor": "white",
           "zerolinewidth": 2
          }
         }
        },
        "xaxis": {
         "anchor": "y",
         "domain": [
          0,
          1
         ],
         "title": {
          "text": "Country"
         }
        },
        "yaxis": {
         "anchor": "x",
         "domain": [
          0,
          1
         ],
         "title": {
          "text": "value"
         }
        }
       }
      }
     },
     "metadata": {},
     "output_type": "display_data"
    }
   ],
   "source": [
    "# africa_p.plot(figsize=(21,7))\n",
    "px.line(africa_p)"
   ]
  },
  {
   "cell_type": "markdown",
   "metadata": {},
   "source": [
    "Africa : In general the average happiness score between 2.9 till 5 less country >Burundi** high country > Algeria**"
   ]
  },
  {
   "cell_type": "code",
   "execution_count": 135,
   "metadata": {},
   "outputs": [
    {
     "data": {
      "text/html": [
       "<div>\n",
       "<style scoped>\n",
       "    .dataframe tbody tr th:only-of-type {\n",
       "        vertical-align: middle;\n",
       "    }\n",
       "\n",
       "    .dataframe tbody tr th {\n",
       "        vertical-align: top;\n",
       "    }\n",
       "\n",
       "    .dataframe thead th {\n",
       "        text-align: right;\n",
       "    }\n",
       "</style>\n",
       "<table border=\"1\" class=\"dataframe\">\n",
       "  <thead>\n",
       "    <tr style=\"text-align: right;\">\n",
       "      <th>Year</th>\n",
       "      <th>2015</th>\n",
       "      <th>2016</th>\n",
       "      <th>2017</th>\n",
       "      <th>2018</th>\n",
       "      <th>2019</th>\n",
       "      <th>2020</th>\n",
       "    </tr>\n",
       "    <tr>\n",
       "      <th>Country</th>\n",
       "      <th></th>\n",
       "      <th></th>\n",
       "      <th></th>\n",
       "      <th></th>\n",
       "      <th></th>\n",
       "      <th></th>\n",
       "    </tr>\n",
       "  </thead>\n",
       "  <tbody>\n",
       "    <tr>\n",
       "      <th>Yemen</th>\n",
       "      <td>3.593</td>\n",
       "      <td>4.077</td>\n",
       "      <td>3.380</td>\n",
       "      <td>3.355</td>\n",
       "      <td>3.724</td>\n",
       "      <td>3.5274</td>\n",
       "    </tr>\n",
       "    <tr>\n",
       "      <th>Afghanistan</th>\n",
       "      <td>3.794</td>\n",
       "      <td>3.575</td>\n",
       "      <td>3.203</td>\n",
       "      <td>3.632</td>\n",
       "      <td>3.360</td>\n",
       "      <td>2.5669</td>\n",
       "    </tr>\n",
       "    <tr>\n",
       "      <th>Cambodia</th>\n",
       "      <td>4.168</td>\n",
       "      <td>3.819</td>\n",
       "      <td>4.700</td>\n",
       "      <td>4.433</td>\n",
       "      <td>3.907</td>\n",
       "      <td>4.8484</td>\n",
       "    </tr>\n",
       "    <tr>\n",
       "      <th>Georgia</th>\n",
       "      <td>4.286</td>\n",
       "      <td>4.297</td>\n",
       "      <td>4.519</td>\n",
       "      <td>4.340</td>\n",
       "      <td>4.252</td>\n",
       "      <td>4.6726</td>\n",
       "    </tr>\n",
       "    <tr>\n",
       "      <th>India</th>\n",
       "      <td>4.315</td>\n",
       "      <td>4.565</td>\n",
       "      <td>4.015</td>\n",
       "      <td>4.190</td>\n",
       "      <td>4.404</td>\n",
       "      <td>3.5733</td>\n",
       "    </tr>\n",
       "    <tr>\n",
       "      <th>Armenia</th>\n",
       "      <td>4.376</td>\n",
       "      <td>4.350</td>\n",
       "      <td>4.559</td>\n",
       "      <td>4.321</td>\n",
       "      <td>4.360</td>\n",
       "      <td>4.6768</td>\n",
       "    </tr>\n",
       "    <tr>\n",
       "      <th>Sri Lanka</th>\n",
       "      <td>4.440</td>\n",
       "      <td>4.271</td>\n",
       "      <td>4.366</td>\n",
       "      <td>4.471</td>\n",
       "      <td>4.415</td>\n",
       "      <td>4.3270</td>\n",
       "    </tr>\n",
       "    <tr>\n",
       "      <th>Iraq</th>\n",
       "      <td>4.497</td>\n",
       "      <td>4.677</td>\n",
       "      <td>4.437</td>\n",
       "      <td>4.456</td>\n",
       "      <td>4.575</td>\n",
       "      <td>4.7848</td>\n",
       "    </tr>\n",
       "    <tr>\n",
       "      <th>Myanmar</th>\n",
       "      <td>4.545</td>\n",
       "      <td>4.307</td>\n",
       "      <td>4.360</td>\n",
       "      <td>4.308</td>\n",
       "      <td>4.395</td>\n",
       "      <td>4.3080</td>\n",
       "    </tr>\n",
       "    <tr>\n",
       "      <th>Bangladesh</th>\n",
       "      <td>4.608</td>\n",
       "      <td>4.694</td>\n",
       "      <td>4.456</td>\n",
       "      <td>4.500</td>\n",
       "      <td>4.643</td>\n",
       "      <td>4.8328</td>\n",
       "    </tr>\n",
       "    <tr>\n",
       "      <th>Iran</th>\n",
       "      <td>4.692</td>\n",
       "      <td>4.686</td>\n",
       "      <td>4.548</td>\n",
       "      <td>4.707</td>\n",
       "      <td>4.813</td>\n",
       "      <td>4.6724</td>\n",
       "    </tr>\n",
       "    <tr>\n",
       "      <th>Mongolia</th>\n",
       "      <td>4.955</td>\n",
       "      <td>4.874</td>\n",
       "      <td>5.285</td>\n",
       "      <td>5.125</td>\n",
       "      <td>4.907</td>\n",
       "      <td>5.4562</td>\n",
       "    </tr>\n",
       "    <tr>\n",
       "      <th>Nepal</th>\n",
       "      <td>4.962</td>\n",
       "      <td>4.514</td>\n",
       "      <td>4.913</td>\n",
       "      <td>4.880</td>\n",
       "      <td>4.793</td>\n",
       "      <td>5.1372</td>\n",
       "    </tr>\n",
       "    <tr>\n",
       "      <th>Kyrgyzstan</th>\n",
       "      <td>5.004</td>\n",
       "      <td>5.286</td>\n",
       "      <td>5.261</td>\n",
       "      <td>5.131</td>\n",
       "      <td>5.185</td>\n",
       "      <td>5.5415</td>\n",
       "    </tr>\n",
       "    <tr>\n",
       "      <th>Tajikistan</th>\n",
       "      <td>5.041</td>\n",
       "      <td>4.786</td>\n",
       "      <td>5.467</td>\n",
       "      <td>5.199</td>\n",
       "      <td>4.996</td>\n",
       "      <td>5.5557</td>\n",
       "    </tr>\n",
       "    <tr>\n",
       "      <th>Vietnam</th>\n",
       "      <td>5.074</td>\n",
       "      <td>5.360</td>\n",
       "      <td>5.175</td>\n",
       "      <td>5.103</td>\n",
       "      <td>5.061</td>\n",
       "      <td>5.3535</td>\n",
       "    </tr>\n",
       "    <tr>\n",
       "      <th>Lebanon</th>\n",
       "      <td>5.225</td>\n",
       "      <td>4.839</td>\n",
       "      <td>5.197</td>\n",
       "      <td>5.358</td>\n",
       "      <td>5.129</td>\n",
       "      <td>4.7715</td>\n",
       "    </tr>\n",
       "    <tr>\n",
       "      <th>Azerbaijan</th>\n",
       "      <td>5.234</td>\n",
       "      <td>5.212</td>\n",
       "      <td>5.208</td>\n",
       "      <td>5.201</td>\n",
       "      <td>5.291</td>\n",
       "      <td>5.1648</td>\n",
       "    </tr>\n",
       "    <tr>\n",
       "      <th>Indonesia</th>\n",
       "      <td>5.262</td>\n",
       "      <td>5.399</td>\n",
       "      <td>5.192</td>\n",
       "      <td>5.093</td>\n",
       "      <td>5.314</td>\n",
       "      <td>5.2856</td>\n",
       "    </tr>\n",
       "    <tr>\n",
       "      <th>Pakistan</th>\n",
       "      <td>5.269</td>\n",
       "      <td>5.194</td>\n",
       "      <td>5.653</td>\n",
       "      <td>5.472</td>\n",
       "      <td>5.132</td>\n",
       "      <td>5.6933</td>\n",
       "    </tr>\n",
       "    <tr>\n",
       "      <th>China</th>\n",
       "      <td>5.273</td>\n",
       "      <td>5.140</td>\n",
       "      <td>5.191</td>\n",
       "      <td>5.246</td>\n",
       "      <td>5.245</td>\n",
       "      <td>5.1239</td>\n",
       "    </tr>\n",
       "    <tr>\n",
       "      <th>Jordan</th>\n",
       "      <td>5.336</td>\n",
       "      <td>5.192</td>\n",
       "      <td>4.906</td>\n",
       "      <td>5.161</td>\n",
       "      <td>5.303</td>\n",
       "      <td>4.6334</td>\n",
       "    </tr>\n",
       "    <tr>\n",
       "      <th>Philippines</th>\n",
       "      <td>5.430</td>\n",
       "      <td>5.073</td>\n",
       "      <td>5.631</td>\n",
       "      <td>5.524</td>\n",
       "      <td>5.279</td>\n",
       "      <td>6.0060</td>\n",
       "    </tr>\n",
       "    <tr>\n",
       "      <th>Turkey</th>\n",
       "      <td>5.500</td>\n",
       "      <td>5.332</td>\n",
       "      <td>5.373</td>\n",
       "      <td>5.483</td>\n",
       "      <td>5.389</td>\n",
       "      <td>5.1318</td>\n",
       "    </tr>\n",
       "    <tr>\n",
       "      <th>Cyprus</th>\n",
       "      <td>5.621</td>\n",
       "      <td>5.689</td>\n",
       "      <td>6.046</td>\n",
       "      <td>5.762</td>\n",
       "      <td>5.546</td>\n",
       "      <td>6.1590</td>\n",
       "    </tr>\n",
       "    <tr>\n",
       "      <th>Kazakhstan</th>\n",
       "      <td>5.819</td>\n",
       "      <td>5.855</td>\n",
       "      <td>5.809</td>\n",
       "      <td>5.790</td>\n",
       "      <td>5.919</td>\n",
       "      <td>6.0579</td>\n",
       "    </tr>\n",
       "    <tr>\n",
       "      <th>Turkmenistan</th>\n",
       "      <td>5.822</td>\n",
       "      <td>5.548</td>\n",
       "      <td>5.247</td>\n",
       "      <td>5.636</td>\n",
       "      <td>5.658</td>\n",
       "      <td>5.1191</td>\n",
       "    </tr>\n",
       "    <tr>\n",
       "      <th>Japan</th>\n",
       "      <td>5.920</td>\n",
       "      <td>5.987</td>\n",
       "      <td>5.886</td>\n",
       "      <td>5.915</td>\n",
       "      <td>5.921</td>\n",
       "      <td>5.8708</td>\n",
       "    </tr>\n",
       "    <tr>\n",
       "      <th>Uzbekistan</th>\n",
       "      <td>5.971</td>\n",
       "      <td>6.003</td>\n",
       "      <td>6.174</td>\n",
       "      <td>6.096</td>\n",
       "      <td>5.987</td>\n",
       "      <td>6.2576</td>\n",
       "    </tr>\n",
       "    <tr>\n",
       "      <th>Malaysia</th>\n",
       "      <td>6.084</td>\n",
       "      <td>5.770</td>\n",
       "      <td>5.339</td>\n",
       "      <td>6.322</td>\n",
       "      <td>6.005</td>\n",
       "      <td>5.3843</td>\n",
       "    </tr>\n",
       "    <tr>\n",
       "      <th>Bahrain</th>\n",
       "      <td>6.087</td>\n",
       "      <td>5.960</td>\n",
       "      <td>6.199</td>\n",
       "      <td>6.105</td>\n",
       "      <td>6.218</td>\n",
       "      <td>6.2273</td>\n",
       "    </tr>\n",
       "    <tr>\n",
       "      <th>Kuwait</th>\n",
       "      <td>6.105</td>\n",
       "      <td>6.295</td>\n",
       "      <td>6.021</td>\n",
       "      <td>6.083</td>\n",
       "      <td>6.239</td>\n",
       "      <td>6.1021</td>\n",
       "    </tr>\n",
       "    <tr>\n",
       "      <th>Saudi Arabia</th>\n",
       "      <td>6.344</td>\n",
       "      <td>6.411</td>\n",
       "      <td>6.375</td>\n",
       "      <td>6.371</td>\n",
       "      <td>6.379</td>\n",
       "      <td>6.4065</td>\n",
       "    </tr>\n",
       "    <tr>\n",
       "      <th>Thailand</th>\n",
       "      <td>6.424</td>\n",
       "      <td>6.455</td>\n",
       "      <td>6.008</td>\n",
       "      <td>6.072</td>\n",
       "      <td>6.474</td>\n",
       "      <td>5.9988</td>\n",
       "    </tr>\n",
       "    <tr>\n",
       "      <th>Singapore</th>\n",
       "      <td>6.572</td>\n",
       "      <td>6.798</td>\n",
       "      <td>6.262</td>\n",
       "      <td>6.343</td>\n",
       "      <td>6.739</td>\n",
       "      <td>6.3771</td>\n",
       "    </tr>\n",
       "    <tr>\n",
       "      <th>United Arab Emirates</th>\n",
       "      <td>6.648</td>\n",
       "      <td>6.901</td>\n",
       "      <td>6.825</td>\n",
       "      <td>6.774</td>\n",
       "      <td>6.573</td>\n",
       "      <td>6.7908</td>\n",
       "    </tr>\n",
       "    <tr>\n",
       "      <th>Israel</th>\n",
       "      <td>7.213</td>\n",
       "      <td>7.278</td>\n",
       "      <td>7.139</td>\n",
       "      <td>6.814</td>\n",
       "      <td>7.267</td>\n",
       "      <td>7.1286</td>\n",
       "    </tr>\n",
       "  </tbody>\n",
       "</table>\n",
       "</div>"
      ],
      "text/plain": [
       "Year                   2015   2016   2017   2018   2019    2020\n",
       "Country                                                        \n",
       "Yemen                 3.593  4.077  3.380  3.355  3.724  3.5274\n",
       "Afghanistan           3.794  3.575  3.203  3.632  3.360  2.5669\n",
       "Cambodia              4.168  3.819  4.700  4.433  3.907  4.8484\n",
       "Georgia               4.286  4.297  4.519  4.340  4.252  4.6726\n",
       "India                 4.315  4.565  4.015  4.190  4.404  3.5733\n",
       "Armenia               4.376  4.350  4.559  4.321  4.360  4.6768\n",
       "Sri Lanka             4.440  4.271  4.366  4.471  4.415  4.3270\n",
       "Iraq                  4.497  4.677  4.437  4.456  4.575  4.7848\n",
       "Myanmar               4.545  4.307  4.360  4.308  4.395  4.3080\n",
       "Bangladesh            4.608  4.694  4.456  4.500  4.643  4.8328\n",
       "Iran                  4.692  4.686  4.548  4.707  4.813  4.6724\n",
       "Mongolia              4.955  4.874  5.285  5.125  4.907  5.4562\n",
       "Nepal                 4.962  4.514  4.913  4.880  4.793  5.1372\n",
       "Kyrgyzstan            5.004  5.286  5.261  5.131  5.185  5.5415\n",
       "Tajikistan            5.041  4.786  5.467  5.199  4.996  5.5557\n",
       "Vietnam               5.074  5.360  5.175  5.103  5.061  5.3535\n",
       "Lebanon               5.225  4.839  5.197  5.358  5.129  4.7715\n",
       "Azerbaijan            5.234  5.212  5.208  5.201  5.291  5.1648\n",
       "Indonesia             5.262  5.399  5.192  5.093  5.314  5.2856\n",
       "Pakistan              5.269  5.194  5.653  5.472  5.132  5.6933\n",
       "China                 5.273  5.140  5.191  5.246  5.245  5.1239\n",
       "Jordan                5.336  5.192  4.906  5.161  5.303  4.6334\n",
       "Philippines           5.430  5.073  5.631  5.524  5.279  6.0060\n",
       "Turkey                5.500  5.332  5.373  5.483  5.389  5.1318\n",
       "Cyprus                5.621  5.689  6.046  5.762  5.546  6.1590\n",
       "Kazakhstan            5.819  5.855  5.809  5.790  5.919  6.0579\n",
       "Turkmenistan          5.822  5.548  5.247  5.636  5.658  5.1191\n",
       "Japan                 5.920  5.987  5.886  5.915  5.921  5.8708\n",
       "Uzbekistan            5.971  6.003  6.174  6.096  5.987  6.2576\n",
       "Malaysia              6.084  5.770  5.339  6.322  6.005  5.3843\n",
       "Bahrain               6.087  5.960  6.199  6.105  6.218  6.2273\n",
       "Kuwait                6.105  6.295  6.021  6.083  6.239  6.1021\n",
       "Saudi Arabia          6.344  6.411  6.375  6.371  6.379  6.4065\n",
       "Thailand              6.424  6.455  6.008  6.072  6.474  5.9988\n",
       "Singapore             6.572  6.798  6.262  6.343  6.739  6.3771\n",
       "United Arab Emirates  6.648  6.901  6.825  6.774  6.573  6.7908\n",
       "Israel                7.213  7.278  7.139  6.814  7.267  7.1286"
      ]
     },
     "execution_count": 135,
     "metadata": {},
     "output_type": "execute_result"
    }
   ],
   "source": [
    " # create pivot table - asia\n",
    "\n",
    "asia_p=asia.pivot_table(index=\"Country\",columns=\"Year\",values=\"happiness_score\")\n",
    "asia_p.sort_values(by=2015)"
   ]
  },
  {
   "cell_type": "code",
   "execution_count": 136,
   "metadata": {},
   "outputs": [
    {
     "data": {
      "application/vnd.plotly.v1+json": {
       "config": {
        "plotlyServerURL": "https://plot.ly"
       },
       "data": [
        {
         "hovertemplate": "Year=2015<br>Country=%{x}<br>value=%{y}<extra></extra>",
         "legendgroup": "2015",
         "line": {
          "color": "#636efa",
          "dash": "solid"
         },
         "marker": {
          "symbol": "circle"
         },
         "mode": "lines",
         "name": "2015",
         "orientation": "v",
         "showlegend": true,
         "type": "scatter",
         "x": [
          "Afghanistan",
          "Armenia",
          "Azerbaijan",
          "Bahrain",
          "Bangladesh",
          "Cambodia",
          "China",
          "Cyprus",
          "Georgia",
          "India",
          "Indonesia",
          "Iran",
          "Iraq",
          "Israel",
          "Japan",
          "Jordan",
          "Kazakhstan",
          "Kuwait",
          "Kyrgyzstan",
          "Lebanon",
          "Malaysia",
          "Mongolia",
          "Myanmar",
          "Nepal",
          "Pakistan",
          "Philippines",
          "Saudi Arabia",
          "Singapore",
          "Sri Lanka",
          "Tajikistan",
          "Thailand",
          "Turkey",
          "Turkmenistan",
          "United Arab Emirates",
          "Uzbekistan",
          "Vietnam",
          "Yemen"
         ],
         "xaxis": "x",
         "y": [
          3.79399991,
          4.375999928,
          5.234000206,
          6.086999893,
          4.607999802,
          4.168000221,
          5.272999763,
          5.620999813,
          4.285999775,
          4.315000057,
          5.262000084,
          4.691999912,
          4.497000217,
          7.212999821,
          5.920000076,
          5.335999966,
          5.818999767,
          6.105000019,
          5.004000187,
          5.224999905,
          6.084000111,
          4.954999924,
          4.545000076,
          4.961999893,
          5.269000053,
          5.429999828,
          6.343999863,
          6.572000027,
          4.440000057,
          5.040999889,
          6.423999786,
          5.5,
          5.822000027,
          6.647999763,
          5.971000195,
          5.073999882,
          3.592999935
         ],
         "yaxis": "y"
        },
        {
         "hovertemplate": "Year=2016<br>Country=%{x}<br>value=%{y}<extra></extra>",
         "legendgroup": "2016",
         "line": {
          "color": "#EF553B",
          "dash": "solid"
         },
         "marker": {
          "symbol": "circle"
         },
         "mode": "lines",
         "name": "2016",
         "orientation": "v",
         "showlegend": true,
         "type": "scatter",
         "x": [
          "Afghanistan",
          "Armenia",
          "Azerbaijan",
          "Bahrain",
          "Bangladesh",
          "Cambodia",
          "China",
          "Cyprus",
          "Georgia",
          "India",
          "Indonesia",
          "Iran",
          "Iraq",
          "Israel",
          "Japan",
          "Jordan",
          "Kazakhstan",
          "Kuwait",
          "Kyrgyzstan",
          "Lebanon",
          "Malaysia",
          "Mongolia",
          "Myanmar",
          "Nepal",
          "Pakistan",
          "Philippines",
          "Saudi Arabia",
          "Singapore",
          "Sri Lanka",
          "Tajikistan",
          "Thailand",
          "Turkey",
          "Turkmenistan",
          "United Arab Emirates",
          "Uzbekistan",
          "Vietnam",
          "Yemen"
         ],
         "xaxis": "x",
         "y": [
          3.575,
          4.35,
          5.212,
          5.96,
          4.694,
          3.819,
          5.14,
          5.689,
          4.297,
          4.565,
          5.399,
          4.686,
          4.677,
          7.278,
          5.987,
          5.192,
          5.855,
          6.295,
          5.286,
          4.839,
          5.77,
          4.874,
          4.307,
          4.514,
          5.194,
          5.073,
          6.411,
          6.798,
          4.271,
          4.786,
          6.455,
          5.332,
          5.548,
          6.901,
          6.003,
          5.36,
          4.077
         ],
         "yaxis": "y"
        },
        {
         "hovertemplate": "Year=2017<br>Country=%{x}<br>value=%{y}<extra></extra>",
         "legendgroup": "2017",
         "line": {
          "color": "#00cc96",
          "dash": "solid"
         },
         "marker": {
          "symbol": "circle"
         },
         "mode": "lines",
         "name": "2017",
         "orientation": "v",
         "showlegend": true,
         "type": "scatter",
         "x": [
          "Afghanistan",
          "Armenia",
          "Azerbaijan",
          "Bahrain",
          "Bangladesh",
          "Cambodia",
          "China",
          "Cyprus",
          "Georgia",
          "India",
          "Indonesia",
          "Iran",
          "Iraq",
          "Israel",
          "Japan",
          "Jordan",
          "Kazakhstan",
          "Kuwait",
          "Kyrgyzstan",
          "Lebanon",
          "Malaysia",
          "Mongolia",
          "Myanmar",
          "Nepal",
          "Pakistan",
          "Philippines",
          "Saudi Arabia",
          "Singapore",
          "Sri Lanka",
          "Tajikistan",
          "Thailand",
          "Turkey",
          "Turkmenistan",
          "United Arab Emirates",
          "Uzbekistan",
          "Vietnam",
          "Yemen"
         ],
         "xaxis": "x",
         "y": [
          3.203,
          4.559,
          5.208,
          6.199,
          4.456,
          4.7,
          5.191,
          6.046,
          4.519,
          4.015,
          5.192,
          4.548,
          4.437,
          7.139,
          5.886,
          4.906,
          5.809,
          6.021,
          5.261,
          5.197,
          5.339,
          5.285,
          4.36,
          4.913,
          5.653,
          5.631,
          6.375,
          6.262,
          4.366,
          5.467,
          6.008,
          5.373,
          5.247,
          6.825,
          6.174,
          5.175,
          3.38
         ],
         "yaxis": "y"
        },
        {
         "hovertemplate": "Year=2018<br>Country=%{x}<br>value=%{y}<extra></extra>",
         "legendgroup": "2018",
         "line": {
          "color": "#ab63fa",
          "dash": "solid"
         },
         "marker": {
          "symbol": "circle"
         },
         "mode": "lines",
         "name": "2018",
         "orientation": "v",
         "showlegend": true,
         "type": "scatter",
         "x": [
          "Afghanistan",
          "Armenia",
          "Azerbaijan",
          "Bahrain",
          "Bangladesh",
          "Cambodia",
          "China",
          "Cyprus",
          "Georgia",
          "India",
          "Indonesia",
          "Iran",
          "Iraq",
          "Israel",
          "Japan",
          "Jordan",
          "Kazakhstan",
          "Kuwait",
          "Kyrgyzstan",
          "Lebanon",
          "Malaysia",
          "Mongolia",
          "Myanmar",
          "Nepal",
          "Pakistan",
          "Philippines",
          "Saudi Arabia",
          "Singapore",
          "Sri Lanka",
          "Tajikistan",
          "Thailand",
          "Turkey",
          "Turkmenistan",
          "United Arab Emirates",
          "Uzbekistan",
          "Vietnam",
          "Yemen"
         ],
         "xaxis": "x",
         "y": [
          3.632,
          4.321,
          5.201,
          6.105,
          4.5,
          4.433,
          5.246,
          5.762,
          4.34,
          4.19,
          5.093,
          4.707,
          4.456,
          6.814,
          5.915,
          5.161,
          5.79,
          6.083,
          5.131,
          5.358,
          6.322,
          5.125,
          4.308,
          4.88,
          5.472,
          5.524,
          6.371,
          6.343,
          4.471,
          5.199,
          6.072,
          5.483,
          5.636,
          6.774,
          6.096,
          5.103,
          3.355
         ],
         "yaxis": "y"
        },
        {
         "hovertemplate": "Year=2019<br>Country=%{x}<br>value=%{y}<extra></extra>",
         "legendgroup": "2019",
         "line": {
          "color": "#FFA15A",
          "dash": "solid"
         },
         "marker": {
          "symbol": "circle"
         },
         "mode": "lines",
         "name": "2019",
         "orientation": "v",
         "showlegend": true,
         "type": "scatter",
         "x": [
          "Afghanistan",
          "Armenia",
          "Azerbaijan",
          "Bahrain",
          "Bangladesh",
          "Cambodia",
          "China",
          "Cyprus",
          "Georgia",
          "India",
          "Indonesia",
          "Iran",
          "Iraq",
          "Israel",
          "Japan",
          "Jordan",
          "Kazakhstan",
          "Kuwait",
          "Kyrgyzstan",
          "Lebanon",
          "Malaysia",
          "Mongolia",
          "Myanmar",
          "Nepal",
          "Pakistan",
          "Philippines",
          "Saudi Arabia",
          "Singapore",
          "Sri Lanka",
          "Tajikistan",
          "Thailand",
          "Turkey",
          "Turkmenistan",
          "United Arab Emirates",
          "Uzbekistan",
          "Vietnam",
          "Yemen"
         ],
         "xaxis": "x",
         "y": [
          3.36,
          4.36,
          5.291,
          6.218,
          4.643,
          3.907,
          5.245,
          5.546,
          4.252,
          4.404,
          5.314,
          4.813,
          4.575,
          7.267,
          5.921,
          5.303,
          5.919,
          6.239,
          5.185,
          5.129,
          6.005,
          4.907,
          4.395,
          4.793,
          5.132,
          5.279,
          6.379,
          6.739,
          4.415,
          4.996,
          6.474,
          5.389,
          5.658,
          6.573,
          5.987,
          5.061,
          3.724
         ],
         "yaxis": "y"
        },
        {
         "hovertemplate": "Year=2020<br>Country=%{x}<br>value=%{y}<extra></extra>",
         "legendgroup": "2020",
         "line": {
          "color": "#19d3f3",
          "dash": "solid"
         },
         "marker": {
          "symbol": "circle"
         },
         "mode": "lines",
         "name": "2020",
         "orientation": "v",
         "showlegend": true,
         "type": "scatter",
         "x": [
          "Afghanistan",
          "Armenia",
          "Azerbaijan",
          "Bahrain",
          "Bangladesh",
          "Cambodia",
          "China",
          "Cyprus",
          "Georgia",
          "India",
          "Indonesia",
          "Iran",
          "Iraq",
          "Israel",
          "Japan",
          "Jordan",
          "Kazakhstan",
          "Kuwait",
          "Kyrgyzstan",
          "Lebanon",
          "Malaysia",
          "Mongolia",
          "Myanmar",
          "Nepal",
          "Pakistan",
          "Philippines",
          "Saudi Arabia",
          "Singapore",
          "Sri Lanka",
          "Tajikistan",
          "Thailand",
          "Turkey",
          "Turkmenistan",
          "United Arab Emirates",
          "Uzbekistan",
          "Vietnam",
          "Yemen"
         ],
         "xaxis": "x",
         "y": [
          2.566900015,
          4.676799774,
          5.164800167,
          6.227300167,
          4.832799911,
          4.848400116,
          5.123899937,
          6.15899992,
          4.672599792,
          3.573299885,
          5.285600185,
          4.672399998,
          4.784800053,
          7.128600121,
          5.870800018,
          4.633399963,
          6.057899952,
          6.102099895,
          5.541500092,
          4.771500111,
          5.384300232,
          5.456200123,
          4.308000088,
          5.137199879,
          5.69329977,
          6.006000042,
          6.406499863,
          6.377099991,
          4.327000141,
          5.555699825,
          5.998799801,
          5.131800175,
          5.119100094,
          6.790800095,
          6.257599831,
          5.353499889,
          3.527400017
         ],
         "yaxis": "y"
        }
       ],
       "layout": {
        "legend": {
         "title": {
          "text": "Year"
         },
         "tracegroupgap": 0
        },
        "margin": {
         "t": 60
        },
        "template": {
         "data": {
          "bar": [
           {
            "error_x": {
             "color": "#2a3f5f"
            },
            "error_y": {
             "color": "#2a3f5f"
            },
            "marker": {
             "line": {
              "color": "#E5ECF6",
              "width": 0.5
             },
             "pattern": {
              "fillmode": "overlay",
              "size": 10,
              "solidity": 0.2
             }
            },
            "type": "bar"
           }
          ],
          "barpolar": [
           {
            "marker": {
             "line": {
              "color": "#E5ECF6",
              "width": 0.5
             },
             "pattern": {
              "fillmode": "overlay",
              "size": 10,
              "solidity": 0.2
             }
            },
            "type": "barpolar"
           }
          ],
          "carpet": [
           {
            "aaxis": {
             "endlinecolor": "#2a3f5f",
             "gridcolor": "white",
             "linecolor": "white",
             "minorgridcolor": "white",
             "startlinecolor": "#2a3f5f"
            },
            "baxis": {
             "endlinecolor": "#2a3f5f",
             "gridcolor": "white",
             "linecolor": "white",
             "minorgridcolor": "white",
             "startlinecolor": "#2a3f5f"
            },
            "type": "carpet"
           }
          ],
          "choropleth": [
           {
            "colorbar": {
             "outlinewidth": 0,
             "ticks": ""
            },
            "type": "choropleth"
           }
          ],
          "contour": [
           {
            "colorbar": {
             "outlinewidth": 0,
             "ticks": ""
            },
            "colorscale": [
             [
              0,
              "#0d0887"
             ],
             [
              0.1111111111111111,
              "#46039f"
             ],
             [
              0.2222222222222222,
              "#7201a8"
             ],
             [
              0.3333333333333333,
              "#9c179e"
             ],
             [
              0.4444444444444444,
              "#bd3786"
             ],
             [
              0.5555555555555556,
              "#d8576b"
             ],
             [
              0.6666666666666666,
              "#ed7953"
             ],
             [
              0.7777777777777778,
              "#fb9f3a"
             ],
             [
              0.8888888888888888,
              "#fdca26"
             ],
             [
              1,
              "#f0f921"
             ]
            ],
            "type": "contour"
           }
          ],
          "contourcarpet": [
           {
            "colorbar": {
             "outlinewidth": 0,
             "ticks": ""
            },
            "type": "contourcarpet"
           }
          ],
          "heatmap": [
           {
            "colorbar": {
             "outlinewidth": 0,
             "ticks": ""
            },
            "colorscale": [
             [
              0,
              "#0d0887"
             ],
             [
              0.1111111111111111,
              "#46039f"
             ],
             [
              0.2222222222222222,
              "#7201a8"
             ],
             [
              0.3333333333333333,
              "#9c179e"
             ],
             [
              0.4444444444444444,
              "#bd3786"
             ],
             [
              0.5555555555555556,
              "#d8576b"
             ],
             [
              0.6666666666666666,
              "#ed7953"
             ],
             [
              0.7777777777777778,
              "#fb9f3a"
             ],
             [
              0.8888888888888888,
              "#fdca26"
             ],
             [
              1,
              "#f0f921"
             ]
            ],
            "type": "heatmap"
           }
          ],
          "heatmapgl": [
           {
            "colorbar": {
             "outlinewidth": 0,
             "ticks": ""
            },
            "colorscale": [
             [
              0,
              "#0d0887"
             ],
             [
              0.1111111111111111,
              "#46039f"
             ],
             [
              0.2222222222222222,
              "#7201a8"
             ],
             [
              0.3333333333333333,
              "#9c179e"
             ],
             [
              0.4444444444444444,
              "#bd3786"
             ],
             [
              0.5555555555555556,
              "#d8576b"
             ],
             [
              0.6666666666666666,
              "#ed7953"
             ],
             [
              0.7777777777777778,
              "#fb9f3a"
             ],
             [
              0.8888888888888888,
              "#fdca26"
             ],
             [
              1,
              "#f0f921"
             ]
            ],
            "type": "heatmapgl"
           }
          ],
          "histogram": [
           {
            "marker": {
             "pattern": {
              "fillmode": "overlay",
              "size": 10,
              "solidity": 0.2
             }
            },
            "type": "histogram"
           }
          ],
          "histogram2d": [
           {
            "colorbar": {
             "outlinewidth": 0,
             "ticks": ""
            },
            "colorscale": [
             [
              0,
              "#0d0887"
             ],
             [
              0.1111111111111111,
              "#46039f"
             ],
             [
              0.2222222222222222,
              "#7201a8"
             ],
             [
              0.3333333333333333,
              "#9c179e"
             ],
             [
              0.4444444444444444,
              "#bd3786"
             ],
             [
              0.5555555555555556,
              "#d8576b"
             ],
             [
              0.6666666666666666,
              "#ed7953"
             ],
             [
              0.7777777777777778,
              "#fb9f3a"
             ],
             [
              0.8888888888888888,
              "#fdca26"
             ],
             [
              1,
              "#f0f921"
             ]
            ],
            "type": "histogram2d"
           }
          ],
          "histogram2dcontour": [
           {
            "colorbar": {
             "outlinewidth": 0,
             "ticks": ""
            },
            "colorscale": [
             [
              0,
              "#0d0887"
             ],
             [
              0.1111111111111111,
              "#46039f"
             ],
             [
              0.2222222222222222,
              "#7201a8"
             ],
             [
              0.3333333333333333,
              "#9c179e"
             ],
             [
              0.4444444444444444,
              "#bd3786"
             ],
             [
              0.5555555555555556,
              "#d8576b"
             ],
             [
              0.6666666666666666,
              "#ed7953"
             ],
             [
              0.7777777777777778,
              "#fb9f3a"
             ],
             [
              0.8888888888888888,
              "#fdca26"
             ],
             [
              1,
              "#f0f921"
             ]
            ],
            "type": "histogram2dcontour"
           }
          ],
          "mesh3d": [
           {
            "colorbar": {
             "outlinewidth": 0,
             "ticks": ""
            },
            "type": "mesh3d"
           }
          ],
          "parcoords": [
           {
            "line": {
             "colorbar": {
              "outlinewidth": 0,
              "ticks": ""
             }
            },
            "type": "parcoords"
           }
          ],
          "pie": [
           {
            "automargin": true,
            "type": "pie"
           }
          ],
          "scatter": [
           {
            "fillpattern": {
             "fillmode": "overlay",
             "size": 10,
             "solidity": 0.2
            },
            "type": "scatter"
           }
          ],
          "scatter3d": [
           {
            "line": {
             "colorbar": {
              "outlinewidth": 0,
              "ticks": ""
             }
            },
            "marker": {
             "colorbar": {
              "outlinewidth": 0,
              "ticks": ""
             }
            },
            "type": "scatter3d"
           }
          ],
          "scattercarpet": [
           {
            "marker": {
             "colorbar": {
              "outlinewidth": 0,
              "ticks": ""
             }
            },
            "type": "scattercarpet"
           }
          ],
          "scattergeo": [
           {
            "marker": {
             "colorbar": {
              "outlinewidth": 0,
              "ticks": ""
             }
            },
            "type": "scattergeo"
           }
          ],
          "scattergl": [
           {
            "marker": {
             "colorbar": {
              "outlinewidth": 0,
              "ticks": ""
             }
            },
            "type": "scattergl"
           }
          ],
          "scattermapbox": [
           {
            "marker": {
             "colorbar": {
              "outlinewidth": 0,
              "ticks": ""
             }
            },
            "type": "scattermapbox"
           }
          ],
          "scatterpolar": [
           {
            "marker": {
             "colorbar": {
              "outlinewidth": 0,
              "ticks": ""
             }
            },
            "type": "scatterpolar"
           }
          ],
          "scatterpolargl": [
           {
            "marker": {
             "colorbar": {
              "outlinewidth": 0,
              "ticks": ""
             }
            },
            "type": "scatterpolargl"
           }
          ],
          "scatterternary": [
           {
            "marker": {
             "colorbar": {
              "outlinewidth": 0,
              "ticks": ""
             }
            },
            "type": "scatterternary"
           }
          ],
          "surface": [
           {
            "colorbar": {
             "outlinewidth": 0,
             "ticks": ""
            },
            "colorscale": [
             [
              0,
              "#0d0887"
             ],
             [
              0.1111111111111111,
              "#46039f"
             ],
             [
              0.2222222222222222,
              "#7201a8"
             ],
             [
              0.3333333333333333,
              "#9c179e"
             ],
             [
              0.4444444444444444,
              "#bd3786"
             ],
             [
              0.5555555555555556,
              "#d8576b"
             ],
             [
              0.6666666666666666,
              "#ed7953"
             ],
             [
              0.7777777777777778,
              "#fb9f3a"
             ],
             [
              0.8888888888888888,
              "#fdca26"
             ],
             [
              1,
              "#f0f921"
             ]
            ],
            "type": "surface"
           }
          ],
          "table": [
           {
            "cells": {
             "fill": {
              "color": "#EBF0F8"
             },
             "line": {
              "color": "white"
             }
            },
            "header": {
             "fill": {
              "color": "#C8D4E3"
             },
             "line": {
              "color": "white"
             }
            },
            "type": "table"
           }
          ]
         },
         "layout": {
          "annotationdefaults": {
           "arrowcolor": "#2a3f5f",
           "arrowhead": 0,
           "arrowwidth": 1
          },
          "autotypenumbers": "strict",
          "coloraxis": {
           "colorbar": {
            "outlinewidth": 0,
            "ticks": ""
           }
          },
          "colorscale": {
           "diverging": [
            [
             0,
             "#8e0152"
            ],
            [
             0.1,
             "#c51b7d"
            ],
            [
             0.2,
             "#de77ae"
            ],
            [
             0.3,
             "#f1b6da"
            ],
            [
             0.4,
             "#fde0ef"
            ],
            [
             0.5,
             "#f7f7f7"
            ],
            [
             0.6,
             "#e6f5d0"
            ],
            [
             0.7,
             "#b8e186"
            ],
            [
             0.8,
             "#7fbc41"
            ],
            [
             0.9,
             "#4d9221"
            ],
            [
             1,
             "#276419"
            ]
           ],
           "sequential": [
            [
             0,
             "#0d0887"
            ],
            [
             0.1111111111111111,
             "#46039f"
            ],
            [
             0.2222222222222222,
             "#7201a8"
            ],
            [
             0.3333333333333333,
             "#9c179e"
            ],
            [
             0.4444444444444444,
             "#bd3786"
            ],
            [
             0.5555555555555556,
             "#d8576b"
            ],
            [
             0.6666666666666666,
             "#ed7953"
            ],
            [
             0.7777777777777778,
             "#fb9f3a"
            ],
            [
             0.8888888888888888,
             "#fdca26"
            ],
            [
             1,
             "#f0f921"
            ]
           ],
           "sequentialminus": [
            [
             0,
             "#0d0887"
            ],
            [
             0.1111111111111111,
             "#46039f"
            ],
            [
             0.2222222222222222,
             "#7201a8"
            ],
            [
             0.3333333333333333,
             "#9c179e"
            ],
            [
             0.4444444444444444,
             "#bd3786"
            ],
            [
             0.5555555555555556,
             "#d8576b"
            ],
            [
             0.6666666666666666,
             "#ed7953"
            ],
            [
             0.7777777777777778,
             "#fb9f3a"
            ],
            [
             0.8888888888888888,
             "#fdca26"
            ],
            [
             1,
             "#f0f921"
            ]
           ]
          },
          "colorway": [
           "#636efa",
           "#EF553B",
           "#00cc96",
           "#ab63fa",
           "#FFA15A",
           "#19d3f3",
           "#FF6692",
           "#B6E880",
           "#FF97FF",
           "#FECB52"
          ],
          "font": {
           "color": "#2a3f5f"
          },
          "geo": {
           "bgcolor": "white",
           "lakecolor": "white",
           "landcolor": "#E5ECF6",
           "showlakes": true,
           "showland": true,
           "subunitcolor": "white"
          },
          "hoverlabel": {
           "align": "left"
          },
          "hovermode": "closest",
          "mapbox": {
           "style": "light"
          },
          "paper_bgcolor": "white",
          "plot_bgcolor": "#E5ECF6",
          "polar": {
           "angularaxis": {
            "gridcolor": "white",
            "linecolor": "white",
            "ticks": ""
           },
           "bgcolor": "#E5ECF6",
           "radialaxis": {
            "gridcolor": "white",
            "linecolor": "white",
            "ticks": ""
           }
          },
          "scene": {
           "xaxis": {
            "backgroundcolor": "#E5ECF6",
            "gridcolor": "white",
            "gridwidth": 2,
            "linecolor": "white",
            "showbackground": true,
            "ticks": "",
            "zerolinecolor": "white"
           },
           "yaxis": {
            "backgroundcolor": "#E5ECF6",
            "gridcolor": "white",
            "gridwidth": 2,
            "linecolor": "white",
            "showbackground": true,
            "ticks": "",
            "zerolinecolor": "white"
           },
           "zaxis": {
            "backgroundcolor": "#E5ECF6",
            "gridcolor": "white",
            "gridwidth": 2,
            "linecolor": "white",
            "showbackground": true,
            "ticks": "",
            "zerolinecolor": "white"
           }
          },
          "shapedefaults": {
           "line": {
            "color": "#2a3f5f"
           }
          },
          "ternary": {
           "aaxis": {
            "gridcolor": "white",
            "linecolor": "white",
            "ticks": ""
           },
           "baxis": {
            "gridcolor": "white",
            "linecolor": "white",
            "ticks": ""
           },
           "bgcolor": "#E5ECF6",
           "caxis": {
            "gridcolor": "white",
            "linecolor": "white",
            "ticks": ""
           }
          },
          "title": {
           "x": 0.05
          },
          "xaxis": {
           "automargin": true,
           "gridcolor": "white",
           "linecolor": "white",
           "ticks": "",
           "title": {
            "standoff": 15
           },
           "zerolinecolor": "white",
           "zerolinewidth": 2
          },
          "yaxis": {
           "automargin": true,
           "gridcolor": "white",
           "linecolor": "white",
           "ticks": "",
           "title": {
            "standoff": 15
           },
           "zerolinecolor": "white",
           "zerolinewidth": 2
          }
         }
        },
        "xaxis": {
         "anchor": "y",
         "domain": [
          0,
          1
         ],
         "title": {
          "text": "Country"
         }
        },
        "yaxis": {
         "anchor": "x",
         "domain": [
          0,
          1
         ],
         "title": {
          "text": "value"
         }
        }
       }
      }
     },
     "metadata": {},
     "output_type": "display_data"
    }
   ],
   "source": [
    "px.line(asia_p)"
   ]
  },
  {
   "cell_type": "markdown",
   "metadata": {},
   "source": [
    "Asia : in general the average happiness score between 3.5 till 7.2 less country >Yemen** high country > Israel**"
   ]
  },
  {
   "cell_type": "code",
   "execution_count": 137,
   "metadata": {},
   "outputs": [
    {
     "data": {
      "text/html": [
       "<div>\n",
       "<style scoped>\n",
       "    .dataframe tbody tr th:only-of-type {\n",
       "        vertical-align: middle;\n",
       "    }\n",
       "\n",
       "    .dataframe tbody tr th {\n",
       "        vertical-align: top;\n",
       "    }\n",
       "\n",
       "    .dataframe thead th {\n",
       "        text-align: right;\n",
       "    }\n",
       "</style>\n",
       "<table border=\"1\" class=\"dataframe\">\n",
       "  <thead>\n",
       "    <tr style=\"text-align: right;\">\n",
       "      <th>Year</th>\n",
       "      <th>2015</th>\n",
       "      <th>2016</th>\n",
       "      <th>2017</th>\n",
       "      <th>2018</th>\n",
       "      <th>2019</th>\n",
       "      <th>2020</th>\n",
       "    </tr>\n",
       "    <tr>\n",
       "      <th>Country</th>\n",
       "      <th></th>\n",
       "      <th></th>\n",
       "      <th></th>\n",
       "      <th></th>\n",
       "      <th></th>\n",
       "      <th></th>\n",
       "    </tr>\n",
       "  </thead>\n",
       "  <tbody>\n",
       "    <tr>\n",
       "      <th>Australia</th>\n",
       "      <td>7.284</td>\n",
       "      <td>7.284</td>\n",
       "      <td>7.228</td>\n",
       "      <td>7.272</td>\n",
       "      <td>7.313</td>\n",
       "      <td>7.2228</td>\n",
       "    </tr>\n",
       "    <tr>\n",
       "      <th>New Zealand</th>\n",
       "      <td>7.314</td>\n",
       "      <td>7.286</td>\n",
       "      <td>7.307</td>\n",
       "      <td>7.324</td>\n",
       "      <td>7.334</td>\n",
       "      <td>7.2996</td>\n",
       "    </tr>\n",
       "  </tbody>\n",
       "</table>\n",
       "</div>"
      ],
      "text/plain": [
       "Year          2015   2016   2017   2018   2019    2020\n",
       "Country                                               \n",
       "Australia    7.284  7.284  7.228  7.272  7.313  7.2228\n",
       "New Zealand  7.314  7.286  7.307  7.324  7.334  7.2996"
      ]
     },
     "execution_count": 137,
     "metadata": {},
     "output_type": "execute_result"
    }
   ],
   "source": [
    "# create pivot table - australia\n",
    "\n",
    "australia_p =australia.pivot_table(index=\"Country\",columns=\"Year\",values=\"happiness_score\")\n",
    "australia_p.sort_values(by=2015)"
   ]
  },
  {
   "cell_type": "code",
   "execution_count": 138,
   "metadata": {},
   "outputs": [
    {
     "data": {
      "application/vnd.plotly.v1+json": {
       "config": {
        "plotlyServerURL": "https://plot.ly"
       },
       "data": [
        {
         "hovertemplate": "Year=2015<br>Country=%{x}<br>value=%{y}<extra></extra>",
         "legendgroup": "2015",
         "line": {
          "color": "#636efa",
          "dash": "solid"
         },
         "marker": {
          "symbol": "circle"
         },
         "mode": "lines",
         "name": "2015",
         "orientation": "v",
         "showlegend": true,
         "type": "scatter",
         "x": [
          "Australia",
          "New Zealand"
         ],
         "xaxis": "x",
         "y": [
          7.28399992,
          7.31400013
         ],
         "yaxis": "y"
        },
        {
         "hovertemplate": "Year=2016<br>Country=%{x}<br>value=%{y}<extra></extra>",
         "legendgroup": "2016",
         "line": {
          "color": "#EF553B",
          "dash": "solid"
         },
         "marker": {
          "symbol": "circle"
         },
         "mode": "lines",
         "name": "2016",
         "orientation": "v",
         "showlegend": true,
         "type": "scatter",
         "x": [
          "Australia",
          "New Zealand"
         ],
         "xaxis": "x",
         "y": [
          7.284,
          7.286
         ],
         "yaxis": "y"
        },
        {
         "hovertemplate": "Year=2017<br>Country=%{x}<br>value=%{y}<extra></extra>",
         "legendgroup": "2017",
         "line": {
          "color": "#00cc96",
          "dash": "solid"
         },
         "marker": {
          "symbol": "circle"
         },
         "mode": "lines",
         "name": "2017",
         "orientation": "v",
         "showlegend": true,
         "type": "scatter",
         "x": [
          "Australia",
          "New Zealand"
         ],
         "xaxis": "x",
         "y": [
          7.228,
          7.307
         ],
         "yaxis": "y"
        },
        {
         "hovertemplate": "Year=2018<br>Country=%{x}<br>value=%{y}<extra></extra>",
         "legendgroup": "2018",
         "line": {
          "color": "#ab63fa",
          "dash": "solid"
         },
         "marker": {
          "symbol": "circle"
         },
         "mode": "lines",
         "name": "2018",
         "orientation": "v",
         "showlegend": true,
         "type": "scatter",
         "x": [
          "Australia",
          "New Zealand"
         ],
         "xaxis": "x",
         "y": [
          7.272,
          7.324
         ],
         "yaxis": "y"
        },
        {
         "hovertemplate": "Year=2019<br>Country=%{x}<br>value=%{y}<extra></extra>",
         "legendgroup": "2019",
         "line": {
          "color": "#FFA15A",
          "dash": "solid"
         },
         "marker": {
          "symbol": "circle"
         },
         "mode": "lines",
         "name": "2019",
         "orientation": "v",
         "showlegend": true,
         "type": "scatter",
         "x": [
          "Australia",
          "New Zealand"
         ],
         "xaxis": "x",
         "y": [
          7.313,
          7.334
         ],
         "yaxis": "y"
        },
        {
         "hovertemplate": "Year=2020<br>Country=%{x}<br>value=%{y}<extra></extra>",
         "legendgroup": "2020",
         "line": {
          "color": "#19d3f3",
          "dash": "solid"
         },
         "marker": {
          "symbol": "circle"
         },
         "mode": "lines",
         "name": "2020",
         "orientation": "v",
         "showlegend": true,
         "type": "scatter",
         "x": [
          "Australia",
          "New Zealand"
         ],
         "xaxis": "x",
         "y": [
          7.222799778,
          7.299600124
         ],
         "yaxis": "y"
        }
       ],
       "layout": {
        "legend": {
         "title": {
          "text": "Year"
         },
         "tracegroupgap": 0
        },
        "margin": {
         "t": 60
        },
        "template": {
         "data": {
          "bar": [
           {
            "error_x": {
             "color": "#2a3f5f"
            },
            "error_y": {
             "color": "#2a3f5f"
            },
            "marker": {
             "line": {
              "color": "#E5ECF6",
              "width": 0.5
             },
             "pattern": {
              "fillmode": "overlay",
              "size": 10,
              "solidity": 0.2
             }
            },
            "type": "bar"
           }
          ],
          "barpolar": [
           {
            "marker": {
             "line": {
              "color": "#E5ECF6",
              "width": 0.5
             },
             "pattern": {
              "fillmode": "overlay",
              "size": 10,
              "solidity": 0.2
             }
            },
            "type": "barpolar"
           }
          ],
          "carpet": [
           {
            "aaxis": {
             "endlinecolor": "#2a3f5f",
             "gridcolor": "white",
             "linecolor": "white",
             "minorgridcolor": "white",
             "startlinecolor": "#2a3f5f"
            },
            "baxis": {
             "endlinecolor": "#2a3f5f",
             "gridcolor": "white",
             "linecolor": "white",
             "minorgridcolor": "white",
             "startlinecolor": "#2a3f5f"
            },
            "type": "carpet"
           }
          ],
          "choropleth": [
           {
            "colorbar": {
             "outlinewidth": 0,
             "ticks": ""
            },
            "type": "choropleth"
           }
          ],
          "contour": [
           {
            "colorbar": {
             "outlinewidth": 0,
             "ticks": ""
            },
            "colorscale": [
             [
              0,
              "#0d0887"
             ],
             [
              0.1111111111111111,
              "#46039f"
             ],
             [
              0.2222222222222222,
              "#7201a8"
             ],
             [
              0.3333333333333333,
              "#9c179e"
             ],
             [
              0.4444444444444444,
              "#bd3786"
             ],
             [
              0.5555555555555556,
              "#d8576b"
             ],
             [
              0.6666666666666666,
              "#ed7953"
             ],
             [
              0.7777777777777778,
              "#fb9f3a"
             ],
             [
              0.8888888888888888,
              "#fdca26"
             ],
             [
              1,
              "#f0f921"
             ]
            ],
            "type": "contour"
           }
          ],
          "contourcarpet": [
           {
            "colorbar": {
             "outlinewidth": 0,
             "ticks": ""
            },
            "type": "contourcarpet"
           }
          ],
          "heatmap": [
           {
            "colorbar": {
             "outlinewidth": 0,
             "ticks": ""
            },
            "colorscale": [
             [
              0,
              "#0d0887"
             ],
             [
              0.1111111111111111,
              "#46039f"
             ],
             [
              0.2222222222222222,
              "#7201a8"
             ],
             [
              0.3333333333333333,
              "#9c179e"
             ],
             [
              0.4444444444444444,
              "#bd3786"
             ],
             [
              0.5555555555555556,
              "#d8576b"
             ],
             [
              0.6666666666666666,
              "#ed7953"
             ],
             [
              0.7777777777777778,
              "#fb9f3a"
             ],
             [
              0.8888888888888888,
              "#fdca26"
             ],
             [
              1,
              "#f0f921"
             ]
            ],
            "type": "heatmap"
           }
          ],
          "heatmapgl": [
           {
            "colorbar": {
             "outlinewidth": 0,
             "ticks": ""
            },
            "colorscale": [
             [
              0,
              "#0d0887"
             ],
             [
              0.1111111111111111,
              "#46039f"
             ],
             [
              0.2222222222222222,
              "#7201a8"
             ],
             [
              0.3333333333333333,
              "#9c179e"
             ],
             [
              0.4444444444444444,
              "#bd3786"
             ],
             [
              0.5555555555555556,
              "#d8576b"
             ],
             [
              0.6666666666666666,
              "#ed7953"
             ],
             [
              0.7777777777777778,
              "#fb9f3a"
             ],
             [
              0.8888888888888888,
              "#fdca26"
             ],
             [
              1,
              "#f0f921"
             ]
            ],
            "type": "heatmapgl"
           }
          ],
          "histogram": [
           {
            "marker": {
             "pattern": {
              "fillmode": "overlay",
              "size": 10,
              "solidity": 0.2
             }
            },
            "type": "histogram"
           }
          ],
          "histogram2d": [
           {
            "colorbar": {
             "outlinewidth": 0,
             "ticks": ""
            },
            "colorscale": [
             [
              0,
              "#0d0887"
             ],
             [
              0.1111111111111111,
              "#46039f"
             ],
             [
              0.2222222222222222,
              "#7201a8"
             ],
             [
              0.3333333333333333,
              "#9c179e"
             ],
             [
              0.4444444444444444,
              "#bd3786"
             ],
             [
              0.5555555555555556,
              "#d8576b"
             ],
             [
              0.6666666666666666,
              "#ed7953"
             ],
             [
              0.7777777777777778,
              "#fb9f3a"
             ],
             [
              0.8888888888888888,
              "#fdca26"
             ],
             [
              1,
              "#f0f921"
             ]
            ],
            "type": "histogram2d"
           }
          ],
          "histogram2dcontour": [
           {
            "colorbar": {
             "outlinewidth": 0,
             "ticks": ""
            },
            "colorscale": [
             [
              0,
              "#0d0887"
             ],
             [
              0.1111111111111111,
              "#46039f"
             ],
             [
              0.2222222222222222,
              "#7201a8"
             ],
             [
              0.3333333333333333,
              "#9c179e"
             ],
             [
              0.4444444444444444,
              "#bd3786"
             ],
             [
              0.5555555555555556,
              "#d8576b"
             ],
             [
              0.6666666666666666,
              "#ed7953"
             ],
             [
              0.7777777777777778,
              "#fb9f3a"
             ],
             [
              0.8888888888888888,
              "#fdca26"
             ],
             [
              1,
              "#f0f921"
             ]
            ],
            "type": "histogram2dcontour"
           }
          ],
          "mesh3d": [
           {
            "colorbar": {
             "outlinewidth": 0,
             "ticks": ""
            },
            "type": "mesh3d"
           }
          ],
          "parcoords": [
           {
            "line": {
             "colorbar": {
              "outlinewidth": 0,
              "ticks": ""
             }
            },
            "type": "parcoords"
           }
          ],
          "pie": [
           {
            "automargin": true,
            "type": "pie"
           }
          ],
          "scatter": [
           {
            "fillpattern": {
             "fillmode": "overlay",
             "size": 10,
             "solidity": 0.2
            },
            "type": "scatter"
           }
          ],
          "scatter3d": [
           {
            "line": {
             "colorbar": {
              "outlinewidth": 0,
              "ticks": ""
             }
            },
            "marker": {
             "colorbar": {
              "outlinewidth": 0,
              "ticks": ""
             }
            },
            "type": "scatter3d"
           }
          ],
          "scattercarpet": [
           {
            "marker": {
             "colorbar": {
              "outlinewidth": 0,
              "ticks": ""
             }
            },
            "type": "scattercarpet"
           }
          ],
          "scattergeo": [
           {
            "marker": {
             "colorbar": {
              "outlinewidth": 0,
              "ticks": ""
             }
            },
            "type": "scattergeo"
           }
          ],
          "scattergl": [
           {
            "marker": {
             "colorbar": {
              "outlinewidth": 0,
              "ticks": ""
             }
            },
            "type": "scattergl"
           }
          ],
          "scattermapbox": [
           {
            "marker": {
             "colorbar": {
              "outlinewidth": 0,
              "ticks": ""
             }
            },
            "type": "scattermapbox"
           }
          ],
          "scatterpolar": [
           {
            "marker": {
             "colorbar": {
              "outlinewidth": 0,
              "ticks": ""
             }
            },
            "type": "scatterpolar"
           }
          ],
          "scatterpolargl": [
           {
            "marker": {
             "colorbar": {
              "outlinewidth": 0,
              "ticks": ""
             }
            },
            "type": "scatterpolargl"
           }
          ],
          "scatterternary": [
           {
            "marker": {
             "colorbar": {
              "outlinewidth": 0,
              "ticks": ""
             }
            },
            "type": "scatterternary"
           }
          ],
          "surface": [
           {
            "colorbar": {
             "outlinewidth": 0,
             "ticks": ""
            },
            "colorscale": [
             [
              0,
              "#0d0887"
             ],
             [
              0.1111111111111111,
              "#46039f"
             ],
             [
              0.2222222222222222,
              "#7201a8"
             ],
             [
              0.3333333333333333,
              "#9c179e"
             ],
             [
              0.4444444444444444,
              "#bd3786"
             ],
             [
              0.5555555555555556,
              "#d8576b"
             ],
             [
              0.6666666666666666,
              "#ed7953"
             ],
             [
              0.7777777777777778,
              "#fb9f3a"
             ],
             [
              0.8888888888888888,
              "#fdca26"
             ],
             [
              1,
              "#f0f921"
             ]
            ],
            "type": "surface"
           }
          ],
          "table": [
           {
            "cells": {
             "fill": {
              "color": "#EBF0F8"
             },
             "line": {
              "color": "white"
             }
            },
            "header": {
             "fill": {
              "color": "#C8D4E3"
             },
             "line": {
              "color": "white"
             }
            },
            "type": "table"
           }
          ]
         },
         "layout": {
          "annotationdefaults": {
           "arrowcolor": "#2a3f5f",
           "arrowhead": 0,
           "arrowwidth": 1
          },
          "autotypenumbers": "strict",
          "coloraxis": {
           "colorbar": {
            "outlinewidth": 0,
            "ticks": ""
           }
          },
          "colorscale": {
           "diverging": [
            [
             0,
             "#8e0152"
            ],
            [
             0.1,
             "#c51b7d"
            ],
            [
             0.2,
             "#de77ae"
            ],
            [
             0.3,
             "#f1b6da"
            ],
            [
             0.4,
             "#fde0ef"
            ],
            [
             0.5,
             "#f7f7f7"
            ],
            [
             0.6,
             "#e6f5d0"
            ],
            [
             0.7,
             "#b8e186"
            ],
            [
             0.8,
             "#7fbc41"
            ],
            [
             0.9,
             "#4d9221"
            ],
            [
             1,
             "#276419"
            ]
           ],
           "sequential": [
            [
             0,
             "#0d0887"
            ],
            [
             0.1111111111111111,
             "#46039f"
            ],
            [
             0.2222222222222222,
             "#7201a8"
            ],
            [
             0.3333333333333333,
             "#9c179e"
            ],
            [
             0.4444444444444444,
             "#bd3786"
            ],
            [
             0.5555555555555556,
             "#d8576b"
            ],
            [
             0.6666666666666666,
             "#ed7953"
            ],
            [
             0.7777777777777778,
             "#fb9f3a"
            ],
            [
             0.8888888888888888,
             "#fdca26"
            ],
            [
             1,
             "#f0f921"
            ]
           ],
           "sequentialminus": [
            [
             0,
             "#0d0887"
            ],
            [
             0.1111111111111111,
             "#46039f"
            ],
            [
             0.2222222222222222,
             "#7201a8"
            ],
            [
             0.3333333333333333,
             "#9c179e"
            ],
            [
             0.4444444444444444,
             "#bd3786"
            ],
            [
             0.5555555555555556,
             "#d8576b"
            ],
            [
             0.6666666666666666,
             "#ed7953"
            ],
            [
             0.7777777777777778,
             "#fb9f3a"
            ],
            [
             0.8888888888888888,
             "#fdca26"
            ],
            [
             1,
             "#f0f921"
            ]
           ]
          },
          "colorway": [
           "#636efa",
           "#EF553B",
           "#00cc96",
           "#ab63fa",
           "#FFA15A",
           "#19d3f3",
           "#FF6692",
           "#B6E880",
           "#FF97FF",
           "#FECB52"
          ],
          "font": {
           "color": "#2a3f5f"
          },
          "geo": {
           "bgcolor": "white",
           "lakecolor": "white",
           "landcolor": "#E5ECF6",
           "showlakes": true,
           "showland": true,
           "subunitcolor": "white"
          },
          "hoverlabel": {
           "align": "left"
          },
          "hovermode": "closest",
          "mapbox": {
           "style": "light"
          },
          "paper_bgcolor": "white",
          "plot_bgcolor": "#E5ECF6",
          "polar": {
           "angularaxis": {
            "gridcolor": "white",
            "linecolor": "white",
            "ticks": ""
           },
           "bgcolor": "#E5ECF6",
           "radialaxis": {
            "gridcolor": "white",
            "linecolor": "white",
            "ticks": ""
           }
          },
          "scene": {
           "xaxis": {
            "backgroundcolor": "#E5ECF6",
            "gridcolor": "white",
            "gridwidth": 2,
            "linecolor": "white",
            "showbackground": true,
            "ticks": "",
            "zerolinecolor": "white"
           },
           "yaxis": {
            "backgroundcolor": "#E5ECF6",
            "gridcolor": "white",
            "gridwidth": 2,
            "linecolor": "white",
            "showbackground": true,
            "ticks": "",
            "zerolinecolor": "white"
           },
           "zaxis": {
            "backgroundcolor": "#E5ECF6",
            "gridcolor": "white",
            "gridwidth": 2,
            "linecolor": "white",
            "showbackground": true,
            "ticks": "",
            "zerolinecolor": "white"
           }
          },
          "shapedefaults": {
           "line": {
            "color": "#2a3f5f"
           }
          },
          "ternary": {
           "aaxis": {
            "gridcolor": "white",
            "linecolor": "white",
            "ticks": ""
           },
           "baxis": {
            "gridcolor": "white",
            "linecolor": "white",
            "ticks": ""
           },
           "bgcolor": "#E5ECF6",
           "caxis": {
            "gridcolor": "white",
            "linecolor": "white",
            "ticks": ""
           }
          },
          "title": {
           "x": 0.05
          },
          "xaxis": {
           "automargin": true,
           "gridcolor": "white",
           "linecolor": "white",
           "ticks": "",
           "title": {
            "standoff": 15
           },
           "zerolinecolor": "white",
           "zerolinewidth": 2
          },
          "yaxis": {
           "automargin": true,
           "gridcolor": "white",
           "linecolor": "white",
           "ticks": "",
           "title": {
            "standoff": 15
           },
           "zerolinecolor": "white",
           "zerolinewidth": 2
          }
         }
        },
        "xaxis": {
         "anchor": "y",
         "domain": [
          0,
          1
         ],
         "title": {
          "text": "Country"
         }
        },
        "yaxis": {
         "anchor": "x",
         "domain": [
          0,
          1
         ],
         "title": {
          "text": "value"
         }
        }
       }
      }
     },
     "metadata": {},
     "output_type": "display_data"
    }
   ],
   "source": [
    "px.line(australia_p)"
   ]
  },
  {
   "cell_type": "markdown",
   "metadata": {},
   "source": [
    "Australia : in general the average happiness score between 7.2 till 7.3 both counrty Australia** and New Zealand**"
   ]
  },
  {
   "cell_type": "code",
   "execution_count": 139,
   "metadata": {},
   "outputs": [
    {
     "data": {
      "text/html": [
       "<div>\n",
       "<style scoped>\n",
       "    .dataframe tbody tr th:only-of-type {\n",
       "        vertical-align: middle;\n",
       "    }\n",
       "\n",
       "    .dataframe tbody tr th {\n",
       "        vertical-align: top;\n",
       "    }\n",
       "\n",
       "    .dataframe thead th {\n",
       "        text-align: right;\n",
       "    }\n",
       "</style>\n",
       "<table border=\"1\" class=\"dataframe\">\n",
       "  <thead>\n",
       "    <tr style=\"text-align: right;\">\n",
       "      <th>Year</th>\n",
       "      <th>2015</th>\n",
       "      <th>2016</th>\n",
       "      <th>2017</th>\n",
       "      <th>2018</th>\n",
       "      <th>2019</th>\n",
       "      <th>2020</th>\n",
       "    </tr>\n",
       "    <tr>\n",
       "      <th>Country</th>\n",
       "      <th></th>\n",
       "      <th></th>\n",
       "      <th></th>\n",
       "      <th></th>\n",
       "      <th></th>\n",
       "      <th></th>\n",
       "    </tr>\n",
       "  </thead>\n",
       "  <tbody>\n",
       "    <tr>\n",
       "      <th>Ukraine</th>\n",
       "      <td>4.096</td>\n",
       "      <td>4.681</td>\n",
       "      <td>4.332</td>\n",
       "      <td>4.103</td>\n",
       "      <td>4.324</td>\n",
       "      <td>4.5607</td>\n",
       "    </tr>\n",
       "    <tr>\n",
       "      <th>Albania</th>\n",
       "      <td>4.644</td>\n",
       "      <td>4.959</td>\n",
       "      <td>4.719</td>\n",
       "      <td>4.586</td>\n",
       "      <td>4.655</td>\n",
       "      <td>4.8827</td>\n",
       "    </tr>\n",
       "    <tr>\n",
       "      <th>Bulgaria</th>\n",
       "      <td>4.714</td>\n",
       "      <td>4.218</td>\n",
       "      <td>5.011</td>\n",
       "      <td>4.933</td>\n",
       "      <td>4.217</td>\n",
       "      <td>5.1015</td>\n",
       "    </tr>\n",
       "    <tr>\n",
       "      <th>Bosnia and Herzegovina</th>\n",
       "      <td>5.182</td>\n",
       "      <td>4.949</td>\n",
       "      <td>5.386</td>\n",
       "      <td>5.129</td>\n",
       "      <td>5.163</td>\n",
       "      <td>5.6741</td>\n",
       "    </tr>\n",
       "    <tr>\n",
       "      <th>Portugal</th>\n",
       "      <td>5.195</td>\n",
       "      <td>5.102</td>\n",
       "      <td>5.693</td>\n",
       "      <td>5.410</td>\n",
       "      <td>5.123</td>\n",
       "      <td>5.9109</td>\n",
       "    </tr>\n",
       "    <tr>\n",
       "      <th>Greece</th>\n",
       "      <td>5.227</td>\n",
       "      <td>4.857</td>\n",
       "      <td>5.287</td>\n",
       "      <td>5.358</td>\n",
       "      <td>5.033</td>\n",
       "      <td>5.5150</td>\n",
       "    </tr>\n",
       "    <tr>\n",
       "      <th>Montenegro</th>\n",
       "      <td>5.237</td>\n",
       "      <td>5.192</td>\n",
       "      <td>5.523</td>\n",
       "      <td>5.347</td>\n",
       "      <td>5.161</td>\n",
       "      <td>5.5461</td>\n",
       "    </tr>\n",
       "    <tr>\n",
       "      <th>Kosovo</th>\n",
       "      <td>5.279</td>\n",
       "      <td>5.589</td>\n",
       "      <td>6.100</td>\n",
       "      <td>5.662</td>\n",
       "      <td>5.401</td>\n",
       "      <td>6.3252</td>\n",
       "    </tr>\n",
       "    <tr>\n",
       "      <th>Croatia</th>\n",
       "      <td>5.293</td>\n",
       "      <td>5.759</td>\n",
       "      <td>5.432</td>\n",
       "      <td>5.321</td>\n",
       "      <td>5.488</td>\n",
       "      <td>5.5047</td>\n",
       "    </tr>\n",
       "    <tr>\n",
       "      <th>Hungary</th>\n",
       "      <td>5.324</td>\n",
       "      <td>4.800</td>\n",
       "      <td>5.758</td>\n",
       "      <td>5.620</td>\n",
       "      <td>5.145</td>\n",
       "      <td>6.0004</td>\n",
       "    </tr>\n",
       "    <tr>\n",
       "      <th>Serbia</th>\n",
       "      <td>5.395</td>\n",
       "      <td>5.123</td>\n",
       "      <td>5.603</td>\n",
       "      <td>5.398</td>\n",
       "      <td>5.177</td>\n",
       "      <td>5.7782</td>\n",
       "    </tr>\n",
       "    <tr>\n",
       "      <th>Belarus</th>\n",
       "      <td>5.569</td>\n",
       "      <td>5.813</td>\n",
       "      <td>5.323</td>\n",
       "      <td>5.483</td>\n",
       "      <td>5.802</td>\n",
       "      <td>5.5399</td>\n",
       "    </tr>\n",
       "    <tr>\n",
       "      <th>Estonia</th>\n",
       "      <td>5.611</td>\n",
       "      <td>5.429</td>\n",
       "      <td>5.893</td>\n",
       "      <td>5.739</td>\n",
       "      <td>5.517</td>\n",
       "      <td>6.0218</td>\n",
       "    </tr>\n",
       "    <tr>\n",
       "      <th>Slovenia</th>\n",
       "      <td>5.758</td>\n",
       "      <td>5.848</td>\n",
       "      <td>6.118</td>\n",
       "      <td>5.948</td>\n",
       "      <td>5.768</td>\n",
       "      <td>6.3634</td>\n",
       "    </tr>\n",
       "    <tr>\n",
       "      <th>Romania</th>\n",
       "      <td>5.825</td>\n",
       "      <td>5.124</td>\n",
       "      <td>6.070</td>\n",
       "      <td>5.945</td>\n",
       "      <td>5.528</td>\n",
       "      <td>6.1237</td>\n",
       "    </tr>\n",
       "    <tr>\n",
       "      <th>Moldova</th>\n",
       "      <td>5.838</td>\n",
       "      <td>5.889</td>\n",
       "      <td>5.529</td>\n",
       "      <td>5.640</td>\n",
       "      <td>5.897</td>\n",
       "      <td>5.6075</td>\n",
       "    </tr>\n",
       "    <tr>\n",
       "      <th>Latvia</th>\n",
       "      <td>5.850</td>\n",
       "      <td>5.098</td>\n",
       "      <td>5.940</td>\n",
       "      <td>5.933</td>\n",
       "      <td>5.560</td>\n",
       "      <td>5.9500</td>\n",
       "    </tr>\n",
       "    <tr>\n",
       "      <th>Lithuania</th>\n",
       "      <td>5.902</td>\n",
       "      <td>5.833</td>\n",
       "      <td>6.149</td>\n",
       "      <td>5.952</td>\n",
       "      <td>5.813</td>\n",
       "      <td>6.2155</td>\n",
       "    </tr>\n",
       "    <tr>\n",
       "      <th>Russia</th>\n",
       "      <td>5.963</td>\n",
       "      <td>5.716</td>\n",
       "      <td>5.648</td>\n",
       "      <td>5.810</td>\n",
       "      <td>5.856</td>\n",
       "      <td>5.5460</td>\n",
       "    </tr>\n",
       "    <tr>\n",
       "      <th>Italy</th>\n",
       "      <td>5.964</td>\n",
       "      <td>5.948</td>\n",
       "      <td>6.223</td>\n",
       "      <td>6.000</td>\n",
       "      <td>5.977</td>\n",
       "      <td>6.3874</td>\n",
       "    </tr>\n",
       "    <tr>\n",
       "      <th>Poland</th>\n",
       "      <td>5.973</td>\n",
       "      <td>5.791</td>\n",
       "      <td>6.182</td>\n",
       "      <td>6.123</td>\n",
       "      <td>5.835</td>\n",
       "      <td>6.1863</td>\n",
       "    </tr>\n",
       "    <tr>\n",
       "      <th>Slovakia</th>\n",
       "      <td>6.098</td>\n",
       "      <td>5.995</td>\n",
       "      <td>6.198</td>\n",
       "      <td>6.173</td>\n",
       "      <td>6.078</td>\n",
       "      <td>6.2806</td>\n",
       "    </tr>\n",
       "    <tr>\n",
       "      <th>Spain</th>\n",
       "      <td>6.403</td>\n",
       "      <td>6.329</td>\n",
       "      <td>6.354</td>\n",
       "      <td>6.310</td>\n",
       "      <td>6.361</td>\n",
       "      <td>6.4009</td>\n",
       "    </tr>\n",
       "    <tr>\n",
       "      <th>France</th>\n",
       "      <td>6.442</td>\n",
       "      <td>6.575</td>\n",
       "      <td>6.592</td>\n",
       "      <td>6.489</td>\n",
       "      <td>6.478</td>\n",
       "      <td>6.6638</td>\n",
       "    </tr>\n",
       "    <tr>\n",
       "      <th>Malta</th>\n",
       "      <td>6.527</td>\n",
       "      <td>6.302</td>\n",
       "      <td>6.726</td>\n",
       "      <td>6.627</td>\n",
       "      <td>6.488</td>\n",
       "      <td>6.7728</td>\n",
       "    </tr>\n",
       "    <tr>\n",
       "      <th>United Kingdom</th>\n",
       "      <td>6.714</td>\n",
       "      <td>6.867</td>\n",
       "      <td>7.054</td>\n",
       "      <td>7.190</td>\n",
       "      <td>6.725</td>\n",
       "      <td>7.1645</td>\n",
       "    </tr>\n",
       "    <tr>\n",
       "      <th>Luxembourg</th>\n",
       "      <td>6.863</td>\n",
       "      <td>6.946</td>\n",
       "      <td>7.090</td>\n",
       "      <td>6.910</td>\n",
       "      <td>6.871</td>\n",
       "      <td>7.2375</td>\n",
       "    </tr>\n",
       "    <tr>\n",
       "      <th>Belgium</th>\n",
       "      <td>6.891</td>\n",
       "      <td>6.937</td>\n",
       "      <td>6.923</td>\n",
       "      <td>6.927</td>\n",
       "      <td>6.929</td>\n",
       "      <td>6.8635</td>\n",
       "    </tr>\n",
       "    <tr>\n",
       "      <th>Germany</th>\n",
       "      <td>6.951</td>\n",
       "      <td>6.750</td>\n",
       "      <td>6.985</td>\n",
       "      <td>6.965</td>\n",
       "      <td>6.994</td>\n",
       "      <td>7.0758</td>\n",
       "    </tr>\n",
       "    <tr>\n",
       "      <th>Ireland</th>\n",
       "      <td>6.977</td>\n",
       "      <td>6.940</td>\n",
       "      <td>7.021</td>\n",
       "      <td>6.977</td>\n",
       "      <td>6.907</td>\n",
       "      <td>7.0937</td>\n",
       "    </tr>\n",
       "    <tr>\n",
       "      <th>Austria</th>\n",
       "      <td>7.006</td>\n",
       "      <td>7.200</td>\n",
       "      <td>7.246</td>\n",
       "      <td>7.139</td>\n",
       "      <td>7.119</td>\n",
       "      <td>7.2942</td>\n",
       "    </tr>\n",
       "    <tr>\n",
       "      <th>Sweden</th>\n",
       "      <td>7.284</td>\n",
       "      <td>7.364</td>\n",
       "      <td>7.343</td>\n",
       "      <td>7.314</td>\n",
       "      <td>7.291</td>\n",
       "      <td>7.3535</td>\n",
       "    </tr>\n",
       "    <tr>\n",
       "      <th>Netherlands</th>\n",
       "      <td>7.377</td>\n",
       "      <td>7.378</td>\n",
       "      <td>7.488</td>\n",
       "      <td>7.441</td>\n",
       "      <td>7.339</td>\n",
       "      <td>7.4489</td>\n",
       "    </tr>\n",
       "    <tr>\n",
       "      <th>Finland</th>\n",
       "      <td>7.469</td>\n",
       "      <td>7.406</td>\n",
       "      <td>7.769</td>\n",
       "      <td>7.632</td>\n",
       "      <td>7.413</td>\n",
       "      <td>7.8087</td>\n",
       "    </tr>\n",
       "    <tr>\n",
       "      <th>Switzerland</th>\n",
       "      <td>7.494</td>\n",
       "      <td>7.587</td>\n",
       "      <td>7.480</td>\n",
       "      <td>7.487</td>\n",
       "      <td>7.509</td>\n",
       "      <td>7.5599</td>\n",
       "    </tr>\n",
       "    <tr>\n",
       "      <th>Iceland</th>\n",
       "      <td>7.504</td>\n",
       "      <td>7.561</td>\n",
       "      <td>7.494</td>\n",
       "      <td>7.495</td>\n",
       "      <td>7.501</td>\n",
       "      <td>7.5045</td>\n",
       "    </tr>\n",
       "    <tr>\n",
       "      <th>Denmark</th>\n",
       "      <td>7.522</td>\n",
       "      <td>7.527</td>\n",
       "      <td>7.600</td>\n",
       "      <td>7.555</td>\n",
       "      <td>7.526</td>\n",
       "      <td>7.6456</td>\n",
       "    </tr>\n",
       "    <tr>\n",
       "      <th>Norway</th>\n",
       "      <td>7.537</td>\n",
       "      <td>7.522</td>\n",
       "      <td>7.554</td>\n",
       "      <td>7.594</td>\n",
       "      <td>7.498</td>\n",
       "      <td>7.4880</td>\n",
       "    </tr>\n",
       "  </tbody>\n",
       "</table>\n",
       "</div>"
      ],
      "text/plain": [
       "Year                     2015   2016   2017   2018   2019    2020\n",
       "Country                                                          \n",
       "Ukraine                 4.096  4.681  4.332  4.103  4.324  4.5607\n",
       "Albania                 4.644  4.959  4.719  4.586  4.655  4.8827\n",
       "Bulgaria                4.714  4.218  5.011  4.933  4.217  5.1015\n",
       "Bosnia and Herzegovina  5.182  4.949  5.386  5.129  5.163  5.6741\n",
       "Portugal                5.195  5.102  5.693  5.410  5.123  5.9109\n",
       "Greece                  5.227  4.857  5.287  5.358  5.033  5.5150\n",
       "Montenegro              5.237  5.192  5.523  5.347  5.161  5.5461\n",
       "Kosovo                  5.279  5.589  6.100  5.662  5.401  6.3252\n",
       "Croatia                 5.293  5.759  5.432  5.321  5.488  5.5047\n",
       "Hungary                 5.324  4.800  5.758  5.620  5.145  6.0004\n",
       "Serbia                  5.395  5.123  5.603  5.398  5.177  5.7782\n",
       "Belarus                 5.569  5.813  5.323  5.483  5.802  5.5399\n",
       "Estonia                 5.611  5.429  5.893  5.739  5.517  6.0218\n",
       "Slovenia                5.758  5.848  6.118  5.948  5.768  6.3634\n",
       "Romania                 5.825  5.124  6.070  5.945  5.528  6.1237\n",
       "Moldova                 5.838  5.889  5.529  5.640  5.897  5.6075\n",
       "Latvia                  5.850  5.098  5.940  5.933  5.560  5.9500\n",
       "Lithuania               5.902  5.833  6.149  5.952  5.813  6.2155\n",
       "Russia                  5.963  5.716  5.648  5.810  5.856  5.5460\n",
       "Italy                   5.964  5.948  6.223  6.000  5.977  6.3874\n",
       "Poland                  5.973  5.791  6.182  6.123  5.835  6.1863\n",
       "Slovakia                6.098  5.995  6.198  6.173  6.078  6.2806\n",
       "Spain                   6.403  6.329  6.354  6.310  6.361  6.4009\n",
       "France                  6.442  6.575  6.592  6.489  6.478  6.6638\n",
       "Malta                   6.527  6.302  6.726  6.627  6.488  6.7728\n",
       "United Kingdom          6.714  6.867  7.054  7.190  6.725  7.1645\n",
       "Luxembourg              6.863  6.946  7.090  6.910  6.871  7.2375\n",
       "Belgium                 6.891  6.937  6.923  6.927  6.929  6.8635\n",
       "Germany                 6.951  6.750  6.985  6.965  6.994  7.0758\n",
       "Ireland                 6.977  6.940  7.021  6.977  6.907  7.0937\n",
       "Austria                 7.006  7.200  7.246  7.139  7.119  7.2942\n",
       "Sweden                  7.284  7.364  7.343  7.314  7.291  7.3535\n",
       "Netherlands             7.377  7.378  7.488  7.441  7.339  7.4489\n",
       "Finland                 7.469  7.406  7.769  7.632  7.413  7.8087\n",
       "Switzerland             7.494  7.587  7.480  7.487  7.509  7.5599\n",
       "Iceland                 7.504  7.561  7.494  7.495  7.501  7.5045\n",
       "Denmark                 7.522  7.527  7.600  7.555  7.526  7.6456\n",
       "Norway                  7.537  7.522  7.554  7.594  7.498  7.4880"
      ]
     },
     "execution_count": 139,
     "metadata": {},
     "output_type": "execute_result"
    }
   ],
   "source": [
    "# create pivot table - europe\n",
    "\n",
    "europe_p=europe.pivot_table(index=\"Country\",columns=\"Year\",values=\"happiness_score\")\n",
    "europe_p.sort_values(by=2015)"
   ]
  },
  {
   "cell_type": "code",
   "execution_count": 140,
   "metadata": {},
   "outputs": [
    {
     "data": {
      "application/vnd.plotly.v1+json": {
       "config": {
        "plotlyServerURL": "https://plot.ly"
       },
       "data": [
        {
         "hovertemplate": "Year=2015<br>Country=%{x}<br>value=%{y}<extra></extra>",
         "legendgroup": "2015",
         "line": {
          "color": "#636efa",
          "dash": "solid"
         },
         "marker": {
          "symbol": "circle"
         },
         "mode": "lines",
         "name": "2015",
         "orientation": "v",
         "showlegend": true,
         "type": "scatter",
         "x": [
          "Albania",
          "Austria",
          "Belarus",
          "Belgium",
          "Bosnia and Herzegovina",
          "Bulgaria",
          "Croatia",
          "Denmark",
          "Estonia",
          "Finland",
          "France",
          "Germany",
          "Greece",
          "Hungary",
          "Iceland",
          "Ireland",
          "Italy",
          "Kosovo",
          "Latvia",
          "Lithuania",
          "Luxembourg",
          "Malta",
          "Moldova",
          "Montenegro",
          "Netherlands",
          "Norway",
          "Poland",
          "Portugal",
          "Romania",
          "Russia",
          "Serbia",
          "Slovakia",
          "Slovenia",
          "Spain",
          "Sweden",
          "Switzerland",
          "Ukraine",
          "United Kingdom"
         ],
         "xaxis": "x",
         "y": [
          4.644000053,
          7.006000042,
          5.568999767,
          6.890999794,
          5.18200016,
          4.714000225,
          5.293000221,
          7.521999836,
          5.611000061,
          7.468999863,
          6.441999912,
          6.951000214,
          5.227000237,
          5.323999882,
          7.504000187,
          6.977000237,
          5.964000225,
          5.278999805,
          5.849999905,
          5.90199995,
          6.862999916,
          6.52699995,
          5.837999821,
          5.236999989,
          7.376999855,
          7.537000179,
          5.97300005,
          5.195000172,
          5.824999809,
          5.962999821,
          5.394999981,
          6.09800005,
          5.757999897,
          6.402999878,
          7.28399992,
          7.493999958,
          4.096000195,
          6.714000225
         ],
         "yaxis": "y"
        },
        {
         "hovertemplate": "Year=2016<br>Country=%{x}<br>value=%{y}<extra></extra>",
         "legendgroup": "2016",
         "line": {
          "color": "#EF553B",
          "dash": "solid"
         },
         "marker": {
          "symbol": "circle"
         },
         "mode": "lines",
         "name": "2016",
         "orientation": "v",
         "showlegend": true,
         "type": "scatter",
         "x": [
          "Albania",
          "Austria",
          "Belarus",
          "Belgium",
          "Bosnia and Herzegovina",
          "Bulgaria",
          "Croatia",
          "Denmark",
          "Estonia",
          "Finland",
          "France",
          "Germany",
          "Greece",
          "Hungary",
          "Iceland",
          "Ireland",
          "Italy",
          "Kosovo",
          "Latvia",
          "Lithuania",
          "Luxembourg",
          "Malta",
          "Moldova",
          "Montenegro",
          "Netherlands",
          "Norway",
          "Poland",
          "Portugal",
          "Romania",
          "Russia",
          "Serbia",
          "Slovakia",
          "Slovenia",
          "Spain",
          "Sweden",
          "Switzerland",
          "Ukraine",
          "United Kingdom"
         ],
         "xaxis": "x",
         "y": [
          4.959,
          7.2,
          5.813,
          6.937,
          4.949,
          4.218,
          5.759,
          7.527,
          5.429,
          7.406,
          6.575,
          6.75,
          4.857,
          4.8,
          7.561,
          6.94,
          5.948,
          5.589,
          5.098,
          5.833,
          6.946,
          6.302,
          5.889,
          5.192,
          7.378,
          7.522,
          5.791,
          5.102,
          5.124,
          5.716,
          5.123,
          5.995,
          5.848,
          6.329,
          7.364,
          7.587,
          4.681,
          6.867
         ],
         "yaxis": "y"
        },
        {
         "hovertemplate": "Year=2017<br>Country=%{x}<br>value=%{y}<extra></extra>",
         "legendgroup": "2017",
         "line": {
          "color": "#00cc96",
          "dash": "solid"
         },
         "marker": {
          "symbol": "circle"
         },
         "mode": "lines",
         "name": "2017",
         "orientation": "v",
         "showlegend": true,
         "type": "scatter",
         "x": [
          "Albania",
          "Austria",
          "Belarus",
          "Belgium",
          "Bosnia and Herzegovina",
          "Bulgaria",
          "Croatia",
          "Denmark",
          "Estonia",
          "Finland",
          "France",
          "Germany",
          "Greece",
          "Hungary",
          "Iceland",
          "Ireland",
          "Italy",
          "Kosovo",
          "Latvia",
          "Lithuania",
          "Luxembourg",
          "Malta",
          "Moldova",
          "Montenegro",
          "Netherlands",
          "Norway",
          "Poland",
          "Portugal",
          "Romania",
          "Russia",
          "Serbia",
          "Slovakia",
          "Slovenia",
          "Spain",
          "Sweden",
          "Switzerland",
          "Ukraine",
          "United Kingdom"
         ],
         "xaxis": "x",
         "y": [
          4.719,
          7.246,
          5.323,
          6.923,
          5.386,
          5.011,
          5.432,
          7.6,
          5.893,
          7.769,
          6.592,
          6.985,
          5.287,
          5.758,
          7.494,
          7.021,
          6.223,
          6.1,
          5.94,
          6.149,
          7.09,
          6.726,
          5.529,
          5.523,
          7.488,
          7.554,
          6.182,
          5.693,
          6.07,
          5.648,
          5.603,
          6.198,
          6.118,
          6.354,
          7.343,
          7.48,
          4.332,
          7.054
         ],
         "yaxis": "y"
        },
        {
         "hovertemplate": "Year=2018<br>Country=%{x}<br>value=%{y}<extra></extra>",
         "legendgroup": "2018",
         "line": {
          "color": "#ab63fa",
          "dash": "solid"
         },
         "marker": {
          "symbol": "circle"
         },
         "mode": "lines",
         "name": "2018",
         "orientation": "v",
         "showlegend": true,
         "type": "scatter",
         "x": [
          "Albania",
          "Austria",
          "Belarus",
          "Belgium",
          "Bosnia and Herzegovina",
          "Bulgaria",
          "Croatia",
          "Denmark",
          "Estonia",
          "Finland",
          "France",
          "Germany",
          "Greece",
          "Hungary",
          "Iceland",
          "Ireland",
          "Italy",
          "Kosovo",
          "Latvia",
          "Lithuania",
          "Luxembourg",
          "Malta",
          "Moldova",
          "Montenegro",
          "Netherlands",
          "Norway",
          "Poland",
          "Portugal",
          "Romania",
          "Russia",
          "Serbia",
          "Slovakia",
          "Slovenia",
          "Spain",
          "Sweden",
          "Switzerland",
          "Ukraine",
          "United Kingdom"
         ],
         "xaxis": "x",
         "y": [
          4.586,
          7.139,
          5.483,
          6.927,
          5.129,
          4.933,
          5.321,
          7.555,
          5.739,
          7.632,
          6.489,
          6.965,
          5.358,
          5.62,
          7.495,
          6.977,
          6,
          5.662,
          5.933,
          5.952,
          6.91,
          6.627,
          5.64,
          5.347,
          7.441,
          7.594,
          6.123,
          5.41,
          5.945,
          5.81,
          5.398,
          6.173,
          5.948,
          6.31,
          7.314,
          7.487,
          4.103,
          7.19
         ],
         "yaxis": "y"
        },
        {
         "hovertemplate": "Year=2019<br>Country=%{x}<br>value=%{y}<extra></extra>",
         "legendgroup": "2019",
         "line": {
          "color": "#FFA15A",
          "dash": "solid"
         },
         "marker": {
          "symbol": "circle"
         },
         "mode": "lines",
         "name": "2019",
         "orientation": "v",
         "showlegend": true,
         "type": "scatter",
         "x": [
          "Albania",
          "Austria",
          "Belarus",
          "Belgium",
          "Bosnia and Herzegovina",
          "Bulgaria",
          "Croatia",
          "Denmark",
          "Estonia",
          "Finland",
          "France",
          "Germany",
          "Greece",
          "Hungary",
          "Iceland",
          "Ireland",
          "Italy",
          "Kosovo",
          "Latvia",
          "Lithuania",
          "Luxembourg",
          "Malta",
          "Moldova",
          "Montenegro",
          "Netherlands",
          "Norway",
          "Poland",
          "Portugal",
          "Romania",
          "Russia",
          "Serbia",
          "Slovakia",
          "Slovenia",
          "Spain",
          "Sweden",
          "Switzerland",
          "Ukraine",
          "United Kingdom"
         ],
         "xaxis": "x",
         "y": [
          4.655,
          7.119,
          5.802,
          6.929,
          5.163,
          4.217,
          5.488,
          7.526,
          5.517,
          7.413,
          6.478,
          6.994,
          5.033,
          5.145,
          7.501,
          6.907,
          5.977,
          5.401,
          5.56,
          5.813,
          6.871,
          6.488,
          5.897,
          5.161,
          7.339,
          7.498,
          5.835,
          5.123,
          5.528,
          5.856,
          5.177,
          6.078,
          5.768,
          6.361,
          7.291,
          7.509,
          4.324,
          6.725
         ],
         "yaxis": "y"
        },
        {
         "hovertemplate": "Year=2020<br>Country=%{x}<br>value=%{y}<extra></extra>",
         "legendgroup": "2020",
         "line": {
          "color": "#19d3f3",
          "dash": "solid"
         },
         "marker": {
          "symbol": "circle"
         },
         "mode": "lines",
         "name": "2020",
         "orientation": "v",
         "showlegend": true,
         "type": "scatter",
         "x": [
          "Albania",
          "Austria",
          "Belarus",
          "Belgium",
          "Bosnia and Herzegovina",
          "Bulgaria",
          "Croatia",
          "Denmark",
          "Estonia",
          "Finland",
          "France",
          "Germany",
          "Greece",
          "Hungary",
          "Iceland",
          "Ireland",
          "Italy",
          "Kosovo",
          "Latvia",
          "Lithuania",
          "Luxembourg",
          "Malta",
          "Moldova",
          "Montenegro",
          "Netherlands",
          "Norway",
          "Poland",
          "Portugal",
          "Romania",
          "Russia",
          "Serbia",
          "Slovakia",
          "Slovenia",
          "Spain",
          "Sweden",
          "Switzerland",
          "Ukraine",
          "United Kingdom"
         ],
         "xaxis": "x",
         "y": [
          4.882699966,
          7.294199944,
          5.539899826,
          6.863500118,
          5.674099922,
          5.101500034,
          5.504700184,
          7.645599842,
          6.021800041,
          7.808700085,
          6.663799763,
          7.075799942,
          5.514999866,
          6.000400066,
          7.504499912,
          7.093699932,
          6.38740015,
          6.325200081,
          5.949999809,
          6.215499878,
          7.237500191,
          6.772799969,
          5.607500076,
          5.54610014,
          7.448900223,
          7.487999916,
          6.186299801,
          5.910900116,
          6.123700142,
          5.546000004,
          5.77820015,
          6.280600071,
          6.363399982,
          6.400899887,
          7.353499889,
          7.559899807,
          4.56069994,
          7.164500237
         ],
         "yaxis": "y"
        }
       ],
       "layout": {
        "legend": {
         "title": {
          "text": "Year"
         },
         "tracegroupgap": 0
        },
        "margin": {
         "t": 60
        },
        "template": {
         "data": {
          "bar": [
           {
            "error_x": {
             "color": "#2a3f5f"
            },
            "error_y": {
             "color": "#2a3f5f"
            },
            "marker": {
             "line": {
              "color": "#E5ECF6",
              "width": 0.5
             },
             "pattern": {
              "fillmode": "overlay",
              "size": 10,
              "solidity": 0.2
             }
            },
            "type": "bar"
           }
          ],
          "barpolar": [
           {
            "marker": {
             "line": {
              "color": "#E5ECF6",
              "width": 0.5
             },
             "pattern": {
              "fillmode": "overlay",
              "size": 10,
              "solidity": 0.2
             }
            },
            "type": "barpolar"
           }
          ],
          "carpet": [
           {
            "aaxis": {
             "endlinecolor": "#2a3f5f",
             "gridcolor": "white",
             "linecolor": "white",
             "minorgridcolor": "white",
             "startlinecolor": "#2a3f5f"
            },
            "baxis": {
             "endlinecolor": "#2a3f5f",
             "gridcolor": "white",
             "linecolor": "white",
             "minorgridcolor": "white",
             "startlinecolor": "#2a3f5f"
            },
            "type": "carpet"
           }
          ],
          "choropleth": [
           {
            "colorbar": {
             "outlinewidth": 0,
             "ticks": ""
            },
            "type": "choropleth"
           }
          ],
          "contour": [
           {
            "colorbar": {
             "outlinewidth": 0,
             "ticks": ""
            },
            "colorscale": [
             [
              0,
              "#0d0887"
             ],
             [
              0.1111111111111111,
              "#46039f"
             ],
             [
              0.2222222222222222,
              "#7201a8"
             ],
             [
              0.3333333333333333,
              "#9c179e"
             ],
             [
              0.4444444444444444,
              "#bd3786"
             ],
             [
              0.5555555555555556,
              "#d8576b"
             ],
             [
              0.6666666666666666,
              "#ed7953"
             ],
             [
              0.7777777777777778,
              "#fb9f3a"
             ],
             [
              0.8888888888888888,
              "#fdca26"
             ],
             [
              1,
              "#f0f921"
             ]
            ],
            "type": "contour"
           }
          ],
          "contourcarpet": [
           {
            "colorbar": {
             "outlinewidth": 0,
             "ticks": ""
            },
            "type": "contourcarpet"
           }
          ],
          "heatmap": [
           {
            "colorbar": {
             "outlinewidth": 0,
             "ticks": ""
            },
            "colorscale": [
             [
              0,
              "#0d0887"
             ],
             [
              0.1111111111111111,
              "#46039f"
             ],
             [
              0.2222222222222222,
              "#7201a8"
             ],
             [
              0.3333333333333333,
              "#9c179e"
             ],
             [
              0.4444444444444444,
              "#bd3786"
             ],
             [
              0.5555555555555556,
              "#d8576b"
             ],
             [
              0.6666666666666666,
              "#ed7953"
             ],
             [
              0.7777777777777778,
              "#fb9f3a"
             ],
             [
              0.8888888888888888,
              "#fdca26"
             ],
             [
              1,
              "#f0f921"
             ]
            ],
            "type": "heatmap"
           }
          ],
          "heatmapgl": [
           {
            "colorbar": {
             "outlinewidth": 0,
             "ticks": ""
            },
            "colorscale": [
             [
              0,
              "#0d0887"
             ],
             [
              0.1111111111111111,
              "#46039f"
             ],
             [
              0.2222222222222222,
              "#7201a8"
             ],
             [
              0.3333333333333333,
              "#9c179e"
             ],
             [
              0.4444444444444444,
              "#bd3786"
             ],
             [
              0.5555555555555556,
              "#d8576b"
             ],
             [
              0.6666666666666666,
              "#ed7953"
             ],
             [
              0.7777777777777778,
              "#fb9f3a"
             ],
             [
              0.8888888888888888,
              "#fdca26"
             ],
             [
              1,
              "#f0f921"
             ]
            ],
            "type": "heatmapgl"
           }
          ],
          "histogram": [
           {
            "marker": {
             "pattern": {
              "fillmode": "overlay",
              "size": 10,
              "solidity": 0.2
             }
            },
            "type": "histogram"
           }
          ],
          "histogram2d": [
           {
            "colorbar": {
             "outlinewidth": 0,
             "ticks": ""
            },
            "colorscale": [
             [
              0,
              "#0d0887"
             ],
             [
              0.1111111111111111,
              "#46039f"
             ],
             [
              0.2222222222222222,
              "#7201a8"
             ],
             [
              0.3333333333333333,
              "#9c179e"
             ],
             [
              0.4444444444444444,
              "#bd3786"
             ],
             [
              0.5555555555555556,
              "#d8576b"
             ],
             [
              0.6666666666666666,
              "#ed7953"
             ],
             [
              0.7777777777777778,
              "#fb9f3a"
             ],
             [
              0.8888888888888888,
              "#fdca26"
             ],
             [
              1,
              "#f0f921"
             ]
            ],
            "type": "histogram2d"
           }
          ],
          "histogram2dcontour": [
           {
            "colorbar": {
             "outlinewidth": 0,
             "ticks": ""
            },
            "colorscale": [
             [
              0,
              "#0d0887"
             ],
             [
              0.1111111111111111,
              "#46039f"
             ],
             [
              0.2222222222222222,
              "#7201a8"
             ],
             [
              0.3333333333333333,
              "#9c179e"
             ],
             [
              0.4444444444444444,
              "#bd3786"
             ],
             [
              0.5555555555555556,
              "#d8576b"
             ],
             [
              0.6666666666666666,
              "#ed7953"
             ],
             [
              0.7777777777777778,
              "#fb9f3a"
             ],
             [
              0.8888888888888888,
              "#fdca26"
             ],
             [
              1,
              "#f0f921"
             ]
            ],
            "type": "histogram2dcontour"
           }
          ],
          "mesh3d": [
           {
            "colorbar": {
             "outlinewidth": 0,
             "ticks": ""
            },
            "type": "mesh3d"
           }
          ],
          "parcoords": [
           {
            "line": {
             "colorbar": {
              "outlinewidth": 0,
              "ticks": ""
             }
            },
            "type": "parcoords"
           }
          ],
          "pie": [
           {
            "automargin": true,
            "type": "pie"
           }
          ],
          "scatter": [
           {
            "fillpattern": {
             "fillmode": "overlay",
             "size": 10,
             "solidity": 0.2
            },
            "type": "scatter"
           }
          ],
          "scatter3d": [
           {
            "line": {
             "colorbar": {
              "outlinewidth": 0,
              "ticks": ""
             }
            },
            "marker": {
             "colorbar": {
              "outlinewidth": 0,
              "ticks": ""
             }
            },
            "type": "scatter3d"
           }
          ],
          "scattercarpet": [
           {
            "marker": {
             "colorbar": {
              "outlinewidth": 0,
              "ticks": ""
             }
            },
            "type": "scattercarpet"
           }
          ],
          "scattergeo": [
           {
            "marker": {
             "colorbar": {
              "outlinewidth": 0,
              "ticks": ""
             }
            },
            "type": "scattergeo"
           }
          ],
          "scattergl": [
           {
            "marker": {
             "colorbar": {
              "outlinewidth": 0,
              "ticks": ""
             }
            },
            "type": "scattergl"
           }
          ],
          "scattermapbox": [
           {
            "marker": {
             "colorbar": {
              "outlinewidth": 0,
              "ticks": ""
             }
            },
            "type": "scattermapbox"
           }
          ],
          "scatterpolar": [
           {
            "marker": {
             "colorbar": {
              "outlinewidth": 0,
              "ticks": ""
             }
            },
            "type": "scatterpolar"
           }
          ],
          "scatterpolargl": [
           {
            "marker": {
             "colorbar": {
              "outlinewidth": 0,
              "ticks": ""
             }
            },
            "type": "scatterpolargl"
           }
          ],
          "scatterternary": [
           {
            "marker": {
             "colorbar": {
              "outlinewidth": 0,
              "ticks": ""
             }
            },
            "type": "scatterternary"
           }
          ],
          "surface": [
           {
            "colorbar": {
             "outlinewidth": 0,
             "ticks": ""
            },
            "colorscale": [
             [
              0,
              "#0d0887"
             ],
             [
              0.1111111111111111,
              "#46039f"
             ],
             [
              0.2222222222222222,
              "#7201a8"
             ],
             [
              0.3333333333333333,
              "#9c179e"
             ],
             [
              0.4444444444444444,
              "#bd3786"
             ],
             [
              0.5555555555555556,
              "#d8576b"
             ],
             [
              0.6666666666666666,
              "#ed7953"
             ],
             [
              0.7777777777777778,
              "#fb9f3a"
             ],
             [
              0.8888888888888888,
              "#fdca26"
             ],
             [
              1,
              "#f0f921"
             ]
            ],
            "type": "surface"
           }
          ],
          "table": [
           {
            "cells": {
             "fill": {
              "color": "#EBF0F8"
             },
             "line": {
              "color": "white"
             }
            },
            "header": {
             "fill": {
              "color": "#C8D4E3"
             },
             "line": {
              "color": "white"
             }
            },
            "type": "table"
           }
          ]
         },
         "layout": {
          "annotationdefaults": {
           "arrowcolor": "#2a3f5f",
           "arrowhead": 0,
           "arrowwidth": 1
          },
          "autotypenumbers": "strict",
          "coloraxis": {
           "colorbar": {
            "outlinewidth": 0,
            "ticks": ""
           }
          },
          "colorscale": {
           "diverging": [
            [
             0,
             "#8e0152"
            ],
            [
             0.1,
             "#c51b7d"
            ],
            [
             0.2,
             "#de77ae"
            ],
            [
             0.3,
             "#f1b6da"
            ],
            [
             0.4,
             "#fde0ef"
            ],
            [
             0.5,
             "#f7f7f7"
            ],
            [
             0.6,
             "#e6f5d0"
            ],
            [
             0.7,
             "#b8e186"
            ],
            [
             0.8,
             "#7fbc41"
            ],
            [
             0.9,
             "#4d9221"
            ],
            [
             1,
             "#276419"
            ]
           ],
           "sequential": [
            [
             0,
             "#0d0887"
            ],
            [
             0.1111111111111111,
             "#46039f"
            ],
            [
             0.2222222222222222,
             "#7201a8"
            ],
            [
             0.3333333333333333,
             "#9c179e"
            ],
            [
             0.4444444444444444,
             "#bd3786"
            ],
            [
             0.5555555555555556,
             "#d8576b"
            ],
            [
             0.6666666666666666,
             "#ed7953"
            ],
            [
             0.7777777777777778,
             "#fb9f3a"
            ],
            [
             0.8888888888888888,
             "#fdca26"
            ],
            [
             1,
             "#f0f921"
            ]
           ],
           "sequentialminus": [
            [
             0,
             "#0d0887"
            ],
            [
             0.1111111111111111,
             "#46039f"
            ],
            [
             0.2222222222222222,
             "#7201a8"
            ],
            [
             0.3333333333333333,
             "#9c179e"
            ],
            [
             0.4444444444444444,
             "#bd3786"
            ],
            [
             0.5555555555555556,
             "#d8576b"
            ],
            [
             0.6666666666666666,
             "#ed7953"
            ],
            [
             0.7777777777777778,
             "#fb9f3a"
            ],
            [
             0.8888888888888888,
             "#fdca26"
            ],
            [
             1,
             "#f0f921"
            ]
           ]
          },
          "colorway": [
           "#636efa",
           "#EF553B",
           "#00cc96",
           "#ab63fa",
           "#FFA15A",
           "#19d3f3",
           "#FF6692",
           "#B6E880",
           "#FF97FF",
           "#FECB52"
          ],
          "font": {
           "color": "#2a3f5f"
          },
          "geo": {
           "bgcolor": "white",
           "lakecolor": "white",
           "landcolor": "#E5ECF6",
           "showlakes": true,
           "showland": true,
           "subunitcolor": "white"
          },
          "hoverlabel": {
           "align": "left"
          },
          "hovermode": "closest",
          "mapbox": {
           "style": "light"
          },
          "paper_bgcolor": "white",
          "plot_bgcolor": "#E5ECF6",
          "polar": {
           "angularaxis": {
            "gridcolor": "white",
            "linecolor": "white",
            "ticks": ""
           },
           "bgcolor": "#E5ECF6",
           "radialaxis": {
            "gridcolor": "white",
            "linecolor": "white",
            "ticks": ""
           }
          },
          "scene": {
           "xaxis": {
            "backgroundcolor": "#E5ECF6",
            "gridcolor": "white",
            "gridwidth": 2,
            "linecolor": "white",
            "showbackground": true,
            "ticks": "",
            "zerolinecolor": "white"
           },
           "yaxis": {
            "backgroundcolor": "#E5ECF6",
            "gridcolor": "white",
            "gridwidth": 2,
            "linecolor": "white",
            "showbackground": true,
            "ticks": "",
            "zerolinecolor": "white"
           },
           "zaxis": {
            "backgroundcolor": "#E5ECF6",
            "gridcolor": "white",
            "gridwidth": 2,
            "linecolor": "white",
            "showbackground": true,
            "ticks": "",
            "zerolinecolor": "white"
           }
          },
          "shapedefaults": {
           "line": {
            "color": "#2a3f5f"
           }
          },
          "ternary": {
           "aaxis": {
            "gridcolor": "white",
            "linecolor": "white",
            "ticks": ""
           },
           "baxis": {
            "gridcolor": "white",
            "linecolor": "white",
            "ticks": ""
           },
           "bgcolor": "#E5ECF6",
           "caxis": {
            "gridcolor": "white",
            "linecolor": "white",
            "ticks": ""
           }
          },
          "title": {
           "x": 0.05
          },
          "xaxis": {
           "automargin": true,
           "gridcolor": "white",
           "linecolor": "white",
           "ticks": "",
           "title": {
            "standoff": 15
           },
           "zerolinecolor": "white",
           "zerolinewidth": 2
          },
          "yaxis": {
           "automargin": true,
           "gridcolor": "white",
           "linecolor": "white",
           "ticks": "",
           "title": {
            "standoff": 15
           },
           "zerolinecolor": "white",
           "zerolinewidth": 2
          }
         }
        },
        "xaxis": {
         "anchor": "y",
         "domain": [
          0,
          1
         ],
         "title": {
          "text": "Country"
         }
        },
        "yaxis": {
         "anchor": "x",
         "domain": [
          0,
          1
         ],
         "title": {
          "text": "value"
         }
        }
       }
      }
     },
     "metadata": {},
     "output_type": "display_data"
    }
   ],
   "source": [
    "px.line(europe_p)"
   ]
  },
  {
   "cell_type": "markdown",
   "metadata": {},
   "source": [
    "Europe : in general the average happiness score between 4 till 7.5 less country >Ukraine** high country > Norway and Denmark**"
   ]
  },
  {
   "cell_type": "code",
   "execution_count": 141,
   "metadata": {},
   "outputs": [
    {
     "data": {
      "text/html": [
       "<div>\n",
       "<style scoped>\n",
       "    .dataframe tbody tr th:only-of-type {\n",
       "        vertical-align: middle;\n",
       "    }\n",
       "\n",
       "    .dataframe tbody tr th {\n",
       "        vertical-align: top;\n",
       "    }\n",
       "\n",
       "    .dataframe thead th {\n",
       "        text-align: right;\n",
       "    }\n",
       "</style>\n",
       "<table border=\"1\" class=\"dataframe\">\n",
       "  <thead>\n",
       "    <tr style=\"text-align: right;\">\n",
       "      <th>Year</th>\n",
       "      <th>2015</th>\n",
       "      <th>2016</th>\n",
       "      <th>2017</th>\n",
       "      <th>2018</th>\n",
       "      <th>2019</th>\n",
       "      <th>2020</th>\n",
       "    </tr>\n",
       "    <tr>\n",
       "      <th>Country</th>\n",
       "      <th></th>\n",
       "      <th></th>\n",
       "      <th></th>\n",
       "      <th></th>\n",
       "      <th></th>\n",
       "      <th></th>\n",
       "    </tr>\n",
       "  </thead>\n",
       "  <tbody>\n",
       "    <tr>\n",
       "      <th>Mexico</th>\n",
       "      <td>6.578</td>\n",
       "      <td>7.187</td>\n",
       "      <td>6.595</td>\n",
       "      <td>6.488</td>\n",
       "      <td>6.778</td>\n",
       "      <td>6.4650</td>\n",
       "    </tr>\n",
       "    <tr>\n",
       "      <th>United States</th>\n",
       "      <td>6.993</td>\n",
       "      <td>7.119</td>\n",
       "      <td>6.892</td>\n",
       "      <td>6.886</td>\n",
       "      <td>7.104</td>\n",
       "      <td>6.9396</td>\n",
       "    </tr>\n",
       "    <tr>\n",
       "      <th>Canada</th>\n",
       "      <td>7.316</td>\n",
       "      <td>7.427</td>\n",
       "      <td>7.278</td>\n",
       "      <td>7.328</td>\n",
       "      <td>7.404</td>\n",
       "      <td>7.2321</td>\n",
       "    </tr>\n",
       "  </tbody>\n",
       "</table>\n",
       "</div>"
      ],
      "text/plain": [
       "Year            2015   2016   2017   2018   2019    2020\n",
       "Country                                                 \n",
       "Mexico         6.578  7.187  6.595  6.488  6.778  6.4650\n",
       "United States  6.993  7.119  6.892  6.886  7.104  6.9396\n",
       "Canada         7.316  7.427  7.278  7.328  7.404  7.2321"
      ]
     },
     "execution_count": 141,
     "metadata": {},
     "output_type": "execute_result"
    }
   ],
   "source": [
    "# create pivot table - North America\n",
    "\n",
    "north_a_p=north_a.pivot_table(index=\"Country\",columns=\"Year\",values=\"happiness_score\")\n",
    "north_a_p.sort_values(by=2015)"
   ]
  },
  {
   "cell_type": "code",
   "execution_count": 142,
   "metadata": {},
   "outputs": [
    {
     "data": {
      "application/vnd.plotly.v1+json": {
       "config": {
        "plotlyServerURL": "https://plot.ly"
       },
       "data": [
        {
         "hovertemplate": "Year=2015<br>Country=%{x}<br>value=%{y}<extra></extra>",
         "legendgroup": "2015",
         "line": {
          "color": "#636efa",
          "dash": "solid"
         },
         "marker": {
          "symbol": "circle"
         },
         "mode": "lines",
         "name": "2015",
         "orientation": "v",
         "showlegend": true,
         "type": "scatter",
         "x": [
          "Canada",
          "Mexico",
          "United States"
         ],
         "xaxis": "x",
         "y": [
          7.315999985,
          6.578000069,
          6.993000031
         ],
         "yaxis": "y"
        },
        {
         "hovertemplate": "Year=2016<br>Country=%{x}<br>value=%{y}<extra></extra>",
         "legendgroup": "2016",
         "line": {
          "color": "#EF553B",
          "dash": "solid"
         },
         "marker": {
          "symbol": "circle"
         },
         "mode": "lines",
         "name": "2016",
         "orientation": "v",
         "showlegend": true,
         "type": "scatter",
         "x": [
          "Canada",
          "Mexico",
          "United States"
         ],
         "xaxis": "x",
         "y": [
          7.427,
          7.187,
          7.119
         ],
         "yaxis": "y"
        },
        {
         "hovertemplate": "Year=2017<br>Country=%{x}<br>value=%{y}<extra></extra>",
         "legendgroup": "2017",
         "line": {
          "color": "#00cc96",
          "dash": "solid"
         },
         "marker": {
          "symbol": "circle"
         },
         "mode": "lines",
         "name": "2017",
         "orientation": "v",
         "showlegend": true,
         "type": "scatter",
         "x": [
          "Canada",
          "Mexico",
          "United States"
         ],
         "xaxis": "x",
         "y": [
          7.278,
          6.595,
          6.892
         ],
         "yaxis": "y"
        },
        {
         "hovertemplate": "Year=2018<br>Country=%{x}<br>value=%{y}<extra></extra>",
         "legendgroup": "2018",
         "line": {
          "color": "#ab63fa",
          "dash": "solid"
         },
         "marker": {
          "symbol": "circle"
         },
         "mode": "lines",
         "name": "2018",
         "orientation": "v",
         "showlegend": true,
         "type": "scatter",
         "x": [
          "Canada",
          "Mexico",
          "United States"
         ],
         "xaxis": "x",
         "y": [
          7.328,
          6.488,
          6.886
         ],
         "yaxis": "y"
        },
        {
         "hovertemplate": "Year=2019<br>Country=%{x}<br>value=%{y}<extra></extra>",
         "legendgroup": "2019",
         "line": {
          "color": "#FFA15A",
          "dash": "solid"
         },
         "marker": {
          "symbol": "circle"
         },
         "mode": "lines",
         "name": "2019",
         "orientation": "v",
         "showlegend": true,
         "type": "scatter",
         "x": [
          "Canada",
          "Mexico",
          "United States"
         ],
         "xaxis": "x",
         "y": [
          7.404,
          6.778,
          7.104
         ],
         "yaxis": "y"
        },
        {
         "hovertemplate": "Year=2020<br>Country=%{x}<br>value=%{y}<extra></extra>",
         "legendgroup": "2020",
         "line": {
          "color": "#19d3f3",
          "dash": "solid"
         },
         "marker": {
          "symbol": "circle"
         },
         "mode": "lines",
         "name": "2020",
         "orientation": "v",
         "showlegend": true,
         "type": "scatter",
         "x": [
          "Canada",
          "Mexico",
          "United States"
         ],
         "xaxis": "x",
         "y": [
          7.23210001,
          6.465000153,
          6.939599991
         ],
         "yaxis": "y"
        }
       ],
       "layout": {
        "legend": {
         "title": {
          "text": "Year"
         },
         "tracegroupgap": 0
        },
        "margin": {
         "t": 60
        },
        "template": {
         "data": {
          "bar": [
           {
            "error_x": {
             "color": "#2a3f5f"
            },
            "error_y": {
             "color": "#2a3f5f"
            },
            "marker": {
             "line": {
              "color": "#E5ECF6",
              "width": 0.5
             },
             "pattern": {
              "fillmode": "overlay",
              "size": 10,
              "solidity": 0.2
             }
            },
            "type": "bar"
           }
          ],
          "barpolar": [
           {
            "marker": {
             "line": {
              "color": "#E5ECF6",
              "width": 0.5
             },
             "pattern": {
              "fillmode": "overlay",
              "size": 10,
              "solidity": 0.2
             }
            },
            "type": "barpolar"
           }
          ],
          "carpet": [
           {
            "aaxis": {
             "endlinecolor": "#2a3f5f",
             "gridcolor": "white",
             "linecolor": "white",
             "minorgridcolor": "white",
             "startlinecolor": "#2a3f5f"
            },
            "baxis": {
             "endlinecolor": "#2a3f5f",
             "gridcolor": "white",
             "linecolor": "white",
             "minorgridcolor": "white",
             "startlinecolor": "#2a3f5f"
            },
            "type": "carpet"
           }
          ],
          "choropleth": [
           {
            "colorbar": {
             "outlinewidth": 0,
             "ticks": ""
            },
            "type": "choropleth"
           }
          ],
          "contour": [
           {
            "colorbar": {
             "outlinewidth": 0,
             "ticks": ""
            },
            "colorscale": [
             [
              0,
              "#0d0887"
             ],
             [
              0.1111111111111111,
              "#46039f"
             ],
             [
              0.2222222222222222,
              "#7201a8"
             ],
             [
              0.3333333333333333,
              "#9c179e"
             ],
             [
              0.4444444444444444,
              "#bd3786"
             ],
             [
              0.5555555555555556,
              "#d8576b"
             ],
             [
              0.6666666666666666,
              "#ed7953"
             ],
             [
              0.7777777777777778,
              "#fb9f3a"
             ],
             [
              0.8888888888888888,
              "#fdca26"
             ],
             [
              1,
              "#f0f921"
             ]
            ],
            "type": "contour"
           }
          ],
          "contourcarpet": [
           {
            "colorbar": {
             "outlinewidth": 0,
             "ticks": ""
            },
            "type": "contourcarpet"
           }
          ],
          "heatmap": [
           {
            "colorbar": {
             "outlinewidth": 0,
             "ticks": ""
            },
            "colorscale": [
             [
              0,
              "#0d0887"
             ],
             [
              0.1111111111111111,
              "#46039f"
             ],
             [
              0.2222222222222222,
              "#7201a8"
             ],
             [
              0.3333333333333333,
              "#9c179e"
             ],
             [
              0.4444444444444444,
              "#bd3786"
             ],
             [
              0.5555555555555556,
              "#d8576b"
             ],
             [
              0.6666666666666666,
              "#ed7953"
             ],
             [
              0.7777777777777778,
              "#fb9f3a"
             ],
             [
              0.8888888888888888,
              "#fdca26"
             ],
             [
              1,
              "#f0f921"
             ]
            ],
            "type": "heatmap"
           }
          ],
          "heatmapgl": [
           {
            "colorbar": {
             "outlinewidth": 0,
             "ticks": ""
            },
            "colorscale": [
             [
              0,
              "#0d0887"
             ],
             [
              0.1111111111111111,
              "#46039f"
             ],
             [
              0.2222222222222222,
              "#7201a8"
             ],
             [
              0.3333333333333333,
              "#9c179e"
             ],
             [
              0.4444444444444444,
              "#bd3786"
             ],
             [
              0.5555555555555556,
              "#d8576b"
             ],
             [
              0.6666666666666666,
              "#ed7953"
             ],
             [
              0.7777777777777778,
              "#fb9f3a"
             ],
             [
              0.8888888888888888,
              "#fdca26"
             ],
             [
              1,
              "#f0f921"
             ]
            ],
            "type": "heatmapgl"
           }
          ],
          "histogram": [
           {
            "marker": {
             "pattern": {
              "fillmode": "overlay",
              "size": 10,
              "solidity": 0.2
             }
            },
            "type": "histogram"
           }
          ],
          "histogram2d": [
           {
            "colorbar": {
             "outlinewidth": 0,
             "ticks": ""
            },
            "colorscale": [
             [
              0,
              "#0d0887"
             ],
             [
              0.1111111111111111,
              "#46039f"
             ],
             [
              0.2222222222222222,
              "#7201a8"
             ],
             [
              0.3333333333333333,
              "#9c179e"
             ],
             [
              0.4444444444444444,
              "#bd3786"
             ],
             [
              0.5555555555555556,
              "#d8576b"
             ],
             [
              0.6666666666666666,
              "#ed7953"
             ],
             [
              0.7777777777777778,
              "#fb9f3a"
             ],
             [
              0.8888888888888888,
              "#fdca26"
             ],
             [
              1,
              "#f0f921"
             ]
            ],
            "type": "histogram2d"
           }
          ],
          "histogram2dcontour": [
           {
            "colorbar": {
             "outlinewidth": 0,
             "ticks": ""
            },
            "colorscale": [
             [
              0,
              "#0d0887"
             ],
             [
              0.1111111111111111,
              "#46039f"
             ],
             [
              0.2222222222222222,
              "#7201a8"
             ],
             [
              0.3333333333333333,
              "#9c179e"
             ],
             [
              0.4444444444444444,
              "#bd3786"
             ],
             [
              0.5555555555555556,
              "#d8576b"
             ],
             [
              0.6666666666666666,
              "#ed7953"
             ],
             [
              0.7777777777777778,
              "#fb9f3a"
             ],
             [
              0.8888888888888888,
              "#fdca26"
             ],
             [
              1,
              "#f0f921"
             ]
            ],
            "type": "histogram2dcontour"
           }
          ],
          "mesh3d": [
           {
            "colorbar": {
             "outlinewidth": 0,
             "ticks": ""
            },
            "type": "mesh3d"
           }
          ],
          "parcoords": [
           {
            "line": {
             "colorbar": {
              "outlinewidth": 0,
              "ticks": ""
             }
            },
            "type": "parcoords"
           }
          ],
          "pie": [
           {
            "automargin": true,
            "type": "pie"
           }
          ],
          "scatter": [
           {
            "fillpattern": {
             "fillmode": "overlay",
             "size": 10,
             "solidity": 0.2
            },
            "type": "scatter"
           }
          ],
          "scatter3d": [
           {
            "line": {
             "colorbar": {
              "outlinewidth": 0,
              "ticks": ""
             }
            },
            "marker": {
             "colorbar": {
              "outlinewidth": 0,
              "ticks": ""
             }
            },
            "type": "scatter3d"
           }
          ],
          "scattercarpet": [
           {
            "marker": {
             "colorbar": {
              "outlinewidth": 0,
              "ticks": ""
             }
            },
            "type": "scattercarpet"
           }
          ],
          "scattergeo": [
           {
            "marker": {
             "colorbar": {
              "outlinewidth": 0,
              "ticks": ""
             }
            },
            "type": "scattergeo"
           }
          ],
          "scattergl": [
           {
            "marker": {
             "colorbar": {
              "outlinewidth": 0,
              "ticks": ""
             }
            },
            "type": "scattergl"
           }
          ],
          "scattermapbox": [
           {
            "marker": {
             "colorbar": {
              "outlinewidth": 0,
              "ticks": ""
             }
            },
            "type": "scattermapbox"
           }
          ],
          "scatterpolar": [
           {
            "marker": {
             "colorbar": {
              "outlinewidth": 0,
              "ticks": ""
             }
            },
            "type": "scatterpolar"
           }
          ],
          "scatterpolargl": [
           {
            "marker": {
             "colorbar": {
              "outlinewidth": 0,
              "ticks": ""
             }
            },
            "type": "scatterpolargl"
           }
          ],
          "scatterternary": [
           {
            "marker": {
             "colorbar": {
              "outlinewidth": 0,
              "ticks": ""
             }
            },
            "type": "scatterternary"
           }
          ],
          "surface": [
           {
            "colorbar": {
             "outlinewidth": 0,
             "ticks": ""
            },
            "colorscale": [
             [
              0,
              "#0d0887"
             ],
             [
              0.1111111111111111,
              "#46039f"
             ],
             [
              0.2222222222222222,
              "#7201a8"
             ],
             [
              0.3333333333333333,
              "#9c179e"
             ],
             [
              0.4444444444444444,
              "#bd3786"
             ],
             [
              0.5555555555555556,
              "#d8576b"
             ],
             [
              0.6666666666666666,
              "#ed7953"
             ],
             [
              0.7777777777777778,
              "#fb9f3a"
             ],
             [
              0.8888888888888888,
              "#fdca26"
             ],
             [
              1,
              "#f0f921"
             ]
            ],
            "type": "surface"
           }
          ],
          "table": [
           {
            "cells": {
             "fill": {
              "color": "#EBF0F8"
             },
             "line": {
              "color": "white"
             }
            },
            "header": {
             "fill": {
              "color": "#C8D4E3"
             },
             "line": {
              "color": "white"
             }
            },
            "type": "table"
           }
          ]
         },
         "layout": {
          "annotationdefaults": {
           "arrowcolor": "#2a3f5f",
           "arrowhead": 0,
           "arrowwidth": 1
          },
          "autotypenumbers": "strict",
          "coloraxis": {
           "colorbar": {
            "outlinewidth": 0,
            "ticks": ""
           }
          },
          "colorscale": {
           "diverging": [
            [
             0,
             "#8e0152"
            ],
            [
             0.1,
             "#c51b7d"
            ],
            [
             0.2,
             "#de77ae"
            ],
            [
             0.3,
             "#f1b6da"
            ],
            [
             0.4,
             "#fde0ef"
            ],
            [
             0.5,
             "#f7f7f7"
            ],
            [
             0.6,
             "#e6f5d0"
            ],
            [
             0.7,
             "#b8e186"
            ],
            [
             0.8,
             "#7fbc41"
            ],
            [
             0.9,
             "#4d9221"
            ],
            [
             1,
             "#276419"
            ]
           ],
           "sequential": [
            [
             0,
             "#0d0887"
            ],
            [
             0.1111111111111111,
             "#46039f"
            ],
            [
             0.2222222222222222,
             "#7201a8"
            ],
            [
             0.3333333333333333,
             "#9c179e"
            ],
            [
             0.4444444444444444,
             "#bd3786"
            ],
            [
             0.5555555555555556,
             "#d8576b"
            ],
            [
             0.6666666666666666,
             "#ed7953"
            ],
            [
             0.7777777777777778,
             "#fb9f3a"
            ],
            [
             0.8888888888888888,
             "#fdca26"
            ],
            [
             1,
             "#f0f921"
            ]
           ],
           "sequentialminus": [
            [
             0,
             "#0d0887"
            ],
            [
             0.1111111111111111,
             "#46039f"
            ],
            [
             0.2222222222222222,
             "#7201a8"
            ],
            [
             0.3333333333333333,
             "#9c179e"
            ],
            [
             0.4444444444444444,
             "#bd3786"
            ],
            [
             0.5555555555555556,
             "#d8576b"
            ],
            [
             0.6666666666666666,
             "#ed7953"
            ],
            [
             0.7777777777777778,
             "#fb9f3a"
            ],
            [
             0.8888888888888888,
             "#fdca26"
            ],
            [
             1,
             "#f0f921"
            ]
           ]
          },
          "colorway": [
           "#636efa",
           "#EF553B",
           "#00cc96",
           "#ab63fa",
           "#FFA15A",
           "#19d3f3",
           "#FF6692",
           "#B6E880",
           "#FF97FF",
           "#FECB52"
          ],
          "font": {
           "color": "#2a3f5f"
          },
          "geo": {
           "bgcolor": "white",
           "lakecolor": "white",
           "landcolor": "#E5ECF6",
           "showlakes": true,
           "showland": true,
           "subunitcolor": "white"
          },
          "hoverlabel": {
           "align": "left"
          },
          "hovermode": "closest",
          "mapbox": {
           "style": "light"
          },
          "paper_bgcolor": "white",
          "plot_bgcolor": "#E5ECF6",
          "polar": {
           "angularaxis": {
            "gridcolor": "white",
            "linecolor": "white",
            "ticks": ""
           },
           "bgcolor": "#E5ECF6",
           "radialaxis": {
            "gridcolor": "white",
            "linecolor": "white",
            "ticks": ""
           }
          },
          "scene": {
           "xaxis": {
            "backgroundcolor": "#E5ECF6",
            "gridcolor": "white",
            "gridwidth": 2,
            "linecolor": "white",
            "showbackground": true,
            "ticks": "",
            "zerolinecolor": "white"
           },
           "yaxis": {
            "backgroundcolor": "#E5ECF6",
            "gridcolor": "white",
            "gridwidth": 2,
            "linecolor": "white",
            "showbackground": true,
            "ticks": "",
            "zerolinecolor": "white"
           },
           "zaxis": {
            "backgroundcolor": "#E5ECF6",
            "gridcolor": "white",
            "gridwidth": 2,
            "linecolor": "white",
            "showbackground": true,
            "ticks": "",
            "zerolinecolor": "white"
           }
          },
          "shapedefaults": {
           "line": {
            "color": "#2a3f5f"
           }
          },
          "ternary": {
           "aaxis": {
            "gridcolor": "white",
            "linecolor": "white",
            "ticks": ""
           },
           "baxis": {
            "gridcolor": "white",
            "linecolor": "white",
            "ticks": ""
           },
           "bgcolor": "#E5ECF6",
           "caxis": {
            "gridcolor": "white",
            "linecolor": "white",
            "ticks": ""
           }
          },
          "title": {
           "x": 0.05
          },
          "xaxis": {
           "automargin": true,
           "gridcolor": "white",
           "linecolor": "white",
           "ticks": "",
           "title": {
            "standoff": 15
           },
           "zerolinecolor": "white",
           "zerolinewidth": 2
          },
          "yaxis": {
           "automargin": true,
           "gridcolor": "white",
           "linecolor": "white",
           "ticks": "",
           "title": {
            "standoff": 15
           },
           "zerolinecolor": "white",
           "zerolinewidth": 2
          }
         }
        },
        "xaxis": {
         "anchor": "y",
         "domain": [
          0,
          1
         ],
         "title": {
          "text": "Country"
         }
        },
        "yaxis": {
         "anchor": "x",
         "domain": [
          0,
          1
         ],
         "title": {
          "text": "value"
         }
        }
       }
      }
     },
     "metadata": {},
     "output_type": "display_data"
    }
   ],
   "source": [
    "px.line(north_a_p)"
   ]
  },
  {
   "cell_type": "markdown",
   "metadata": {},
   "source": [
    "North America : in general the average happiness score between 6.4 till 7.4 less country >Mexico** high country > United States and Canada**"
   ]
  },
  {
   "cell_type": "code",
   "execution_count": 143,
   "metadata": {},
   "outputs": [
    {
     "data": {
      "text/html": [
       "<div>\n",
       "<style scoped>\n",
       "    .dataframe tbody tr th:only-of-type {\n",
       "        vertical-align: middle;\n",
       "    }\n",
       "\n",
       "    .dataframe tbody tr th {\n",
       "        vertical-align: top;\n",
       "    }\n",
       "\n",
       "    .dataframe thead th {\n",
       "        text-align: right;\n",
       "    }\n",
       "</style>\n",
       "<table border=\"1\" class=\"dataframe\">\n",
       "  <thead>\n",
       "    <tr style=\"text-align: right;\">\n",
       "      <th>Year</th>\n",
       "      <th>2015</th>\n",
       "      <th>2016</th>\n",
       "      <th>2017</th>\n",
       "      <th>2018</th>\n",
       "      <th>2019</th>\n",
       "      <th>2020</th>\n",
       "    </tr>\n",
       "    <tr>\n",
       "      <th>Country</th>\n",
       "      <th></th>\n",
       "      <th></th>\n",
       "      <th></th>\n",
       "      <th></th>\n",
       "      <th></th>\n",
       "      <th></th>\n",
       "    </tr>\n",
       "  </thead>\n",
       "  <tbody>\n",
       "    <tr>\n",
       "      <th>Guinea</th>\n",
       "      <td>3.507</td>\n",
       "      <td>3.656</td>\n",
       "      <td>4.534</td>\n",
       "      <td>3.964</td>\n",
       "      <td>3.607</td>\n",
       "      <td>4.9493</td>\n",
       "    </tr>\n",
       "    <tr>\n",
       "      <th>Haiti</th>\n",
       "      <td>3.603</td>\n",
       "      <td>4.518</td>\n",
       "      <td>3.597</td>\n",
       "      <td>3.582</td>\n",
       "      <td>4.028</td>\n",
       "      <td>3.7208</td>\n",
       "    </tr>\n",
       "    <tr>\n",
       "      <th>Honduras</th>\n",
       "      <td>5.181</td>\n",
       "      <td>4.788</td>\n",
       "      <td>5.860</td>\n",
       "      <td>5.504</td>\n",
       "      <td>4.871</td>\n",
       "      <td>5.9532</td>\n",
       "    </tr>\n",
       "    <tr>\n",
       "      <th>Dominican Republic</th>\n",
       "      <td>5.230</td>\n",
       "      <td>4.885</td>\n",
       "      <td>5.425</td>\n",
       "      <td>5.302</td>\n",
       "      <td>5.155</td>\n",
       "      <td>5.6892</td>\n",
       "    </tr>\n",
       "    <tr>\n",
       "      <th>Venezuela</th>\n",
       "      <td>5.250</td>\n",
       "      <td>6.810</td>\n",
       "      <td>4.707</td>\n",
       "      <td>4.806</td>\n",
       "      <td>6.084</td>\n",
       "      <td>5.0532</td>\n",
       "    </tr>\n",
       "    <tr>\n",
       "      <th>Jamaica</th>\n",
       "      <td>5.311</td>\n",
       "      <td>5.709</td>\n",
       "      <td>5.890</td>\n",
       "      <td>5.890</td>\n",
       "      <td>5.510</td>\n",
       "      <td>5.8898</td>\n",
       "    </tr>\n",
       "    <tr>\n",
       "      <th>Paraguay</th>\n",
       "      <td>5.493</td>\n",
       "      <td>5.878</td>\n",
       "      <td>5.743</td>\n",
       "      <td>5.681</td>\n",
       "      <td>5.538</td>\n",
       "      <td>5.6921</td>\n",
       "    </tr>\n",
       "    <tr>\n",
       "      <th>Peru</th>\n",
       "      <td>5.715</td>\n",
       "      <td>5.824</td>\n",
       "      <td>5.697</td>\n",
       "      <td>5.663</td>\n",
       "      <td>5.743</td>\n",
       "      <td>5.7968</td>\n",
       "    </tr>\n",
       "    <tr>\n",
       "      <th>Bolivia</th>\n",
       "      <td>5.823</td>\n",
       "      <td>5.890</td>\n",
       "      <td>5.779</td>\n",
       "      <td>5.752</td>\n",
       "      <td>5.822</td>\n",
       "      <td>5.7475</td>\n",
       "    </tr>\n",
       "    <tr>\n",
       "      <th>El Salvador</th>\n",
       "      <td>6.003</td>\n",
       "      <td>6.130</td>\n",
       "      <td>6.253</td>\n",
       "      <td>6.167</td>\n",
       "      <td>6.068</td>\n",
       "      <td>6.3483</td>\n",
       "    </tr>\n",
       "    <tr>\n",
       "      <th>Ecuador</th>\n",
       "      <td>6.008</td>\n",
       "      <td>5.975</td>\n",
       "      <td>6.028</td>\n",
       "      <td>5.973</td>\n",
       "      <td>5.976</td>\n",
       "      <td>5.9252</td>\n",
       "    </tr>\n",
       "    <tr>\n",
       "      <th>Nicaragua</th>\n",
       "      <td>6.071</td>\n",
       "      <td>5.828</td>\n",
       "      <td>6.105</td>\n",
       "      <td>6.141</td>\n",
       "      <td>5.992</td>\n",
       "      <td>6.1371</td>\n",
       "    </tr>\n",
       "    <tr>\n",
       "      <th>Colombia</th>\n",
       "      <td>6.357</td>\n",
       "      <td>6.477</td>\n",
       "      <td>6.125</td>\n",
       "      <td>6.260</td>\n",
       "      <td>6.481</td>\n",
       "      <td>6.1634</td>\n",
       "    </tr>\n",
       "    <tr>\n",
       "      <th>Panama</th>\n",
       "      <td>6.452</td>\n",
       "      <td>6.786</td>\n",
       "      <td>6.321</td>\n",
       "      <td>6.430</td>\n",
       "      <td>6.701</td>\n",
       "      <td>6.3048</td>\n",
       "    </tr>\n",
       "    <tr>\n",
       "      <th>Guatemala</th>\n",
       "      <td>6.454</td>\n",
       "      <td>6.123</td>\n",
       "      <td>6.436</td>\n",
       "      <td>6.382</td>\n",
       "      <td>6.324</td>\n",
       "      <td>6.3989</td>\n",
       "    </tr>\n",
       "    <tr>\n",
       "      <th>Uruguay</th>\n",
       "      <td>6.454</td>\n",
       "      <td>6.485</td>\n",
       "      <td>6.293</td>\n",
       "      <td>6.379</td>\n",
       "      <td>6.545</td>\n",
       "      <td>6.4401</td>\n",
       "    </tr>\n",
       "    <tr>\n",
       "      <th>Argentina</th>\n",
       "      <td>6.599</td>\n",
       "      <td>6.574</td>\n",
       "      <td>6.086</td>\n",
       "      <td>6.388</td>\n",
       "      <td>6.650</td>\n",
       "      <td>5.9747</td>\n",
       "    </tr>\n",
       "    <tr>\n",
       "      <th>Brazil</th>\n",
       "      <td>6.635</td>\n",
       "      <td>6.983</td>\n",
       "      <td>6.300</td>\n",
       "      <td>6.419</td>\n",
       "      <td>6.952</td>\n",
       "      <td>6.3756</td>\n",
       "    </tr>\n",
       "    <tr>\n",
       "      <th>Chile</th>\n",
       "      <td>6.652</td>\n",
       "      <td>6.670</td>\n",
       "      <td>6.444</td>\n",
       "      <td>6.476</td>\n",
       "      <td>6.705</td>\n",
       "      <td>6.2285</td>\n",
       "    </tr>\n",
       "    <tr>\n",
       "      <th>Costa Rica</th>\n",
       "      <td>7.079</td>\n",
       "      <td>7.226</td>\n",
       "      <td>7.167</td>\n",
       "      <td>7.072</td>\n",
       "      <td>7.087</td>\n",
       "      <td>7.1214</td>\n",
       "    </tr>\n",
       "  </tbody>\n",
       "</table>\n",
       "</div>"
      ],
      "text/plain": [
       "Year                 2015   2016   2017   2018   2019    2020\n",
       "Country                                                      \n",
       "Guinea              3.507  3.656  4.534  3.964  3.607  4.9493\n",
       "Haiti               3.603  4.518  3.597  3.582  4.028  3.7208\n",
       "Honduras            5.181  4.788  5.860  5.504  4.871  5.9532\n",
       "Dominican Republic  5.230  4.885  5.425  5.302  5.155  5.6892\n",
       "Venezuela           5.250  6.810  4.707  4.806  6.084  5.0532\n",
       "Jamaica             5.311  5.709  5.890  5.890  5.510  5.8898\n",
       "Paraguay            5.493  5.878  5.743  5.681  5.538  5.6921\n",
       "Peru                5.715  5.824  5.697  5.663  5.743  5.7968\n",
       "Bolivia             5.823  5.890  5.779  5.752  5.822  5.7475\n",
       "El Salvador         6.003  6.130  6.253  6.167  6.068  6.3483\n",
       "Ecuador             6.008  5.975  6.028  5.973  5.976  5.9252\n",
       "Nicaragua           6.071  5.828  6.105  6.141  5.992  6.1371\n",
       "Colombia            6.357  6.477  6.125  6.260  6.481  6.1634\n",
       "Panama              6.452  6.786  6.321  6.430  6.701  6.3048\n",
       "Guatemala           6.454  6.123  6.436  6.382  6.324  6.3989\n",
       "Uruguay             6.454  6.485  6.293  6.379  6.545  6.4401\n",
       "Argentina           6.599  6.574  6.086  6.388  6.650  5.9747\n",
       "Brazil              6.635  6.983  6.300  6.419  6.952  6.3756\n",
       "Chile               6.652  6.670  6.444  6.476  6.705  6.2285\n",
       "Costa Rica          7.079  7.226  7.167  7.072  7.087  7.1214"
      ]
     },
     "execution_count": 143,
     "metadata": {},
     "output_type": "execute_result"
    }
   ],
   "source": [
    "# creat pivot table - South America\n",
    "\n",
    "south_a_p=south_a.pivot_table(index=\"Country\",columns=\"Year\",values=\"happiness_score\")\n",
    "south_a_p.sort_values(by=2015)"
   ]
  },
  {
   "cell_type": "code",
   "execution_count": 144,
   "metadata": {},
   "outputs": [
    {
     "data": {
      "application/vnd.plotly.v1+json": {
       "config": {
        "plotlyServerURL": "https://plot.ly"
       },
       "data": [
        {
         "hovertemplate": "Year=2015<br>Country=%{x}<br>value=%{y}<extra></extra>",
         "legendgroup": "2015",
         "line": {
          "color": "#636efa",
          "dash": "solid"
         },
         "marker": {
          "symbol": "circle"
         },
         "mode": "lines",
         "name": "2015",
         "orientation": "v",
         "showlegend": true,
         "type": "scatter",
         "x": [
          "Argentina",
          "Bolivia",
          "Brazil",
          "Chile",
          "Colombia",
          "Costa Rica",
          "Dominican Republic",
          "Ecuador",
          "El Salvador",
          "Guatemala",
          "Guinea",
          "Haiti",
          "Honduras",
          "Jamaica",
          "Nicaragua",
          "Panama",
          "Paraguay",
          "Peru",
          "Uruguay",
          "Venezuela"
         ],
         "xaxis": "x",
         "y": [
          6.598999977,
          5.822999954,
          6.635000229,
          6.65199995,
          6.356999874,
          7.078999996,
          5.230000019,
          6.007999897,
          6.002999783,
          6.453999996,
          3.506999969,
          3.602999926,
          5.181000233,
          5.31099987,
          6.071000099,
          6.452000141,
          5.493000031,
          5.715000153,
          6.453999996,
          5.25
         ],
         "yaxis": "y"
        },
        {
         "hovertemplate": "Year=2016<br>Country=%{x}<br>value=%{y}<extra></extra>",
         "legendgroup": "2016",
         "line": {
          "color": "#EF553B",
          "dash": "solid"
         },
         "marker": {
          "symbol": "circle"
         },
         "mode": "lines",
         "name": "2016",
         "orientation": "v",
         "showlegend": true,
         "type": "scatter",
         "x": [
          "Argentina",
          "Bolivia",
          "Brazil",
          "Chile",
          "Colombia",
          "Costa Rica",
          "Dominican Republic",
          "Ecuador",
          "El Salvador",
          "Guatemala",
          "Guinea",
          "Haiti",
          "Honduras",
          "Jamaica",
          "Nicaragua",
          "Panama",
          "Paraguay",
          "Peru",
          "Uruguay",
          "Venezuela"
         ],
         "xaxis": "x",
         "y": [
          6.574,
          5.89,
          6.983,
          6.67,
          6.477,
          7.226,
          4.885,
          5.975,
          6.13,
          6.123,
          3.656,
          4.518,
          4.788,
          5.709,
          5.828,
          6.786,
          5.878,
          5.824,
          6.485,
          6.81
         ],
         "yaxis": "y"
        },
        {
         "hovertemplate": "Year=2017<br>Country=%{x}<br>value=%{y}<extra></extra>",
         "legendgroup": "2017",
         "line": {
          "color": "#00cc96",
          "dash": "solid"
         },
         "marker": {
          "symbol": "circle"
         },
         "mode": "lines",
         "name": "2017",
         "orientation": "v",
         "showlegend": true,
         "type": "scatter",
         "x": [
          "Argentina",
          "Bolivia",
          "Brazil",
          "Chile",
          "Colombia",
          "Costa Rica",
          "Dominican Republic",
          "Ecuador",
          "El Salvador",
          "Guatemala",
          "Guinea",
          "Haiti",
          "Honduras",
          "Jamaica",
          "Nicaragua",
          "Panama",
          "Paraguay",
          "Peru",
          "Uruguay",
          "Venezuela"
         ],
         "xaxis": "x",
         "y": [
          6.086,
          5.779,
          6.3,
          6.444,
          6.125,
          7.167,
          5.425,
          6.028,
          6.253,
          6.436,
          4.534,
          3.597,
          5.86,
          5.89,
          6.105,
          6.321,
          5.743,
          5.697,
          6.293,
          4.707
         ],
         "yaxis": "y"
        },
        {
         "hovertemplate": "Year=2018<br>Country=%{x}<br>value=%{y}<extra></extra>",
         "legendgroup": "2018",
         "line": {
          "color": "#ab63fa",
          "dash": "solid"
         },
         "marker": {
          "symbol": "circle"
         },
         "mode": "lines",
         "name": "2018",
         "orientation": "v",
         "showlegend": true,
         "type": "scatter",
         "x": [
          "Argentina",
          "Bolivia",
          "Brazil",
          "Chile",
          "Colombia",
          "Costa Rica",
          "Dominican Republic",
          "Ecuador",
          "El Salvador",
          "Guatemala",
          "Guinea",
          "Haiti",
          "Honduras",
          "Jamaica",
          "Nicaragua",
          "Panama",
          "Paraguay",
          "Peru",
          "Uruguay",
          "Venezuela"
         ],
         "xaxis": "x",
         "y": [
          6.388,
          5.752,
          6.419,
          6.476,
          6.26,
          7.072,
          5.302,
          5.973,
          6.167,
          6.382,
          3.964,
          3.582,
          5.504,
          5.89,
          6.141,
          6.43,
          5.681,
          5.663,
          6.379,
          4.806
         ],
         "yaxis": "y"
        },
        {
         "hovertemplate": "Year=2019<br>Country=%{x}<br>value=%{y}<extra></extra>",
         "legendgroup": "2019",
         "line": {
          "color": "#FFA15A",
          "dash": "solid"
         },
         "marker": {
          "symbol": "circle"
         },
         "mode": "lines",
         "name": "2019",
         "orientation": "v",
         "showlegend": true,
         "type": "scatter",
         "x": [
          "Argentina",
          "Bolivia",
          "Brazil",
          "Chile",
          "Colombia",
          "Costa Rica",
          "Dominican Republic",
          "Ecuador",
          "El Salvador",
          "Guatemala",
          "Guinea",
          "Haiti",
          "Honduras",
          "Jamaica",
          "Nicaragua",
          "Panama",
          "Paraguay",
          "Peru",
          "Uruguay",
          "Venezuela"
         ],
         "xaxis": "x",
         "y": [
          6.65,
          5.822,
          6.952,
          6.705,
          6.481,
          7.087,
          5.155,
          5.976,
          6.068,
          6.324,
          3.607,
          4.028,
          4.871,
          5.51,
          5.992,
          6.701,
          5.538,
          5.743,
          6.545,
          6.084
         ],
         "yaxis": "y"
        },
        {
         "hovertemplate": "Year=2020<br>Country=%{x}<br>value=%{y}<extra></extra>",
         "legendgroup": "2020",
         "line": {
          "color": "#19d3f3",
          "dash": "solid"
         },
         "marker": {
          "symbol": "circle"
         },
         "mode": "lines",
         "name": "2020",
         "orientation": "v",
         "showlegend": true,
         "type": "scatter",
         "x": [
          "Argentina",
          "Bolivia",
          "Brazil",
          "Chile",
          "Colombia",
          "Costa Rica",
          "Dominican Republic",
          "Ecuador",
          "El Salvador",
          "Guatemala",
          "Guinea",
          "Haiti",
          "Honduras",
          "Jamaica",
          "Nicaragua",
          "Panama",
          "Paraguay",
          "Peru",
          "Uruguay",
          "Venezuela"
         ],
         "xaxis": "x",
         "y": [
          5.974699974,
          5.747499943,
          6.375599861,
          6.228499889,
          6.163400173,
          7.121399879,
          5.689199924,
          5.925199986,
          6.34829998,
          6.398900032,
          4.949299812,
          3.720799923,
          5.953199863,
          5.889800072,
          6.13710022,
          6.304800034,
          5.692100048,
          5.796800137,
          6.440100193,
          5.053199768
         ],
         "yaxis": "y"
        }
       ],
       "layout": {
        "legend": {
         "title": {
          "text": "Year"
         },
         "tracegroupgap": 0
        },
        "margin": {
         "t": 60
        },
        "template": {
         "data": {
          "bar": [
           {
            "error_x": {
             "color": "#2a3f5f"
            },
            "error_y": {
             "color": "#2a3f5f"
            },
            "marker": {
             "line": {
              "color": "#E5ECF6",
              "width": 0.5
             },
             "pattern": {
              "fillmode": "overlay",
              "size": 10,
              "solidity": 0.2
             }
            },
            "type": "bar"
           }
          ],
          "barpolar": [
           {
            "marker": {
             "line": {
              "color": "#E5ECF6",
              "width": 0.5
             },
             "pattern": {
              "fillmode": "overlay",
              "size": 10,
              "solidity": 0.2
             }
            },
            "type": "barpolar"
           }
          ],
          "carpet": [
           {
            "aaxis": {
             "endlinecolor": "#2a3f5f",
             "gridcolor": "white",
             "linecolor": "white",
             "minorgridcolor": "white",
             "startlinecolor": "#2a3f5f"
            },
            "baxis": {
             "endlinecolor": "#2a3f5f",
             "gridcolor": "white",
             "linecolor": "white",
             "minorgridcolor": "white",
             "startlinecolor": "#2a3f5f"
            },
            "type": "carpet"
           }
          ],
          "choropleth": [
           {
            "colorbar": {
             "outlinewidth": 0,
             "ticks": ""
            },
            "type": "choropleth"
           }
          ],
          "contour": [
           {
            "colorbar": {
             "outlinewidth": 0,
             "ticks": ""
            },
            "colorscale": [
             [
              0,
              "#0d0887"
             ],
             [
              0.1111111111111111,
              "#46039f"
             ],
             [
              0.2222222222222222,
              "#7201a8"
             ],
             [
              0.3333333333333333,
              "#9c179e"
             ],
             [
              0.4444444444444444,
              "#bd3786"
             ],
             [
              0.5555555555555556,
              "#d8576b"
             ],
             [
              0.6666666666666666,
              "#ed7953"
             ],
             [
              0.7777777777777778,
              "#fb9f3a"
             ],
             [
              0.8888888888888888,
              "#fdca26"
             ],
             [
              1,
              "#f0f921"
             ]
            ],
            "type": "contour"
           }
          ],
          "contourcarpet": [
           {
            "colorbar": {
             "outlinewidth": 0,
             "ticks": ""
            },
            "type": "contourcarpet"
           }
          ],
          "heatmap": [
           {
            "colorbar": {
             "outlinewidth": 0,
             "ticks": ""
            },
            "colorscale": [
             [
              0,
              "#0d0887"
             ],
             [
              0.1111111111111111,
              "#46039f"
             ],
             [
              0.2222222222222222,
              "#7201a8"
             ],
             [
              0.3333333333333333,
              "#9c179e"
             ],
             [
              0.4444444444444444,
              "#bd3786"
             ],
             [
              0.5555555555555556,
              "#d8576b"
             ],
             [
              0.6666666666666666,
              "#ed7953"
             ],
             [
              0.7777777777777778,
              "#fb9f3a"
             ],
             [
              0.8888888888888888,
              "#fdca26"
             ],
             [
              1,
              "#f0f921"
             ]
            ],
            "type": "heatmap"
           }
          ],
          "heatmapgl": [
           {
            "colorbar": {
             "outlinewidth": 0,
             "ticks": ""
            },
            "colorscale": [
             [
              0,
              "#0d0887"
             ],
             [
              0.1111111111111111,
              "#46039f"
             ],
             [
              0.2222222222222222,
              "#7201a8"
             ],
             [
              0.3333333333333333,
              "#9c179e"
             ],
             [
              0.4444444444444444,
              "#bd3786"
             ],
             [
              0.5555555555555556,
              "#d8576b"
             ],
             [
              0.6666666666666666,
              "#ed7953"
             ],
             [
              0.7777777777777778,
              "#fb9f3a"
             ],
             [
              0.8888888888888888,
              "#fdca26"
             ],
             [
              1,
              "#f0f921"
             ]
            ],
            "type": "heatmapgl"
           }
          ],
          "histogram": [
           {
            "marker": {
             "pattern": {
              "fillmode": "overlay",
              "size": 10,
              "solidity": 0.2
             }
            },
            "type": "histogram"
           }
          ],
          "histogram2d": [
           {
            "colorbar": {
             "outlinewidth": 0,
             "ticks": ""
            },
            "colorscale": [
             [
              0,
              "#0d0887"
             ],
             [
              0.1111111111111111,
              "#46039f"
             ],
             [
              0.2222222222222222,
              "#7201a8"
             ],
             [
              0.3333333333333333,
              "#9c179e"
             ],
             [
              0.4444444444444444,
              "#bd3786"
             ],
             [
              0.5555555555555556,
              "#d8576b"
             ],
             [
              0.6666666666666666,
              "#ed7953"
             ],
             [
              0.7777777777777778,
              "#fb9f3a"
             ],
             [
              0.8888888888888888,
              "#fdca26"
             ],
             [
              1,
              "#f0f921"
             ]
            ],
            "type": "histogram2d"
           }
          ],
          "histogram2dcontour": [
           {
            "colorbar": {
             "outlinewidth": 0,
             "ticks": ""
            },
            "colorscale": [
             [
              0,
              "#0d0887"
             ],
             [
              0.1111111111111111,
              "#46039f"
             ],
             [
              0.2222222222222222,
              "#7201a8"
             ],
             [
              0.3333333333333333,
              "#9c179e"
             ],
             [
              0.4444444444444444,
              "#bd3786"
             ],
             [
              0.5555555555555556,
              "#d8576b"
             ],
             [
              0.6666666666666666,
              "#ed7953"
             ],
             [
              0.7777777777777778,
              "#fb9f3a"
             ],
             [
              0.8888888888888888,
              "#fdca26"
             ],
             [
              1,
              "#f0f921"
             ]
            ],
            "type": "histogram2dcontour"
           }
          ],
          "mesh3d": [
           {
            "colorbar": {
             "outlinewidth": 0,
             "ticks": ""
            },
            "type": "mesh3d"
           }
          ],
          "parcoords": [
           {
            "line": {
             "colorbar": {
              "outlinewidth": 0,
              "ticks": ""
             }
            },
            "type": "parcoords"
           }
          ],
          "pie": [
           {
            "automargin": true,
            "type": "pie"
           }
          ],
          "scatter": [
           {
            "fillpattern": {
             "fillmode": "overlay",
             "size": 10,
             "solidity": 0.2
            },
            "type": "scatter"
           }
          ],
          "scatter3d": [
           {
            "line": {
             "colorbar": {
              "outlinewidth": 0,
              "ticks": ""
             }
            },
            "marker": {
             "colorbar": {
              "outlinewidth": 0,
              "ticks": ""
             }
            },
            "type": "scatter3d"
           }
          ],
          "scattercarpet": [
           {
            "marker": {
             "colorbar": {
              "outlinewidth": 0,
              "ticks": ""
             }
            },
            "type": "scattercarpet"
           }
          ],
          "scattergeo": [
           {
            "marker": {
             "colorbar": {
              "outlinewidth": 0,
              "ticks": ""
             }
            },
            "type": "scattergeo"
           }
          ],
          "scattergl": [
           {
            "marker": {
             "colorbar": {
              "outlinewidth": 0,
              "ticks": ""
             }
            },
            "type": "scattergl"
           }
          ],
          "scattermapbox": [
           {
            "marker": {
             "colorbar": {
              "outlinewidth": 0,
              "ticks": ""
             }
            },
            "type": "scattermapbox"
           }
          ],
          "scatterpolar": [
           {
            "marker": {
             "colorbar": {
              "outlinewidth": 0,
              "ticks": ""
             }
            },
            "type": "scatterpolar"
           }
          ],
          "scatterpolargl": [
           {
            "marker": {
             "colorbar": {
              "outlinewidth": 0,
              "ticks": ""
             }
            },
            "type": "scatterpolargl"
           }
          ],
          "scatterternary": [
           {
            "marker": {
             "colorbar": {
              "outlinewidth": 0,
              "ticks": ""
             }
            },
            "type": "scatterternary"
           }
          ],
          "surface": [
           {
            "colorbar": {
             "outlinewidth": 0,
             "ticks": ""
            },
            "colorscale": [
             [
              0,
              "#0d0887"
             ],
             [
              0.1111111111111111,
              "#46039f"
             ],
             [
              0.2222222222222222,
              "#7201a8"
             ],
             [
              0.3333333333333333,
              "#9c179e"
             ],
             [
              0.4444444444444444,
              "#bd3786"
             ],
             [
              0.5555555555555556,
              "#d8576b"
             ],
             [
              0.6666666666666666,
              "#ed7953"
             ],
             [
              0.7777777777777778,
              "#fb9f3a"
             ],
             [
              0.8888888888888888,
              "#fdca26"
             ],
             [
              1,
              "#f0f921"
             ]
            ],
            "type": "surface"
           }
          ],
          "table": [
           {
            "cells": {
             "fill": {
              "color": "#EBF0F8"
             },
             "line": {
              "color": "white"
             }
            },
            "header": {
             "fill": {
              "color": "#C8D4E3"
             },
             "line": {
              "color": "white"
             }
            },
            "type": "table"
           }
          ]
         },
         "layout": {
          "annotationdefaults": {
           "arrowcolor": "#2a3f5f",
           "arrowhead": 0,
           "arrowwidth": 1
          },
          "autotypenumbers": "strict",
          "coloraxis": {
           "colorbar": {
            "outlinewidth": 0,
            "ticks": ""
           }
          },
          "colorscale": {
           "diverging": [
            [
             0,
             "#8e0152"
            ],
            [
             0.1,
             "#c51b7d"
            ],
            [
             0.2,
             "#de77ae"
            ],
            [
             0.3,
             "#f1b6da"
            ],
            [
             0.4,
             "#fde0ef"
            ],
            [
             0.5,
             "#f7f7f7"
            ],
            [
             0.6,
             "#e6f5d0"
            ],
            [
             0.7,
             "#b8e186"
            ],
            [
             0.8,
             "#7fbc41"
            ],
            [
             0.9,
             "#4d9221"
            ],
            [
             1,
             "#276419"
            ]
           ],
           "sequential": [
            [
             0,
             "#0d0887"
            ],
            [
             0.1111111111111111,
             "#46039f"
            ],
            [
             0.2222222222222222,
             "#7201a8"
            ],
            [
             0.3333333333333333,
             "#9c179e"
            ],
            [
             0.4444444444444444,
             "#bd3786"
            ],
            [
             0.5555555555555556,
             "#d8576b"
            ],
            [
             0.6666666666666666,
             "#ed7953"
            ],
            [
             0.7777777777777778,
             "#fb9f3a"
            ],
            [
             0.8888888888888888,
             "#fdca26"
            ],
            [
             1,
             "#f0f921"
            ]
           ],
           "sequentialminus": [
            [
             0,
             "#0d0887"
            ],
            [
             0.1111111111111111,
             "#46039f"
            ],
            [
             0.2222222222222222,
             "#7201a8"
            ],
            [
             0.3333333333333333,
             "#9c179e"
            ],
            [
             0.4444444444444444,
             "#bd3786"
            ],
            [
             0.5555555555555556,
             "#d8576b"
            ],
            [
             0.6666666666666666,
             "#ed7953"
            ],
            [
             0.7777777777777778,
             "#fb9f3a"
            ],
            [
             0.8888888888888888,
             "#fdca26"
            ],
            [
             1,
             "#f0f921"
            ]
           ]
          },
          "colorway": [
           "#636efa",
           "#EF553B",
           "#00cc96",
           "#ab63fa",
           "#FFA15A",
           "#19d3f3",
           "#FF6692",
           "#B6E880",
           "#FF97FF",
           "#FECB52"
          ],
          "font": {
           "color": "#2a3f5f"
          },
          "geo": {
           "bgcolor": "white",
           "lakecolor": "white",
           "landcolor": "#E5ECF6",
           "showlakes": true,
           "showland": true,
           "subunitcolor": "white"
          },
          "hoverlabel": {
           "align": "left"
          },
          "hovermode": "closest",
          "mapbox": {
           "style": "light"
          },
          "paper_bgcolor": "white",
          "plot_bgcolor": "#E5ECF6",
          "polar": {
           "angularaxis": {
            "gridcolor": "white",
            "linecolor": "white",
            "ticks": ""
           },
           "bgcolor": "#E5ECF6",
           "radialaxis": {
            "gridcolor": "white",
            "linecolor": "white",
            "ticks": ""
           }
          },
          "scene": {
           "xaxis": {
            "backgroundcolor": "#E5ECF6",
            "gridcolor": "white",
            "gridwidth": 2,
            "linecolor": "white",
            "showbackground": true,
            "ticks": "",
            "zerolinecolor": "white"
           },
           "yaxis": {
            "backgroundcolor": "#E5ECF6",
            "gridcolor": "white",
            "gridwidth": 2,
            "linecolor": "white",
            "showbackground": true,
            "ticks": "",
            "zerolinecolor": "white"
           },
           "zaxis": {
            "backgroundcolor": "#E5ECF6",
            "gridcolor": "white",
            "gridwidth": 2,
            "linecolor": "white",
            "showbackground": true,
            "ticks": "",
            "zerolinecolor": "white"
           }
          },
          "shapedefaults": {
           "line": {
            "color": "#2a3f5f"
           }
          },
          "ternary": {
           "aaxis": {
            "gridcolor": "white",
            "linecolor": "white",
            "ticks": ""
           },
           "baxis": {
            "gridcolor": "white",
            "linecolor": "white",
            "ticks": ""
           },
           "bgcolor": "#E5ECF6",
           "caxis": {
            "gridcolor": "white",
            "linecolor": "white",
            "ticks": ""
           }
          },
          "title": {
           "x": 0.05
          },
          "xaxis": {
           "automargin": true,
           "gridcolor": "white",
           "linecolor": "white",
           "ticks": "",
           "title": {
            "standoff": 15
           },
           "zerolinecolor": "white",
           "zerolinewidth": 2
          },
          "yaxis": {
           "automargin": true,
           "gridcolor": "white",
           "linecolor": "white",
           "ticks": "",
           "title": {
            "standoff": 15
           },
           "zerolinecolor": "white",
           "zerolinewidth": 2
          }
         }
        },
        "xaxis": {
         "anchor": "y",
         "domain": [
          0,
          1
         ],
         "title": {
          "text": "Country"
         }
        },
        "yaxis": {
         "anchor": "x",
         "domain": [
          0,
          1
         ],
         "title": {
          "text": "value"
         }
        }
       }
      }
     },
     "metadata": {},
     "output_type": "display_data"
    }
   ],
   "source": [
    "px.line(south_a_p)"
   ]
  },
  {
   "cell_type": "markdown",
   "metadata": {},
   "source": [
    "South America : in general the average happiness score between 3.5 till 7.3 less country >Guinea** high country > Costa Rica**"
   ]
  },
  {
   "cell_type": "markdown",
   "metadata": {},
   "source": [
    "Analysis Results 💥🙌\n",
    "\n",
    "The Shape DataSet = (792, 13)\n",
    "\n",
    "No duplicate value in DateSet\n",
    "\n",
    "No missing value in DateSet\n",
    "\n",
    "We have 792 Rows and 13 Columns\n",
    "\n",
    "We have countries = 132\n",
    "\n",
    "Continent-- Avg happiness score\n",
    "\n",
    "Africa --> 4.35\n",
    "\n",
    "Asia --> 5.26\n",
    "\n",
    "South America --> 5.86\n",
    "\n",
    "Europe --> 6.19\n",
    "\n",
    "North America --> 7\n",
    "\n",
    "Australia --> 7.28\n",
    "\n",
    "We see the highest continent to lowest continent ( Happy ) 1- Australia 2- North America 3- Europe 4- South America 5- Asia 6- Afica\n",
    "\n",
    "All continent don`t has more different in happiness in 5 years but the North America in 2016 had increase score but then in decreasing**\n",
    "\n",
    "Less happiness score 😪\n",
    "​\n",
    "😪 2015 > Burundi , Tanzania , Rwanda , Togo , Guinea​\n",
    "\n",
    "😪 2016 > Togo , Burundi , Benin , Rwanda , Afghanistan​\n",
    "\n",
    "😪 2017 > Afghanistan , Tanzania , Rwanda , Yemen , Malawi​\n",
    "\n",
    "😪 2018 > Burundi , Tanzania ,Yemen , Rwanda , Liberia\n",
    "​\n",
    "😪 2019 > Burundi, Togo , Afghanistan , Benin , Rwanda\n",
    "​\n",
    "😪 2020 > Afghanistan , Zimbabwe , Rwanda ,Tanzania ,Botswana​\n",
    "High happiness score 😄\n",
    "\n",
    "😄 2015 > Finland , Iceland , Denmark ,Norway\n",
    "​\n",
    "😄 2016 > Canada , Norway , Denmark , Iceland , Switzerland\n",
    "​\n",
    "😄 2017 > Netherlands , Iceland , Norway , Denmark , Finland​\n",
    "\n",
    "😄 2018 > Switzerland , Iceland , Denmark , Norway , Finland​\n",
    "\n",
    "😄 2019 > Finland , Norway , Iceland , Switzerland , Denmark​\n",
    "\n",
    "😄 2020 > Norway , Iceland , Switzerland , Denmark , Finland\n",
    "\n",
    "✔️ Africa : in general the average happiness score between 2.9 till 5 less country >Burundi high country > Algeria\n",
    "\n",
    "✔️ Asia : in general the average happiness score between 3.5 till 7.2 less country >Yemen high country > Israel\n",
    "\n",
    "✔️ Australia : in general the average happiness score between 7.2 till 7.3 both counrty Australia and New Zealand\n",
    "\n",
    "✔️ Europe : in general the average happiness score between 4 till 7.5 less country >Ukraine high country > Norway and Denmark\n",
    "\n",
    "✔️ North America : in general the average happiness score between 6.4 till 7.4 less country >Mexico high country > United States and Canada\n",
    "\n",
    "✔️ South America : in general the average happiness score between 3.5 till 7.3 less country >Guinea high country > Costa Rica"
   ]
  },
  {
   "cell_type": "markdown",
   "metadata": {},
   "source": []
  }
 ],
 "metadata": {
  "kernelspec": {
   "display_name": "Python 3.10.6 ('kaggle')",
   "language": "python",
   "name": "python3"
  },
  "language_info": {
   "codemirror_mode": {
    "name": "ipython",
    "version": 3
   },
   "file_extension": ".py",
   "mimetype": "text/x-python",
   "name": "python",
   "nbconvert_exporter": "python",
   "pygments_lexer": "ipython3",
   "version": "3.10.6"
  },
  "orig_nbformat": 4,
  "vscode": {
   "interpreter": {
    "hash": "068626e85a48787ce97189761ac2d7ebf2141cb0a7d9f676d973921e98e1a9ac"
   }
  }
 },
 "nbformat": 4,
 "nbformat_minor": 2
}
